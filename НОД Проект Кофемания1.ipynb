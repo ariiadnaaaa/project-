{
  "nbformat": 4,
  "nbformat_minor": 0,
  "metadata": {
    "colab": {
      "provenance": []
    },
    "kernelspec": {
      "name": "python3",
      "display_name": "Python 3"
    },
    "language_info": {
      "name": "python"
    }
  },
  "cells": [
    {
      "cell_type": "code",
      "execution_count": 1,
      "metadata": {
        "id": "RWwawwlCrVSD"
      },
      "outputs": [],
      "source": [
        "import pandas as pd    # ура скачаем все что можно\n",
        "import numpy as np\n",
        "import matplotlib.pyplot as plt\n",
        "import seaborn as sns\n",
        "from bs4 import BeautifulSoup\n",
        "import requests\n",
        "import re\n",
        "import plotly.express as px\n",
        "from geopy.geocoders import Nominatim\n",
        "from time import sleep\n",
        "from tqdm import tqdm  # Прогресс-бар\n",
        "from geopy.exc import GeocoderTimedOut"
      ]
    },
    {
      "cell_type": "code",
      "source": [
        "# Спарсим кофеманию (адреса и метро)\n",
        "\n",
        "url = \"https://coffeemania.ru/restaurants?utm_source=mini\"  # Укажи правильный URL\n",
        "headers = {\"User-Agent\": \"Mozilla/5.0\"}\n",
        "\n",
        "response = requests.get(url, headers=headers)\n",
        "soup = BeautifulSoup(response.text, \"html.parser\")\n",
        "\n",
        "# Найдем все блоки с информацией о ресторанах\n",
        "restaurants = soup.find_all(\"div\", class_=\"address\")\n",
        "restaurants_metro = soup.find_all(\"div\", class_=\"metro\")\n",
        "\n",
        "restaurants_metro_clean = []\n",
        "restaurants_clean = []\n",
        "\n",
        "for metro in restaurants_metro:\n",
        "    metro_text = metro.text.strip() if metro else \"Нет метро\"\n",
        "    restaurants_metro_clean.append(metro_text)\n",
        "\n",
        "for rest in restaurants:\n",
        "    address_text = rest.text.strip() if rest else \"Нет адреса\"\n",
        "    restaurants_clean.append(address_text)\n",
        "\n",
        "restaurants_clean\n",
        "\n",
        "print(soup.prettify()) # И тут мы узнали, что пора врубать селениум, потому что просто так кофемания не парсится"
      ],
      "metadata": {
        "colab": {
          "base_uri": "https://localhost:8080/"
        },
        "id": "WauNelWf1FIU",
        "outputId": "f4806e1d-e7d1-4751-8cc0-5e6935a3a492"
      },
      "execution_count": 6,
      "outputs": [
        {
          "output_type": "stream",
          "name": "stdout",
          "text": [
            "<!DOCTYPE html>\n",
            "<html lang=\"en-US\">\n",
            " <head>\n",
            "  <title>\n",
            "   Just a moment...\n",
            "  </title>\n",
            "  <meta content=\"text/html; charset=utf-8\" http-equiv=\"Content-Type\"/>\n",
            "  <meta content=\"IE=Edge\" http-equiv=\"X-UA-Compatible\"/>\n",
            "  <meta content=\"noindex,nofollow\" name=\"robots\"/>\n",
            "  <meta content=\"width=device-width,initial-scale=1\" name=\"viewport\"/>\n",
            "  <style>\n",
            "   *{box-sizing:border-box;margin:0;padding:0}html{line-height:1.15;-webkit-text-size-adjust:100%;color:#313131;font-family:system-ui,-apple-system,BlinkMacSystemFont,Segoe UI,Roboto,Helvetica Neue,Arial,Noto Sans,sans-serif,Apple Color Emoji,Segoe UI Emoji,Segoe UI Symbol,Noto Color Emoji}body{display:flex;flex-direction:column;height:100vh;min-height:100vh}.main-content{margin:8rem auto;max-width:60rem;padding-left:1.5rem}@media (width <= 720px){.main-content{margin-top:4rem}}.h2{font-size:1.5rem;font-weight:500;line-height:2.25rem}@media (width <= 720px){.h2{font-size:1.25rem;line-height:1.5rem}}#challenge-error-text{background-image:url(data:image/svg+xml;base64,PHN2ZyB4bWxucz0iaHR0cDovL3d3dy53My5vcmcvMjAwMC9zdmciIHdpZHRoPSIzMiIgaGVpZ2h0PSIzMiIgZmlsbD0ibm9uZSI+PHBhdGggZmlsbD0iI0IyMEYwMyIgZD0iTTE2IDNhMTMgMTMgMCAxIDAgMTMgMTNBMTMuMDE1IDEzLjAxNSAwIDAgMCAxNiAzbTAgMjRhMTEgMTEgMCAxIDEgMTEtMTEgMTEuMDEgMTEuMDEgMCAwIDEtMTEgMTEiLz48cGF0aCBmaWxsPSIjQjIwRjAzIiBkPSJNMTcuMDM4IDE4LjYxNUgxNC44N0wxNC41NjMgOS41aDIuNzgzem0tMS4wODQgMS40MjdxLjY2IDAgMS4wNTcuMzg4LjQwNy4zODkuNDA3Ljk5NCAwIC41OTYtLjQwNy45ODQtLjM5Ny4zOS0xLjA1Ny4zODktLjY1IDAtMS4wNTYtLjM4OS0uMzk4LS4zODktLjM5OC0uOTg0IDAtLjU5Ny4zOTgtLjk4NS40MDYtLjM5NyAxLjA1Ni0uMzk3Ii8+PC9zdmc+);background-repeat:no-repeat;background-size:contain;padding-left:34px}@media (prefers-color-scheme:dark){body{background-color:#222;color:#d9d9d9}}\n",
            "  </style>\n",
            "  <meta content=\"390\" http-equiv=\"refresh\"/>\n",
            " </head>\n",
            " <body class=\"no-js\">\n",
            "  <div class=\"main-wrapper\" role=\"main\">\n",
            "   <div class=\"main-content\">\n",
            "    <noscript>\n",
            "     <div class=\"h2\">\n",
            "      <span id=\"challenge-error-text\">\n",
            "       Enable JavaScript and cookies to continue\n",
            "      </span>\n",
            "     </div>\n",
            "    </noscript>\n",
            "   </div>\n",
            "  </div>\n",
            "  <script>\n",
            "   (function(){window._cf_chl_opt={cvId: '3',cZone: \"coffeemania.ru\",cType: 'managed',cRay: '9235a43b1b0405a0',cH: 'fmqSVO439BDXlfk.Hv9UaF3s22QkKoczb8EUduDcpBE-1742478237-1.2.1.1-1HewR5W.330QytAhJWdHQT0Gw5pQVRZfQG.y2ul.UU21g4h0TzNbTwKBoK.B0DFn',cUPMDTk: \"\\/restaurants?utm_source=mini&__cf_chl_tk=K8ITAuaDdGFUd56Cl0ZO3jqzuZBQ0pEtRHgncdl.Eg0-1742478237-1.0.1.1-w563Vpy79G5I3_BWoyw.UK.8bLdNmfYqp1xWrDC0Ljo\",cFPWv: 'b',cITimeS: '1742478237',cTTimeMs: '1000',cMTimeMs: '390000',cTplC: 0,cTplV: 5,cTplB: 'cf',cK: \"\",fa: \"\\/restaurants?utm_source=mini&__cf_chl_f_tk=K8ITAuaDdGFUd56Cl0ZO3jqzuZBQ0pEtRHgncdl.Eg0-1742478237-1.0.1.1-w563Vpy79G5I3_BWoyw.UK.8bLdNmfYqp1xWrDC0Ljo\",md: \"1NXHLruCYZjJtvVM.UYhz2s7enYfdp.XSawGLAl.y.w-1742478237-1.2.1.1-xkDODKGe0FQQKo6GoJd3R9X2EoelQjUgspaetC5B6g7Z0oKRqjjXIprJ.sZ7zkJ8l9vj2Z6B5H9z.Ljla9TRt8JV4WmSpHxjpZigdnksGY3QC9ATS_ELV96dq1uUVja1ycIvPfn2D9OnduXDTYFOS7KZVmC7dO8z4iiDgk_1CvfDBa_YJx56C6O58uToPvUkLB3N1UVTsxddwbS_hk.EB21vgVibiMwPnh6_aYn3d_vM8oNsoabkdhG3Q5X5qyxYuzHUrOem7peG7LI0T25qjNDWi3CgolDQGfdadCo4siPKOAT4XEeyksQdg2AmN08hi8dV4x475dEvb.yriHmoY2WQ3zOwdc2K8Ac0iV7Eu6mYpGZWntoRoIYNXRTTpsdyb5g56utjr4oULUObR83F6d6COUu_OHjAVOrPPSz.r8KVDptOehKwrsUKT.qgfcRgnMEl2ckHHYRT5j95cZaWPtMJiSVj9fbcFnpfl4A3BNUA9usIMgByf6Y_7C9s3GtHue59p7bIGcuCrQXCkMD2qM5wq4sA7Dh.bqzMgEEkBN9me2_qEg5XUnyGhVJ3w78wmInEJWqo.USV0aw9Ui9EzbImtl2rVaEgtMFXTVp9UB9KiO_WpgHO4f5pMGVAAclot97h8p4Ts7SfIFAGfCIUVL8orUvsY6ujGzYPD7TJETYSLimoKT3UbDVkhoLgwDvJYgzO0EPEbdkid9Sj4MJc1iFpytWIrg2gYq4hfSD0Ib1D4PZlGlzV8iul_ckmM.Ze8aiJytKDzMBoy4yr0fok6QTtUbMXl0Sz.YuKkh0jVJP2R0YAfuBnzuBa_p6H4j8kr2518vTrs5SRze8Fq8HAIPsM4vfqk2OPJw4WJ5auiaf5jHOg98iTyuIiiS74VP4guUIc06bYGxcVndN611DmRMWxZmgiVIp.2heW7go.1nBoIIzncvhVjgEkgv7orgVYCNC8BFBxXzASlI2KJmk6qXY5AFXcuYOI45a.PU9UmRDMgMtJDzQDOPscPnddPvPjkDW4EOgnGoS8CwZuI1sogIBJKCJmNqpGknDRFwLuRzoCMbwTmqNeyRPE_GYsgdEnNMnz4_31vyGq3ldzkgghGw\",mdrd: \"bBnR7n1ckOXYTL0H0WtKmiPuLDYf6TxBSZmYgm5v2Ns-1742478237-1.2.1.1-kNXlcx1bIN2rS.i9X4QUn40QM9NOwFPmKRtkJpaTIHTyU8Vovjjv4nO0jMrQFeNSNnwcelcBUbxNtiG0LeJI_CSJlDxSYgCvkRE5kVRyxGhzMvXRCEqV0bvvyVYYeccQqF5I4EKGVucEA516IaazAWlKHiequ4nwyma7AVUJOqLVBjf5LLcviji_tWcS14.CA8EI6H3to26n2U5Ou2ILSubC99VKev3NieZsanzq.AN7UQc9zap4LiGoCtMNZDp5QzLBBBSFRj.NXXqTO93W7Ws1ql1463XIIrzdMKbW1QATcJNaiA0EA_ldwOsVhbiDLtbnkq32b1yqkDkb6Pk1WkhY9sMIXRJdaymhriEDSjAtloRFi9p7eqd6QZsoMKiUOAg195V2yIZuEDVd.HAxL3GeVEGW9Wu6lynlN60HkSu.tIZi2dIpuJkqIOQe76POYqHpkYNEvK6W37ym4gENxkdxxmTouL2h_qsnRSNo__00ZceZ4Z4junYOxSkZz06ufGReV2eVeaHNPltKIewa2RqB3luScPUNzd9p8cUtVLD3r.iYTEBr4Mfs9JCWobUZicvhd.tg55OF1lT79_VPn1Mblx9PZGocYYUqieezoz5k8ITd81Y7XvTsRBefPI1mT5J9l6t2WIeFpGZVoeFQsU3UwQydOb5KQDGwI6g67HoIdsDxTBdkYf.NJAl3CD8X2KGGYL2HMDBwbwfnkbjeeL693LSSr8ZNRReFtGb9HkNmBVU6kZnazvqC9jAUjMLcc_vvJSzOBZzn0HPRuZcOI3D3QED4.4FpMFgGkfqTG9ut7WjvtLTkrLjQVd_6EWl5YXtnNy2whEEY8Pd3yIS8A1npL90G14ViRbc8DQVWdnBDWgy2FWqqA52mCKJ249VjA73P2xALmOs9iTfEHFp5JPDIdF.AbJt6W0bcK4X8CWnFo5weolZlrHTOyOzyaMqZLF55Hewy9tzbpLzMQyQJT5vlJOJdb2g1wTR_aG3.pyYd11j8wbu.mNIGwddD1dSGPuraFEnN.69psCuXZ1eoSDD9hUTEEpgACZZ5jl1WpkkeLsHPzn8PsqOz1BNIVe1ZXJ3RDYrH3._0qIAC1FdTuJrTPn2YWCJ3uE4x9M882oh.b5A3KoxS_tTo6S9q4BBucdb3Y5YCbnN_mkXiw.rrI8h4UpWVQ3rTAM9IRfVY0BaJiqAYuCva27JZjagJ62Ofj5JqFi94t3spJNJzdC3i48T4g_tcqKnM0FpcyGAm6YOLLVUAAvJJB5DVzxR9eaYjpd9V8pmHv63i3TIB_Jxi_Ic8_u3wlTJPNdnjxJb19hHyJNHhtGhHD1VHAj.JKnVG..mj1h6iGqhiCsfr9TWetCxjep9XNbJyKKgZ_FRcfSlvScAL92HqBjBiGxQpqHe6r6GNN1.PC2Yqk613hregid2.Cln2H_iaMaFlawOVoLz8FpSMwI5uN9B.E1kDgH2fjz1se_wIIITgGlW5sLLOuI7hyFvtJlr.N0Oxm5MuoWx4vzeu1U7weaFgErTV6lIXDjB0bcXZmtxpNYV_5lFX1AhcndH76Dby_8FE38XrWCdNod_5W743yvSXHkpnYdZzEE3JDXx_2Y8a9kMn5RlykdntVvhdEckwj2L59V1EqDdWr3EJEWL9_B2tY_TIDl7XN4L53Wg4pZdUBAeII13f1Y9yaqGu7WwPdvhZh4ugG06WcxMkCtxtnxYI5.F8HGszd7xKLaEk2nXlsncJoNUYjKS8otkv.H7Lk0AgC8IglzU_bsir0mcU2QtbJ1wFV9LbgvvaW.xTMYR.33T_84JhasStFYXg.YYSszbpQJaTUZtuYs3SeORqQkIT7grKeYib6JOSJ9W5utgI0ENLwlbzSP4MoLIvDS9ph4H1rqhFrmismqzzce5Cmt3ahktdo41p9yBhDtKqEAl39JhomD3OkjYlmKPlvT0bJAx.dSxc7zueO8OGv7oORa96bdjIrPA_Q32o0_uEQdNa7_EL24K969VF5cIJQypy9uv6tEsk2ttNV3sRAi7mQUU5ejutOAKPoHB_vx4EpP7B6s0netlAX.MNfGdjItvB2r07Wa89J5_BPptZg_Y0z5Jlng0v3PPkFJLlQPABUeYt5Jl3a7lMUJWiEU8ae9iTTChRKleiLnVfKgjDwllFQjUBbrGL4sW3F6ZDeI3DEkw_w1BVxeWPMI_1nDLslm.M2V2APA_XnCRNTlQbmd.prISQwwSr2nnfD7bwzzqpGzkyfens_0oV42OB2w2a8dnagBNtXTs_N_3Ak467g7kjoPV9yveLrHnc\"};var cpo = document.createElement('script');cpo.src = '/cdn-cgi/challenge-platform/h/b/orchestrate/chl_page/v1?ray=9235a43b1b0405a0';window._cf_chl_opt.cOgUHash = location.hash === '' && location.href.indexOf('#') !== -1 ? '#' : location.hash;window._cf_chl_opt.cOgUQuery = location.search === '' && location.href.slice(0, location.href.length - window._cf_chl_opt.cOgUHash.length).indexOf('?') !== -1 ? '?' : location.search;if (window.history && window.history.replaceState) {var ogU = location.pathname + window._cf_chl_opt.cOgUQuery + window._cf_chl_opt.cOgUHash;history.replaceState(null, null, \"\\/restaurants?utm_source=mini&__cf_chl_rt_tk=K8ITAuaDdGFUd56Cl0ZO3jqzuZBQ0pEtRHgncdl.Eg0-1742478237-1.0.1.1-w563Vpy79G5I3_BWoyw.UK.8bLdNmfYqp1xWrDC0Ljo\" + window._cf_chl_opt.cOgUHash);cpo.onload = function() {history.replaceState(null, null, ogU);}}document.getElementsByTagName('head')[0].appendChild(cpo);}());\n",
            "  </script>\n",
            " </body>\n",
            "</html>\n",
            "\n"
          ]
        }
      ]
    },
    {
      "cell_type": "code",
      "source": [
        "# Спарсим surf coffee (адреса и метро)\n",
        "\n",
        "\n",
        "\n"
      ],
      "metadata": {
        "id": "Y4GOYXZjtjz5"
      },
      "execution_count": 5,
      "outputs": []
    }
  ]
}