{
 "cells": [
  {
   "cell_type": "code",
   "execution_count": 243,
   "id": "d675a398-5f50-49ad-a09d-d2b2d2c50861",
   "metadata": {},
   "outputs": [],
   "source": [
    "from selenium import webdriver\n",
    "from selenium.webdriver.common.by import By\n",
    "from selenium.webdriver.common.keys import Keys  # Импортируем Keys\n",
    "\n",
    "import time\n",
    "driver = webdriver.Safari() \n",
    "driver.get(\"https://www.avito.ru/moskva/rabota\") \n"
   ]
  },
  {
   "cell_type": "code",
   "execution_count": 244,
   "id": "fea579cb-aa65-4cdd-981a-33175e311296",
   "metadata": {},
   "outputs": [],
   "source": [
    "element = driver.find_element(By.ID, \"bx_search\") \n",
    "element.send_keys('Уборщик') \n",
    "element.send_keys(Keys.ENTER)\n"
   ]
  },
  {
   "cell_type": "code",
   "execution_count": 245,
   "id": "a2037089-5919-4f07-aa2b-4a4fddc0a983",
   "metadata": {},
   "outputs": [],
   "source": [
    "button = driver.find_element(By.CSS_SELECTOR, \"a[data-marker='category[1000061]/clickable']\")\n",
    "button.click()"
   ]
  },
  {
   "cell_type": "code",
   "execution_count": 250,
   "id": "1d934ab4-5201-42ea-9eab-d2393d1d285c",
   "metadata": {},
   "outputs": [],
   "source": [
    "from selenium.webdriver.common.action_chains import ActionChains\n",
    "\n",
    "actions = ActionChains(driver)\n",
    "actions.scroll_by_amount(delta_x=-50, delta_y=+500).perform()\n"
   ]
  },
  {
   "cell_type": "code",
   "execution_count": null,
   "id": "0c3cdf48-a8e8-4688-b9a2-b2a58ecf090b",
   "metadata": {},
   "outputs": [],
   "source": []
  },
  {
   "cell_type": "code",
   "execution_count": null,
   "id": "10484b26-2f4d-46a4-8554-1961f4063c3a",
   "metadata": {},
   "outputs": [],
   "source": []
  }
 ],
 "metadata": {
  "kernelspec": {
   "display_name": "Python 3 (ipykernel)",
   "language": "python",
   "name": "python3"
  },
  "language_info": {
   "codemirror_mode": {
    "name": "ipython",
    "version": 3
   },
   "file_extension": ".py",
   "mimetype": "text/x-python",
   "name": "python",
   "nbconvert_exporter": "python",
   "pygments_lexer": "ipython3",
   "version": "3.12.9"
  }
 },
 "nbformat": 4,
 "nbformat_minor": 5
}
