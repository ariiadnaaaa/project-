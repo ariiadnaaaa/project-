{
 "cells": [
  {
   "cell_type": "code",
   "execution_count": 136,
   "metadata": {
    "id": "Hbo4slJCj-t-"
   },
   "outputs": [],
   "source": [
    "from bs4 import BeautifulSoup\n",
    "import requests\n",
    "import pandas as pd\n",
    "import warnings\n",
    "warnings.filterwarnings(\"ignore\")"
   ]
  },
  {
   "cell_type": "code",
   "execution_count": 137,
   "metadata": {
    "colab": {
     "base_uri": "https://localhost:8080/",
     "height": 1000
    },
    "id": "1vrtxWwCV9fQ",
    "outputId": "8d2a3ccb-2ebd-4871-9c3e-f2415842770d"
   },
   "outputs": [
    {
     "name": "stdout",
     "output_type": "stream",
     "text": [
      "{'salary': '150000 ₽', 'experience': '8 лет 5 месяцев'}\n",
      "{'salary': '150000 ₽', 'experience': '13 лет 3 месяца'}\n",
      "{'salary': '50000 ₽', 'experience': '2 года 4 месяца'}\n",
      "{'salary': '150000 ₽', 'experience': '10 лет 1 месяц'}\n",
      "{'salary': '120000 ₽', 'experience': '8 лет 8 месяцев'}\n",
      "{'salary': '100000 ₽', 'experience': '7 лет'}\n",
      "{'salary': '100000 ₽', 'experience': '10 лет 3 месяца'}\n",
      "{'salary': '90000 ₽', 'experience': '3 года 10 месяцев'}\n",
      "{'salary': '120000 ₽', 'experience': '7 лет 7 месяцев'}\n",
      "{'salary': '115000 ₽', 'experience': '12 лет 7 месяцев'}\n",
      "{'salary': '80000 ₽', 'experience': '6 лет 8 месяцев'}\n",
      "{'salary': '150000 ₽', 'experience': '11 лет'}\n",
      "{'salary': '140000 ₽', 'experience': '7 лет 11 месяцев'}\n",
      "{'salary': '60000 ₽', 'experience': '4 года 2 месяца'}\n",
      "{'salary': '70000 ₽', 'experience': '8 лет 3 месяца'}\n",
      "{'salary': '80000 ₽', 'experience': '5 лет 6 месяцев'}\n",
      "{'salary': '30000 ₽', 'experience': 'Ответственность  •  Терпеливость  •  Пунктуальность  •  Желание работать  •  Грамотная речь  •  Чистоплотность  •  Желание учиться новому  •  Умение общаться с людьми  •  Легко обучаемая'}\n",
      "{'salary': '70000 ₽', 'experience': '10 лет 7 месяцев'}\n",
      "{'salary': '70000 ₽', 'experience': '4 года 10 месяцев'}\n",
      "{'salary': '60000 ₽', 'experience': '7 лет 4 месяца'}\n",
      "{'salary': '90000 ₽', 'experience': '7 лет 6 месяцев'}\n",
      "{'salary': '200000 ₽', 'experience': '8 лет 1 месяц'}\n",
      "{'salary': '100000 ₽', 'experience': '7 лет 4 месяца'}\n",
      "{'salary': '280000 ₽', 'experience': '8 лет 4 месяца'}\n",
      "{'salary': '50000 ₽', 'experience': '10 лет'}\n",
      "{'salary': '100000 ₽', 'experience': '5 лет 4 месяца'}\n",
      "{'salary': '160000 ₽', 'experience': '9 лет 7 месяцев'}\n",
      "{'salary': '75000 ₽', 'experience': '3 года 11 месяцев'}\n",
      "{'salary': '100000 ₽', 'experience': '14 лет 4 месяца'}\n",
      "{'salary': '100000 ₽', 'experience': '9 лет 11 месяцев'}\n",
      "{'salary': '200000 ₽', 'experience': '8 лет 6 месяцев'}\n",
      "{'salary': '120000 ₽', 'experience': '12 лет 7 месяцев'}\n",
      "{'salary': '85000 ₽', 'experience': '5 лет 8 месяцев'}\n",
      "{'salary': '110000 ₽', 'experience': '8 лет 3 месяца'}\n",
      "{'salary': '85000 ₽', 'experience': '1 год 11 месяцев'}\n",
      "{'salary': '100000 ₽', 'experience': '7 лет 8 месяцев'}\n",
      "{'salary': '45000 ₽', 'experience': '15 лет 4 месяца'}\n",
      "{'salary': '90000 ₽', 'experience': '5 лет 6 месяцев'}\n",
      "{'salary': '60000 ₽', 'experience': '7 лет 4 месяца'}\n",
      "{'salary': '85000 ₽', 'experience': '4 года 5 месяцев'}\n",
      "{'salary': '70000 ₽', 'experience': '22 года 6 месяцев'}\n",
      "{'salary': '120000 ₽', 'experience': '8 лет 9 месяцев'}\n",
      "{'salary': '120000 ₽', 'experience': '8 лет 11 месяцев'}\n",
      "{'salary': '45000 ₽', 'experience': '9 лет 7 месяцев'}\n",
      "{'salary': '120000 ₽', 'experience': '11 лет 9 месяцев'}\n",
      "{'salary': '100000 ₽', 'experience': '10 лет 5 месяцев'}\n",
      "{'salary': '40000 ₽', 'experience': '8 лет'}\n",
      "{'salary': '120000 ₽', 'experience': '8 лет 10 месяцев'}\n",
      "{'salary': '90000 ₽', 'experience': '7 лет 7 месяцев'}\n",
      "{'salary': '130000 ₽', 'experience': '4 года 9 месяцев'}\n",
      "{'salary': '100000 ₽', 'experience': '13 лет 9 месяцев'}\n",
      "{'salary': '90000 ₽', 'experience': '6 лет 1 месяц'}\n",
      "{'salary': '100000 ₽', 'experience': '4 года 11 месяцев'}\n",
      "{'salary': '150000 ₽', 'experience': '5 лет 4 месяца'}\n",
      "{'salary': '40000 ₽', 'experience': '2 года 10 месяцев'}\n",
      "{'salary': '80000 ₽', 'experience': '17 лет 3 месяца'}\n",
      "{'salary': '110000 ₽', 'experience': '7 лет 2 месяца'}\n",
      "{'salary': '90000 ₽', 'experience': '2 года 5 месяцев'}\n",
      "{'salary': '90000 ₽', 'experience': '10 лет 4 месяца'}\n",
      "{'salary': '100000 ₽', 'experience': '19 лет 5 месяцев'}\n",
      "{'salary': '110000 ₽', 'experience': '7 лет 7 месяцев'}\n",
      "{'salary': '120000 ₽', 'experience': '11 лет'}\n",
      "{'salary': '120000 ₽', 'experience': '8 лет 1 месяц'}\n",
      "{'salary': '100000 ₽', 'experience': '6 лет 4 месяца'}\n",
      "{'salary': '100000 ₽', 'experience': '6 лет 3 месяца'}\n",
      "{'salary': '90000 ₽', 'experience': '4 года 10 месяцев'}\n",
      "{'salary': '100000 ₽', 'experience': '7 лет 9 месяцев'}\n",
      "{'salary': '85000 ₽', 'experience': '12 лет 4 месяца'}\n",
      "{'salary': '130000 ₽', 'experience': '6 лет 10 месяцев'}\n",
      "{'salary': '180000 ₽', 'experience': '9 лет 5 месяцев'}\n",
      "{'salary': '80000 ₽', 'experience': '4 года 10 месяцев'}\n",
      "{'salary': '100000 ₽', 'experience': '11 лет 6 месяцев'}\n",
      "{'salary': '120000 ₽', 'experience': '7 лет 3 месяца'}\n",
      "{'salary': '150000 ₽', 'experience': '8 лет 2 месяца'}\n",
      "{'salary': '70000 ₽', 'experience': '4 года'}\n",
      "{'salary': '50000 ₽', 'experience': '5 лет'}\n",
      "{'salary': '100000 ₽', 'experience': '12 лет 6 месяцев'}\n",
      "{'salary': '180000 ₽', 'experience': '5 лет 7 месяцев'}\n",
      "{'salary': '100000 ₽', 'experience': '8 лет 6 месяцев'}\n",
      "{'salary': '85000 ₽', 'experience': '9 лет 3 месяца'}\n",
      "{'salary': '85000 ₽', 'experience': '6 лет 10 месяцев'}\n",
      "{'salary': '200000 ₽', 'experience': '5 лет 10 месяцев'}\n",
      "{'salary': '120000 ₽', 'experience': '8 лет 8 месяцев'}\n",
      "{'salary': '60000 ₽', 'experience': '9 лет 10 месяцев'}\n",
      "{'salary': '150000 ₽', 'experience': '12 лет 11 месяцев'}\n",
      "{'salary': '100000 ₽', 'experience': '17 лет 10 месяцев'}\n",
      "{'salary': '150000 ₽', 'experience': '10 лет 3 месяца'}\n",
      "{'salary': '150000 ₽', 'experience': '7 лет 5 месяцев'}\n",
      "{'salary': '80000 ₽', 'experience': '10 лет 5 месяцев'}\n",
      "{'salary': '130000 ₽', 'experience': '7 лет'}\n",
      "{'salary': '120000 ₽', 'experience': '9 лет 1 месяц'}\n",
      "{'salary': '100000 ₽', 'experience': '4 года 2 месяца'}\n",
      "{'salary': '80000 ₽', 'experience': '10 лет 1 месяц'}\n",
      "{'salary': '50000 ₽', 'experience': '9 лет 4 месяца'}\n",
      "{'salary': '50000 ₽', 'experience': '10 месяцев'}\n",
      "{'salary': '150000 ₽', 'experience': '9 лет 9 месяцев'}\n",
      "{'salary': '150000 ₽', 'experience': '6 лет 4 месяца'}\n",
      "{'salary': '150000 ₽', 'experience': '6 лет 5 месяцев'}\n",
      "{'salary': '400000 ₽', 'experience': '14 лет 6 месяцев'}\n",
      "{'salary': '120000 ₽', 'experience': '6 лет 10 месяцев'}\n",
      "{'salary': '250000 ₽', 'experience': '12 лет 5 месяцев'}\n"
     ]
    },
    {
     "data": {
      "text/html": [
       "<div>\n",
       "<style scoped>\n",
       "    .dataframe tbody tr th:only-of-type {\n",
       "        vertical-align: middle;\n",
       "    }\n",
       "\n",
       "    .dataframe tbody tr th {\n",
       "        vertical-align: top;\n",
       "    }\n",
       "\n",
       "    .dataframe thead th {\n",
       "        text-align: right;\n",
       "    }\n",
       "</style>\n",
       "<table border=\"1\" class=\"dataframe\">\n",
       "  <thead>\n",
       "    <tr style=\"text-align: right;\">\n",
       "      <th></th>\n",
       "      <th>0</th>\n",
       "      <th>1</th>\n",
       "      <th>2</th>\n",
       "      <th>3</th>\n",
       "      <th>4</th>\n",
       "      <th>5</th>\n",
       "      <th>6</th>\n",
       "      <th>7</th>\n",
       "      <th>8</th>\n",
       "      <th>9</th>\n",
       "      <th>...</th>\n",
       "      <th>91</th>\n",
       "      <th>92</th>\n",
       "      <th>93</th>\n",
       "      <th>94</th>\n",
       "      <th>95</th>\n",
       "      <th>96</th>\n",
       "      <th>97</th>\n",
       "      <th>98</th>\n",
       "      <th>99</th>\n",
       "      <th>100</th>\n",
       "    </tr>\n",
       "  </thead>\n",
       "  <tbody>\n",
       "    <tr>\n",
       "      <th>salary</th>\n",
       "      <td>150000 ₽</td>\n",
       "      <td>150000 ₽</td>\n",
       "      <td>50000 ₽</td>\n",
       "      <td>150000 ₽</td>\n",
       "      <td>120000 ₽</td>\n",
       "      <td>100000 ₽</td>\n",
       "      <td>100000 ₽</td>\n",
       "      <td>90000 ₽</td>\n",
       "      <td>120000 ₽</td>\n",
       "      <td>115000 ₽</td>\n",
       "      <td>...</td>\n",
       "      <td>100000 ₽</td>\n",
       "      <td>80000 ₽</td>\n",
       "      <td>50000 ₽</td>\n",
       "      <td>50000 ₽</td>\n",
       "      <td>150000 ₽</td>\n",
       "      <td>150000 ₽</td>\n",
       "      <td>150000 ₽</td>\n",
       "      <td>400000 ₽</td>\n",
       "      <td>120000 ₽</td>\n",
       "      <td>250000 ₽</td>\n",
       "    </tr>\n",
       "    <tr>\n",
       "      <th>experience</th>\n",
       "      <td>8 лет 5 месяцев</td>\n",
       "      <td>13 лет 3 месяца</td>\n",
       "      <td>2 года 4 месяца</td>\n",
       "      <td>10 лет 1 месяц</td>\n",
       "      <td>8 лет 8 месяцев</td>\n",
       "      <td>7 лет</td>\n",
       "      <td>10 лет 3 месяца</td>\n",
       "      <td>3 года 10 месяцев</td>\n",
       "      <td>7 лет 7 месяцев</td>\n",
       "      <td>12 лет 7 месяцев</td>\n",
       "      <td>...</td>\n",
       "      <td>4 года 2 месяца</td>\n",
       "      <td>10 лет 1 месяц</td>\n",
       "      <td>9 лет 4 месяца</td>\n",
       "      <td>10 месяцев</td>\n",
       "      <td>9 лет 9 месяцев</td>\n",
       "      <td>6 лет 4 месяца</td>\n",
       "      <td>6 лет 5 месяцев</td>\n",
       "      <td>14 лет 6 месяцев</td>\n",
       "      <td>6 лет 10 месяцев</td>\n",
       "      <td>12 лет 5 месяцев</td>\n",
       "    </tr>\n",
       "  </tbody>\n",
       "</table>\n",
       "<p>2 rows × 101 columns</p>\n",
       "</div>"
      ],
      "text/plain": [
       "                        0                1                2               3    \\\n",
       "salary             150000 ₽         150000 ₽          50000 ₽        150000 ₽   \n",
       "experience  8 лет 5 месяцев  13 лет 3 месяца  2 года 4 месяца  10 лет 1 месяц   \n",
       "\n",
       "                        4         5                6                  7    \\\n",
       "salary             120000 ₽  100000 ₽         100000 ₽            90000 ₽   \n",
       "experience  8 лет 8 месяцев     7 лет  10 лет 3 месяца  3 года 10 месяцев   \n",
       "\n",
       "                        8                 9    ...              91   \\\n",
       "salary             120000 ₽          115000 ₽  ...         100000 ₽   \n",
       "experience  7 лет 7 месяцев  12 лет 7 месяцев  ...  4 года 2 месяца   \n",
       "\n",
       "                       92              93          94               95   \\\n",
       "salary             80000 ₽         50000 ₽     50000 ₽         150000 ₽   \n",
       "experience  10 лет 1 месяц  9 лет 4 месяца  10 месяцев  9 лет 9 месяцев   \n",
       "\n",
       "                       96               97                98   \\\n",
       "salary            150000 ₽         150000 ₽          400000 ₽   \n",
       "experience  6 лет 4 месяца  6 лет 5 месяцев  14 лет 6 месяцев   \n",
       "\n",
       "                         99                100  \n",
       "salary              120000 ₽          250000 ₽  \n",
       "experience  6 лет 10 месяцев  12 лет 5 месяцев  \n",
       "\n",
       "[2 rows x 101 columns]"
      ]
     },
     "metadata": {},
     "output_type": "display_data"
    }
   ],
   "source": [
    "# БАРИСТА\n",
    "def clean_data(data):\n",
    "     cleaned_data = []\n",
    "     for item in data:\n",
    "        try:\n",
    "           salary = item['salary'].replace('\\u2009', '').replace('\\xa0', ' ')\n",
    "           experience = item['experience'].replace('\\xa0', ' ')\n",
    "           cleaned_data.append({'salary': salary, 'experience': experience})\n",
    "        except TypeError:\n",
    "           continue\n",
    "     return cleaned_data\n",
    "# Попросил чат-гпт написать функцию, которая бы приводила информацию в нормальный вид, и добавил try / except, чтобы избежать проблем с пустыми элементами списка\n",
    "\n",
    "candidates_barista = []\n",
    "\n",
    "for i in range(20): # Берем первые 20 страниц и анализируем вакансиии, представленные на них\n",
    "  html = f'https://hh.ru/search/resume?area=1&exp_period=all_time&job_search_status=active_search&job_search_status=looking_for_offers&logic=normal&no_magic=true&order_by=relevance&ored_clusters=true&pos=full_text&search_period=30&text=%D0%B1%D0%B0%D1%80%D0%B8%D1%81%D1%82%D0%B0+%D0%B2+%D0%BA%D0%BE%D1%84%D0%B5%D0%B9%D0%BD%D1%8E&items_on_page=20&searchSessionId=59616e58-395a-4e21-8c7c-631a268c021f&page={i}'\n",
    "  response = requests.get(html, headers={\"User-Agent\": \"Mozilla/5.0\"}) # Получаем html\n",
    "  soup = BeautifulSoup(response.content, 'html.parser') # Создаем объект BeautifulSoup\n",
    "\n",
    "  candidates = [] # Список кандидатов\n",
    "  candidates.append(None) # Чтобы потом не было проблем с \"if candidate_data == candidates[-1]:\"\n",
    "\n",
    "  for candidate in soup.find_all('div'):\n",
    "     salary_element = candidate.find('div', class_='magritte-text_typography-subtitle-2-semibold___3q3c-_3-0-31') # Вытаскиваем з/п\n",
    "     experience_element = candidate.find('div', class_='content--vAUqut0YCUxg4xgv') # Вытаскиваем информацию об опыте кандидатов\n",
    "\n",
    "     if salary_element and experience_element:\n",
    "         candidate_data = {'salary': salary_element.text.strip(), 'experience': experience_element.text.strip()} # Добавляем в итоговый список словарь с информацией о кандидате\n",
    "         if candidate_data == candidates[-1]:\n",
    "           pass\n",
    "         elif '\\u20BD' in candidate_data['salary']:\n",
    "           candidates.append(candidate_data)\n",
    "     # Если есть информация об опыте и з/п, то добавляем в список кандидатов\n",
    "     # Была проблема, что информация об одном и том же кандидате выводится несколько раз подряд (блоками), поэтому проверяем, что добавляемый элемент отличен от прошлого добавленного\n",
    "     # Некоторые слегка обнаглевшие люди указывают з/п в долларах и евро, удаляем их из списка\n",
    "\n",
    "  final_data = clean_data(candidates) # Приводим в нормальный вид\n",
    "  candidates_barista.extend(final_data) # Перевод списка словарей в датафреймм \n",
    "\n",
    "  for item in final_data:\n",
    "     print(item)\n",
    "\n",
    "df_barista = pd.DataFrame(candidates_barista)\n",
    "df_barista = df_barista.transpose()\n",
    "display(df_barista)"
   ]
  },
  {
   "cell_type": "code",
   "execution_count": 139,
   "metadata": {
    "colab": {
     "base_uri": "https://localhost:8080/",
     "height": 211
    },
    "id": "e7w8hJQgjhLf",
    "outputId": "56e47438-7df6-43fe-f4c7-c46d6a5f82db"
   },
   "outputs": [
    {
     "data": {
      "text/html": [
       "<div>\n",
       "<style scoped>\n",
       "    .dataframe tbody tr th:only-of-type {\n",
       "        vertical-align: middle;\n",
       "    }\n",
       "\n",
       "    .dataframe tbody tr th {\n",
       "        vertical-align: top;\n",
       "    }\n",
       "\n",
       "    .dataframe thead th {\n",
       "        text-align: right;\n",
       "    }\n",
       "</style>\n",
       "<table border=\"1\" class=\"dataframe\">\n",
       "  <thead>\n",
       "    <tr style=\"text-align: right;\">\n",
       "      <th></th>\n",
       "      <th>0</th>\n",
       "      <th>1</th>\n",
       "      <th>2</th>\n",
       "      <th>3</th>\n",
       "      <th>4</th>\n",
       "      <th>5</th>\n",
       "      <th>6</th>\n",
       "      <th>7</th>\n",
       "      <th>8</th>\n",
       "      <th>9</th>\n",
       "      <th>...</th>\n",
       "      <th>91</th>\n",
       "      <th>92</th>\n",
       "      <th>93</th>\n",
       "      <th>94</th>\n",
       "      <th>95</th>\n",
       "      <th>96</th>\n",
       "      <th>97</th>\n",
       "      <th>98</th>\n",
       "      <th>99</th>\n",
       "      <th>100</th>\n",
       "    </tr>\n",
       "  </thead>\n",
       "  <tbody>\n",
       "    <tr>\n",
       "      <th>salary</th>\n",
       "      <td>150000 ₽</td>\n",
       "      <td>150000 ₽</td>\n",
       "      <td>50000 ₽</td>\n",
       "      <td>150000 ₽</td>\n",
       "      <td>120000 ₽</td>\n",
       "      <td>100000 ₽</td>\n",
       "      <td>100000 ₽</td>\n",
       "      <td>90000 ₽</td>\n",
       "      <td>120000 ₽</td>\n",
       "      <td>115000 ₽</td>\n",
       "      <td>...</td>\n",
       "      <td>100000 ₽</td>\n",
       "      <td>80000 ₽</td>\n",
       "      <td>50000 ₽</td>\n",
       "      <td>50000 ₽</td>\n",
       "      <td>150000 ₽</td>\n",
       "      <td>150000 ₽</td>\n",
       "      <td>150000 ₽</td>\n",
       "      <td>400000 ₽</td>\n",
       "      <td>120000 ₽</td>\n",
       "      <td>250000 ₽</td>\n",
       "    </tr>\n",
       "    <tr>\n",
       "      <th>experience</th>\n",
       "      <td>8 лет 5 месяцев</td>\n",
       "      <td>13 лет 3 месяца</td>\n",
       "      <td>2 года 4 месяца</td>\n",
       "      <td>10 лет 1 месяц</td>\n",
       "      <td>8 лет 8 месяцев</td>\n",
       "      <td>7 лет</td>\n",
       "      <td>10 лет 3 месяца</td>\n",
       "      <td>3 года 10 месяцев</td>\n",
       "      <td>7 лет 7 месяцев</td>\n",
       "      <td>12 лет 7 месяцев</td>\n",
       "      <td>...</td>\n",
       "      <td>4 года 2 месяца</td>\n",
       "      <td>10 лет 1 месяц</td>\n",
       "      <td>9 лет 4 месяца</td>\n",
       "      <td>10 месяцев</td>\n",
       "      <td>9 лет 9 месяцев</td>\n",
       "      <td>6 лет 4 месяца</td>\n",
       "      <td>6 лет 5 месяцев</td>\n",
       "      <td>14 лет 6 месяцев</td>\n",
       "      <td>6 лет 10 месяцев</td>\n",
       "      <td>12 лет 5 месяцев</td>\n",
       "    </tr>\n",
       "  </tbody>\n",
       "</table>\n",
       "<p>2 rows × 100 columns</p>\n",
       "</div>"
      ],
      "text/plain": [
       "                        0                1                2               3    \\\n",
       "salary             150000 ₽         150000 ₽          50000 ₽        150000 ₽   \n",
       "experience  8 лет 5 месяцев  13 лет 3 месяца  2 года 4 месяца  10 лет 1 месяц   \n",
       "\n",
       "                        4         5                6                  7    \\\n",
       "salary             120000 ₽  100000 ₽         100000 ₽            90000 ₽   \n",
       "experience  8 лет 8 месяцев     7 лет  10 лет 3 месяца  3 года 10 месяцев   \n",
       "\n",
       "                        8                 9    ...              91   \\\n",
       "salary             120000 ₽          115000 ₽  ...         100000 ₽   \n",
       "experience  7 лет 7 месяцев  12 лет 7 месяцев  ...  4 года 2 месяца   \n",
       "\n",
       "                       92              93          94               95   \\\n",
       "salary             80000 ₽         50000 ₽     50000 ₽         150000 ₽   \n",
       "experience  10 лет 1 месяц  9 лет 4 месяца  10 месяцев  9 лет 9 месяцев   \n",
       "\n",
       "                       96               97                98   \\\n",
       "salary            150000 ₽         150000 ₽          400000 ₽   \n",
       "experience  6 лет 4 месяца  6 лет 5 месяцев  14 лет 6 месяцев   \n",
       "\n",
       "                         99                100  \n",
       "salary              120000 ₽          250000 ₽  \n",
       "experience  6 лет 10 месяцев  12 лет 5 месяцев  \n",
       "\n",
       "[2 rows x 100 columns]"
      ]
     },
     "metadata": {},
     "output_type": "display_data"
    }
   ],
   "source": [
    "# Делаем все ячейки строками + удаляем колонки со странной информацией вместо experience. \n",
    "# Теперь формат ячейки experience: количество лет и месяцев опыта\n",
    "\n",
    "words = [\"год\", \"года\", \"месяц\", \"месяца\", \"лет\"] # Оставляем в датафрейме только ячейки, в которых есть эти слова \n",
    "\n",
    "df_barista_new = df_barista.copy()\n",
    "\n",
    "for column in df_barista.columns:\n",
    "    experience = str(df_barista.loc[\"experience\", column])\n",
    "    for word in words:\n",
    "      if word in experience:\n",
    "        break # Если слово есть, ничего не делаем\n",
    "    else:\n",
    "      df_barista_new = df_barista_new.drop(columns=[column]) # Удаляем столбец, если информации об опыте работы нет\n",
    "\n",
    "display(df_barista_new)"
   ]
  },
  {
   "cell_type": "code",
   "execution_count": 140,
   "metadata": {
    "colab": {
     "base_uri": "https://localhost:8080/",
     "height": 140
    },
    "id": "TyPktPHJmt9R",
    "outputId": "cf47946c-dac7-4280-fa02-ab0a7414b9dd"
   },
   "outputs": [
    {
     "data": {
      "text/html": [
       "<div>\n",
       "<style scoped>\n",
       "    .dataframe tbody tr th:only-of-type {\n",
       "        vertical-align: middle;\n",
       "    }\n",
       "\n",
       "    .dataframe tbody tr th {\n",
       "        vertical-align: top;\n",
       "    }\n",
       "\n",
       "    .dataframe thead th {\n",
       "        text-align: right;\n",
       "    }\n",
       "</style>\n",
       "<table border=\"1\" class=\"dataframe\">\n",
       "  <thead>\n",
       "    <tr style=\"text-align: right;\">\n",
       "      <th></th>\n",
       "      <th>0</th>\n",
       "      <th>1</th>\n",
       "      <th>2</th>\n",
       "      <th>3</th>\n",
       "      <th>4</th>\n",
       "      <th>5</th>\n",
       "      <th>6</th>\n",
       "      <th>7</th>\n",
       "      <th>8</th>\n",
       "      <th>9</th>\n",
       "      <th>...</th>\n",
       "      <th>91</th>\n",
       "      <th>92</th>\n",
       "      <th>93</th>\n",
       "      <th>94</th>\n",
       "      <th>95</th>\n",
       "      <th>96</th>\n",
       "      <th>97</th>\n",
       "      <th>98</th>\n",
       "      <th>99</th>\n",
       "      <th>100</th>\n",
       "    </tr>\n",
       "  </thead>\n",
       "  <tbody>\n",
       "    <tr>\n",
       "      <th>salary</th>\n",
       "      <td>150000</td>\n",
       "      <td>150000</td>\n",
       "      <td>50000</td>\n",
       "      <td>150000</td>\n",
       "      <td>120000</td>\n",
       "      <td>100000</td>\n",
       "      <td>100000</td>\n",
       "      <td>90000</td>\n",
       "      <td>120000</td>\n",
       "      <td>115000</td>\n",
       "      <td>...</td>\n",
       "      <td>100000</td>\n",
       "      <td>80000</td>\n",
       "      <td>50000</td>\n",
       "      <td>50000</td>\n",
       "      <td>150000</td>\n",
       "      <td>150000</td>\n",
       "      <td>150000</td>\n",
       "      <td>400000</td>\n",
       "      <td>120000</td>\n",
       "      <td>250000</td>\n",
       "    </tr>\n",
       "    <tr>\n",
       "      <th>experience</th>\n",
       "      <td>8</td>\n",
       "      <td>13</td>\n",
       "      <td>2</td>\n",
       "      <td>10</td>\n",
       "      <td>8</td>\n",
       "      <td>7</td>\n",
       "      <td>10</td>\n",
       "      <td>3</td>\n",
       "      <td>7</td>\n",
       "      <td>12</td>\n",
       "      <td>...</td>\n",
       "      <td>4</td>\n",
       "      <td>10</td>\n",
       "      <td>9</td>\n",
       "      <td>10</td>\n",
       "      <td>9</td>\n",
       "      <td>6</td>\n",
       "      <td>6</td>\n",
       "      <td>14</td>\n",
       "      <td>6</td>\n",
       "      <td>12</td>\n",
       "    </tr>\n",
       "  </tbody>\n",
       "</table>\n",
       "<p>2 rows × 100 columns</p>\n",
       "</div>"
      ],
      "text/plain": [
       "               0       1      2       3       4       5       6      7    \\\n",
       "salary      150000  150000  50000  150000  120000  100000  100000  90000   \n",
       "experience       8      13      2      10       8       7      10      3   \n",
       "\n",
       "               8       9    ...     91     92     93     94      95      96   \\\n",
       "salary      120000  115000  ...  100000  80000  50000  50000  150000  150000   \n",
       "experience       7      12  ...       4     10      9     10       9       6   \n",
       "\n",
       "               97      98      99      100  \n",
       "salary      150000  400000  120000  250000  \n",
       "experience       6      14       6      12  \n",
       "\n",
       "[2 rows x 100 columns]"
      ]
     },
     "metadata": {},
     "output_type": "display_data"
    }
   ],
   "source": [
    "# Готовим датасет к работе с ним\n",
    "df_barista_new.loc['salary'] = df_barista_new.loc['salary'].str.replace(' ₽', '')\n",
    "df_barista_new.loc['salary'] = df_barista_new.loc['salary'].str.replace(' ', '')\n",
    "\n",
    "# Оставляем только первое число в опыте (количество лет)\n",
    "df_barista_new.loc['experience'] = df_barista_new.loc['experience'].str.split().str[0]\n",
    "\n",
    "# Меняем тип всех ячеек на int\n",
    "df_barista_new.loc['experience'] = df_barista_new.loc['experience'].astype(int) \n",
    "df_barista_new.loc['salary'] = df_barista_new.loc['salary'].astype(int)\n",
    "\n",
    "display(df_barista_new)\n"
   ]
  },
  {
   "cell_type": "code",
   "execution_count": 141,
   "metadata": {
    "colab": {
     "base_uri": "https://localhost:8080/",
     "height": 631
    },
    "id": "tUPGZlIhmXDW",
    "outputId": "8ead776f-eb76-46da-ce4f-5036602193d8"
   },
   "outputs": [
    {
     "name": "stdout",
     "output_type": "stream",
     "text": [
      "Requirement already satisfied: seaborn in /Users/andrejnikolaev/myenv/lib/python3.12/site-packages (0.13.2)\n",
      "Requirement already satisfied: numpy!=1.24.0,>=1.20 in /Users/andrejnikolaev/myenv/lib/python3.12/site-packages (from seaborn) (2.1.1)\n",
      "Requirement already satisfied: pandas>=1.2 in /Users/andrejnikolaev/myenv/lib/python3.12/site-packages (from seaborn) (2.2.2)\n",
      "Requirement already satisfied: matplotlib!=3.6.1,>=3.4 in /Users/andrejnikolaev/myenv/lib/python3.12/site-packages (from seaborn) (3.9.2)\n",
      "Requirement already satisfied: contourpy>=1.0.1 in /Users/andrejnikolaev/myenv/lib/python3.12/site-packages (from matplotlib!=3.6.1,>=3.4->seaborn) (1.3.0)\n",
      "Requirement already satisfied: cycler>=0.10 in /Users/andrejnikolaev/myenv/lib/python3.12/site-packages (from matplotlib!=3.6.1,>=3.4->seaborn) (0.12.1)\n",
      "Requirement already satisfied: fonttools>=4.22.0 in /Users/andrejnikolaev/myenv/lib/python3.12/site-packages (from matplotlib!=3.6.1,>=3.4->seaborn) (4.53.1)\n",
      "Requirement already satisfied: kiwisolver>=1.3.1 in /Users/andrejnikolaev/myenv/lib/python3.12/site-packages (from matplotlib!=3.6.1,>=3.4->seaborn) (1.4.7)\n",
      "Requirement already satisfied: packaging>=20.0 in /Users/andrejnikolaev/myenv/lib/python3.12/site-packages (from matplotlib!=3.6.1,>=3.4->seaborn) (24.1)\n",
      "Requirement already satisfied: pillow>=8 in /Users/andrejnikolaev/myenv/lib/python3.12/site-packages (from matplotlib!=3.6.1,>=3.4->seaborn) (10.4.0)\n",
      "Requirement already satisfied: pyparsing>=2.3.1 in /Users/andrejnikolaev/myenv/lib/python3.12/site-packages (from matplotlib!=3.6.1,>=3.4->seaborn) (3.1.4)\n",
      "Requirement already satisfied: python-dateutil>=2.7 in /Users/andrejnikolaev/myenv/lib/python3.12/site-packages (from matplotlib!=3.6.1,>=3.4->seaborn) (2.9.0.post0)\n",
      "Requirement already satisfied: pytz>=2020.1 in /Users/andrejnikolaev/myenv/lib/python3.12/site-packages (from pandas>=1.2->seaborn) (2024.1)\n",
      "Requirement already satisfied: tzdata>=2022.7 in /Users/andrejnikolaev/myenv/lib/python3.12/site-packages (from pandas>=1.2->seaborn) (2024.1)\n",
      "Requirement already satisfied: six>=1.5 in /Users/andrejnikolaev/myenv/lib/python3.12/site-packages (from python-dateutil>=2.7->matplotlib!=3.6.1,>=3.4->seaborn) (1.16.0)\n"
     ]
    },
    {
     "data": {
      "image/png": "[encoded data removed]",
      "text/plain": [
       "<Figure size 800x500 with 1 Axes>"
      ]
     },
     "metadata": {},
     "output_type": "display_data"
    }
   ],
   "source": [
    "!pip install seaborn\n",
    "import matplotlib.pyplot as plt\n",
    "import seaborn as sns\n",
    "\n",
    "groups = []\n",
    "\n",
    "for item in df_barista_new.loc['experience']:\n",
    "\n",
    "    if item == 1:\n",
    "        groups.append('1 год')\n",
    "    elif 2 <= item <= 4:\n",
    "        groups.append('2-4 года')\n",
    "    elif 5 <= item <= 6:\n",
    "        groups.append('5-6 лет')\n",
    "    elif 7 <= item <= 8:\n",
    "        groups.append('7-8 лет')\n",
    "    else:\n",
    "        groups.append('9+ лет')\n",
    "\n",
    "# Использовал чат-гпт, чтобы добавить деление на группы\n",
    "df_barista_new.loc['Experience Group'] = groups\n",
    "df_grouped = df_barista_new.T.groupby('Experience Group')['salary'].mean().reset_index()\n",
    "\n",
    "\n",
    "plt.figure(figsize=(8, 5))\n",
    "sns.barplot(x='Experience Group', y='salary', data=df_grouped, palette='plasma')\n",
    "plt.xlabel('Опыт работы')\n",
    "plt.ylabel('Средняя ожидаемая зарплата')\n",
    "plt.title('Средняя зарплата в зависимости от опыта работы, бариста')\n",
    "\n",
    "plt.show()"
   ]
  },
  {
   "cell_type": "markdown",
   "metadata": {
    "id": "7T_ObCVf94x1"
   },
   "source": [
    " **Далее идейно такой же код, просто меняем ссылки и учитываем особенности страниц**"
   ]
  },
  {
   "cell_type": "code",
   "execution_count": 144,
   "metadata": {
    "colab": {
     "base_uri": "https://localhost:8080/",
     "height": 211
    },
    "id": "r58LYh2s5wxu",
    "outputId": "d08695d3-76b5-44e5-83cb-64c180b0a612"
   },
   "outputs": [
    {
     "data": {
      "text/html": [
       "<div>\n",
       "<style scoped>\n",
       "    .dataframe tbody tr th:only-of-type {\n",
       "        vertical-align: middle;\n",
       "    }\n",
       "\n",
       "    .dataframe tbody tr th {\n",
       "        vertical-align: top;\n",
       "    }\n",
       "\n",
       "    .dataframe thead th {\n",
       "        text-align: right;\n",
       "    }\n",
       "</style>\n",
       "<table border=\"1\" class=\"dataframe\">\n",
       "  <thead>\n",
       "    <tr style=\"text-align: right;\">\n",
       "      <th></th>\n",
       "      <th>0</th>\n",
       "      <th>1</th>\n",
       "      <th>2</th>\n",
       "      <th>3</th>\n",
       "      <th>4</th>\n",
       "      <th>5</th>\n",
       "      <th>6</th>\n",
       "      <th>7</th>\n",
       "      <th>8</th>\n",
       "      <th>9</th>\n",
       "      <th>...</th>\n",
       "      <th>328</th>\n",
       "      <th>329</th>\n",
       "      <th>330</th>\n",
       "      <th>331</th>\n",
       "      <th>332</th>\n",
       "      <th>333</th>\n",
       "      <th>334</th>\n",
       "      <th>335</th>\n",
       "      <th>336</th>\n",
       "      <th>337</th>\n",
       "    </tr>\n",
       "  </thead>\n",
       "  <tbody>\n",
       "    <tr>\n",
       "      <th>salary</th>\n",
       "      <td>35000 ₽</td>\n",
       "      <td>35000 ₽</td>\n",
       "      <td>45000 ₽</td>\n",
       "      <td>100000 ₽</td>\n",
       "      <td>65000 ₽</td>\n",
       "      <td>105000 ₽</td>\n",
       "      <td>45000 ₽</td>\n",
       "      <td>150000 ₽</td>\n",
       "      <td>30000 ₽</td>\n",
       "      <td>90000 ₽</td>\n",
       "      <td>...</td>\n",
       "      <td>25000 ₽</td>\n",
       "      <td>60000 ₽</td>\n",
       "      <td>40000 ₽</td>\n",
       "      <td>35000 ₽</td>\n",
       "      <td>45000 ₽</td>\n",
       "      <td>30000 ₽</td>\n",
       "      <td>40000 ₽</td>\n",
       "      <td>50000 ₽</td>\n",
       "      <td>30000 ₽</td>\n",
       "      <td>50000 ₽</td>\n",
       "    </tr>\n",
       "    <tr>\n",
       "      <th>experience</th>\n",
       "      <td>8 лет 5 месяцев</td>\n",
       "      <td>12 лет 10 месяцев</td>\n",
       "      <td>13 лет 4 месяца</td>\n",
       "      <td>19 лет 10 месяцев</td>\n",
       "      <td>10 лет</td>\n",
       "      <td>4 года 7 месяцев</td>\n",
       "      <td>15 лет 10 месяцев</td>\n",
       "      <td>12 лет 1 месяц</td>\n",
       "      <td>3 года 7 месяцев</td>\n",
       "      <td>11 лет</td>\n",
       "      <td>...</td>\n",
       "      <td>5 лет 2 месяца</td>\n",
       "      <td>7 лет 1 месяц</td>\n",
       "      <td>21 год 9 месяцев</td>\n",
       "      <td>14 лет 10 месяцев</td>\n",
       "      <td>6 лет 9 месяцев</td>\n",
       "      <td>24 года 3 месяца</td>\n",
       "      <td>2 года 8 месяцев</td>\n",
       "      <td>13 лет 8 месяцев</td>\n",
       "      <td>7 лет 11 месяцев</td>\n",
       "      <td>6 лет 1 месяц</td>\n",
       "    </tr>\n",
       "  </tbody>\n",
       "</table>\n",
       "<p>2 rows × 338 columns</p>\n",
       "</div>"
      ],
      "text/plain": [
       "                        0                  1                2    \\\n",
       "salary              35000 ₽            35000 ₽          45000 ₽   \n",
       "experience  8 лет 5 месяцев  12 лет 10 месяцев  13 лет 4 месяца   \n",
       "\n",
       "                          3        4                 5                  6    \\\n",
       "salary               100000 ₽  65000 ₽          105000 ₽            45000 ₽   \n",
       "experience  19 лет 10 месяцев   10 лет  4 года 7 месяцев  15 лет 10 месяцев   \n",
       "\n",
       "                       7                 8        9    ...             328  \\\n",
       "salary            150000 ₽           30000 ₽  90000 ₽  ...         25000 ₽   \n",
       "experience  12 лет 1 месяц  3 года 7 месяцев   11 лет  ...  5 лет 2 месяца   \n",
       "\n",
       "                      329               330                331  \\\n",
       "salary            60000 ₽           40000 ₽            35000 ₽   \n",
       "experience  7 лет 1 месяц  21 год 9 месяцев  14 лет 10 месяцев   \n",
       "\n",
       "                        332               333               334  \\\n",
       "salary              45000 ₽           30000 ₽           40000 ₽   \n",
       "experience  6 лет 9 месяцев  24 года 3 месяца  2 года 8 месяцев   \n",
       "\n",
       "                         335               336            337  \n",
       "salary               50000 ₽           30000 ₽        50000 ₽  \n",
       "experience  13 лет 8 месяцев  7 лет 11 месяцев  6 лет 1 месяц  \n",
       "\n",
       "[2 rows x 338 columns]"
      ]
     },
     "metadata": {},
     "output_type": "display_data"
    }
   ],
   "source": [
    "# АДМИНИСТРАТОР ЗАЛА\n",
    "# КРИТЕРИИ, ПО КОТОРЫМ ПРОВОДИЛИ ОТБОР: 1) полная занятость; 2) полный день; 3) специализации: администратор или менеджер ресторана\n",
    "\n",
    "def clean_data(data):\n",
    "     cleaned_data = []\n",
    "     for item in data:\n",
    "        try:\n",
    "           salary = item['salary'].replace('\\u2009', '').replace('\\xa0', ' ')\n",
    "           experience = item['experience'].replace('\\xa0', ' ')\n",
    "           cleaned_data.append({'salary': salary, 'experience': experience})\n",
    "        except TypeError:\n",
    "           continue\n",
    "     return cleaned_data\n",
    "# Попросил чат-гпт написать функцию, которая бы приводила информацию в нормальный вид, и добавил try / except, чтобы избежать проблем с пустыми элементами списка\n",
    "\n",
    "candidates_manager = []\n",
    "\n",
    "for i in range(20): # Берем первые 20 страниц\n",
    "  html = f'https://hh.ru/search/resume?search_period=0&order_by=relevance&logic=normal&pos=full_text&exp_period=all_time&area=1&employment=full&filter_exp_period=all_time&job_search_status=active_search&job_search_status=looking_for_offers&job_search_status=unknown&professional_role=8&professional_role=74&relocation=living_or_relocation&schedule=fullDay&text=администратор+в+кофейню&gender=unknown&page={i}&searchSessionId=3636c17e-0578-45ff-ba81-15591c276518'\n",
    "  response = requests.get(html, headers={\"User-Agent\": \"Mozilla/5.0\"}) # Получаем html\n",
    "  soup = BeautifulSoup(response.content, 'html.parser') # Создаем объект BeautifulSoup\n",
    "\n",
    "  candidates = [] # Список кандидатов\n",
    "  candidates.append(None) # Чтобы потом не было проблем с \"if candidate_data == candidates[-1]:\"\n",
    "\n",
    "  for candidate in soup.find_all('div'):\n",
    "\n",
    "     salary_element = candidate.find('div', class_='magritte-text_typography-subtitle-2-semibold___3q3c-_3-0-31') # Вытаскиваем з/п\n",
    "     experience_element = candidate.find('div', class_='content--vAUqut0YCUxg4xgv') # Вытаскиваем информацию об опыте кандидатов\n",
    "\n",
    "     if salary_element and experience_element:\n",
    "         candidate_data = {'salary': salary_element.text.strip(), 'experience': experience_element.text.strip()} # Добавляем в итоговый список словарь с информацией о кандидате\n",
    "         if candidate_data == candidates[-1]:\n",
    "           pass\n",
    "         elif '\\u20BD' in candidate_data['salary']:\n",
    "           candidates.append(candidate_data)\n",
    "     # Если есть информация об опыте и з/п, то добавляем в список кандидатов\n",
    "     # Была проблема, что информация об одном и том же кандидате выводится несколько раз подряд, поэтому проверяем, что добавляемы элемент отличен от прошлого добавленного\n",
    "     # Некоторые слегка обнаглевшие люди указывают з/п в долларах и евро, удаляем их из списка\n",
    "\n",
    "  final_data = clean_data(candidates) # Приводим в нормальный вид\n",
    "  candidates_manager.extend(final_data) # Перевод списка словарей в датафрейм \n",
    "\n",
    "  # for item in final_data:\n",
    "  #    print(item)\n",
    "\n",
    "df_manager = pd.DataFrame(candidates_manager)\n",
    "df_manager = df_manager.transpose()\n",
    "display(df_manager)"
   ]
  },
  {
   "cell_type": "code",
   "execution_count": 145,
   "metadata": {
    "colab": {
     "base_uri": "https://localhost:8080/",
     "height": 211
    },
    "id": "qzq1UOSAjPk0",
    "outputId": "bc16fb03-1bae-4662-f53b-b1633072d86d"
   },
   "outputs": [
    {
     "data": {
      "text/html": [
       "<div>\n",
       "<style scoped>\n",
       "    .dataframe tbody tr th:only-of-type {\n",
       "        vertical-align: middle;\n",
       "    }\n",
       "\n",
       "    .dataframe tbody tr th {\n",
       "        vertical-align: top;\n",
       "    }\n",
       "\n",
       "    .dataframe thead th {\n",
       "        text-align: right;\n",
       "    }\n",
       "</style>\n",
       "<table border=\"1\" class=\"dataframe\">\n",
       "  <thead>\n",
       "    <tr style=\"text-align: right;\">\n",
       "      <th></th>\n",
       "      <th>0</th>\n",
       "      <th>1</th>\n",
       "      <th>2</th>\n",
       "      <th>3</th>\n",
       "      <th>4</th>\n",
       "      <th>5</th>\n",
       "      <th>6</th>\n",
       "      <th>7</th>\n",
       "      <th>8</th>\n",
       "      <th>9</th>\n",
       "      <th>...</th>\n",
       "      <th>328</th>\n",
       "      <th>329</th>\n",
       "      <th>330</th>\n",
       "      <th>331</th>\n",
       "      <th>332</th>\n",
       "      <th>333</th>\n",
       "      <th>334</th>\n",
       "      <th>335</th>\n",
       "      <th>336</th>\n",
       "      <th>337</th>\n",
       "    </tr>\n",
       "  </thead>\n",
       "  <tbody>\n",
       "    <tr>\n",
       "      <th>salary</th>\n",
       "      <td>35000 ₽</td>\n",
       "      <td>35000 ₽</td>\n",
       "      <td>45000 ₽</td>\n",
       "      <td>100000 ₽</td>\n",
       "      <td>65000 ₽</td>\n",
       "      <td>105000 ₽</td>\n",
       "      <td>45000 ₽</td>\n",
       "      <td>150000 ₽</td>\n",
       "      <td>30000 ₽</td>\n",
       "      <td>90000 ₽</td>\n",
       "      <td>...</td>\n",
       "      <td>25000 ₽</td>\n",
       "      <td>60000 ₽</td>\n",
       "      <td>40000 ₽</td>\n",
       "      <td>35000 ₽</td>\n",
       "      <td>45000 ₽</td>\n",
       "      <td>30000 ₽</td>\n",
       "      <td>40000 ₽</td>\n",
       "      <td>50000 ₽</td>\n",
       "      <td>30000 ₽</td>\n",
       "      <td>50000 ₽</td>\n",
       "    </tr>\n",
       "    <tr>\n",
       "      <th>experience</th>\n",
       "      <td>8 лет 5 месяцев</td>\n",
       "      <td>12 лет 10 месяцев</td>\n",
       "      <td>13 лет 4 месяца</td>\n",
       "      <td>19 лет 10 месяцев</td>\n",
       "      <td>10 лет</td>\n",
       "      <td>4 года 7 месяцев</td>\n",
       "      <td>15 лет 10 месяцев</td>\n",
       "      <td>12 лет 1 месяц</td>\n",
       "      <td>3 года 7 месяцев</td>\n",
       "      <td>11 лет</td>\n",
       "      <td>...</td>\n",
       "      <td>5 лет 2 месяца</td>\n",
       "      <td>7 лет 1 месяц</td>\n",
       "      <td>21 год 9 месяцев</td>\n",
       "      <td>14 лет 10 месяцев</td>\n",
       "      <td>6 лет 9 месяцев</td>\n",
       "      <td>24 года 3 месяца</td>\n",
       "      <td>2 года 8 месяцев</td>\n",
       "      <td>13 лет 8 месяцев</td>\n",
       "      <td>7 лет 11 месяцев</td>\n",
       "      <td>6 лет 1 месяц</td>\n",
       "    </tr>\n",
       "  </tbody>\n",
       "</table>\n",
       "<p>2 rows × 338 columns</p>\n",
       "</div>"
      ],
      "text/plain": [
       "                        0                  1                2    \\\n",
       "salary              35000 ₽            35000 ₽          45000 ₽   \n",
       "experience  8 лет 5 месяцев  12 лет 10 месяцев  13 лет 4 месяца   \n",
       "\n",
       "                          3        4                 5                  6    \\\n",
       "salary               100000 ₽  65000 ₽          105000 ₽            45000 ₽   \n",
       "experience  19 лет 10 месяцев   10 лет  4 года 7 месяцев  15 лет 10 месяцев   \n",
       "\n",
       "                       7                 8        9    ...             328  \\\n",
       "salary            150000 ₽           30000 ₽  90000 ₽  ...         25000 ₽   \n",
       "experience  12 лет 1 месяц  3 года 7 месяцев   11 лет  ...  5 лет 2 месяца   \n",
       "\n",
       "                      329               330                331  \\\n",
       "salary            60000 ₽           40000 ₽            35000 ₽   \n",
       "experience  7 лет 1 месяц  21 год 9 месяцев  14 лет 10 месяцев   \n",
       "\n",
       "                        332               333               334  \\\n",
       "salary              45000 ₽           30000 ₽           40000 ₽   \n",
       "experience  6 лет 9 месяцев  24 года 3 месяца  2 года 8 месяцев   \n",
       "\n",
       "                         335               336            337  \n",
       "salary               50000 ₽           30000 ₽        50000 ₽  \n",
       "experience  13 лет 8 месяцев  7 лет 11 месяцев  6 лет 1 месяц  \n",
       "\n",
       "[2 rows x 338 columns]"
      ]
     },
     "metadata": {},
     "output_type": "display_data"
    }
   ],
   "source": [
    "words = [\"год\", \"года\", \"месяц\", \"месяца\", \"лет\"]\n",
    "\n",
    "df_manager_new = df_manager.copy()\n",
    "\n",
    "for column in df_manager.columns:\n",
    "    experience = str(df_manager.loc[\"experience\", column])  \n",
    "    for word in words:\n",
    "      if word in experience:\n",
    "        break\n",
    "    else:\n",
    "      df_manager_new = df_manager_new.drop(columns=[column])\n",
    "\n",
    "display(df_manager_new)"
   ]
  },
  {
   "cell_type": "code",
   "execution_count": 146,
   "metadata": {
    "colab": {
     "base_uri": "https://localhost:8080/",
     "height": 140
    },
    "id": "G3kZ9wOWuicm",
    "outputId": "af56d762-2e88-4a08-f81b-4b3ce5c99368"
   },
   "outputs": [
    {
     "data": {
      "text/html": [
       "<div>\n",
       "<style scoped>\n",
       "    .dataframe tbody tr th:only-of-type {\n",
       "        vertical-align: middle;\n",
       "    }\n",
       "\n",
       "    .dataframe tbody tr th {\n",
       "        vertical-align: top;\n",
       "    }\n",
       "\n",
       "    .dataframe thead th {\n",
       "        text-align: right;\n",
       "    }\n",
       "</style>\n",
       "<table border=\"1\" class=\"dataframe\">\n",
       "  <thead>\n",
       "    <tr style=\"text-align: right;\">\n",
       "      <th></th>\n",
       "      <th>0</th>\n",
       "      <th>1</th>\n",
       "      <th>2</th>\n",
       "      <th>3</th>\n",
       "      <th>4</th>\n",
       "      <th>5</th>\n",
       "      <th>6</th>\n",
       "      <th>7</th>\n",
       "      <th>8</th>\n",
       "      <th>9</th>\n",
       "      <th>...</th>\n",
       "      <th>328</th>\n",
       "      <th>329</th>\n",
       "      <th>330</th>\n",
       "      <th>331</th>\n",
       "      <th>332</th>\n",
       "      <th>333</th>\n",
       "      <th>334</th>\n",
       "      <th>335</th>\n",
       "      <th>336</th>\n",
       "      <th>337</th>\n",
       "    </tr>\n",
       "  </thead>\n",
       "  <tbody>\n",
       "    <tr>\n",
       "      <th>salary</th>\n",
       "      <td>35000</td>\n",
       "      <td>35000</td>\n",
       "      <td>45000</td>\n",
       "      <td>100000</td>\n",
       "      <td>65000</td>\n",
       "      <td>105000</td>\n",
       "      <td>45000</td>\n",
       "      <td>150000</td>\n",
       "      <td>30000</td>\n",
       "      <td>90000</td>\n",
       "      <td>...</td>\n",
       "      <td>25000</td>\n",
       "      <td>60000</td>\n",
       "      <td>40000</td>\n",
       "      <td>35000</td>\n",
       "      <td>45000</td>\n",
       "      <td>30000</td>\n",
       "      <td>40000</td>\n",
       "      <td>50000</td>\n",
       "      <td>30000</td>\n",
       "      <td>50000</td>\n",
       "    </tr>\n",
       "    <tr>\n",
       "      <th>experience</th>\n",
       "      <td>8</td>\n",
       "      <td>12</td>\n",
       "      <td>13</td>\n",
       "      <td>19</td>\n",
       "      <td>10</td>\n",
       "      <td>4</td>\n",
       "      <td>15</td>\n",
       "      <td>12</td>\n",
       "      <td>3</td>\n",
       "      <td>11</td>\n",
       "      <td>...</td>\n",
       "      <td>5</td>\n",
       "      <td>7</td>\n",
       "      <td>21</td>\n",
       "      <td>14</td>\n",
       "      <td>6</td>\n",
       "      <td>24</td>\n",
       "      <td>2</td>\n",
       "      <td>13</td>\n",
       "      <td>7</td>\n",
       "      <td>6</td>\n",
       "    </tr>\n",
       "  </tbody>\n",
       "</table>\n",
       "<p>2 rows × 338 columns</p>\n",
       "</div>"
      ],
      "text/plain": [
       "              0      1      2       3      4       5      6       7      8    \\\n",
       "salary      35000  35000  45000  100000  65000  105000  45000  150000  30000   \n",
       "experience      8     12     13      19     10       4     15      12      3   \n",
       "\n",
       "              9    ...    328    329    330    331    332    333    334  \\\n",
       "salary      90000  ...  25000  60000  40000  35000  45000  30000  40000   \n",
       "experience     11  ...      5      7     21     14      6     24      2   \n",
       "\n",
       "              335    336    337  \n",
       "salary      50000  30000  50000  \n",
       "experience     13      7      6  \n",
       "\n",
       "[2 rows x 338 columns]"
      ]
     },
     "metadata": {},
     "output_type": "display_data"
    }
   ],
   "source": [
    "# Готовим датасет к работе с ним\n",
    "df_manager_new.loc['salary'] = df_manager_new.loc['salary'].str.replace(' ₽', '')\n",
    "df_manager_new.loc['salary'] = df_manager_new.loc['salary'].str.replace(' ', '')\n",
    "\n",
    "# Оставляем только первое число в опыте (количество лет)\n",
    "df_manager_new.loc['experience'] = df_manager_new.loc['experience'].str.split().str[0]\n",
    "\n",
    "\n",
    "# Меняем тип всех ячеек на int\n",
    "df_manager_new.loc['experience'] = df_manager_new.loc['experience'].astype(int)\n",
    "df_manager_new.loc['salary'] = df_manager_new.loc['salary'].astype(int)\n",
    "\n",
    "display(df_manager_new)"
   ]
  },
  {
   "cell_type": "code",
   "execution_count": 147,
   "metadata": {
    "colab": {
     "base_uri": "https://localhost:8080/",
     "height": 631
    },
    "id": "lX9hrNbGus64",
    "outputId": "c861a13a-6609-465f-d69c-92b1c710b36a"
   },
   "outputs": [
    {
     "data": {
      "image/png": "[encoded data removed]",
      "text/plain": [
       "<Figure size 800x500 with 1 Axes>"
      ]
     },
     "metadata": {},
     "output_type": "display_data"
    }
   ],
   "source": [
    "import matplotlib.pyplot as plt\n",
    "import seaborn as sns\n",
    "\n",
    "groups = []\n",
    "\n",
    "for item in df_manager_new.loc['experience']:\n",
    "\n",
    "    if item == 1:\n",
    "        groups.append('1 год')\n",
    "    elif 2 <= item <= 4:\n",
    "        groups.append('2-4 года')\n",
    "    elif 5 <= item <= 6:\n",
    "        groups.append('5-6 лет')\n",
    "    elif 7 <= item <= 8:\n",
    "        groups.append('7-8 лет')\n",
    "    else:\n",
    "        groups.append('9+ лет')\n",
    "\n",
    "# Использовал чат-гпт, чтобы добавить деление на группы\n",
    "df_manager_new.loc['Experience Group'] = groups\n",
    "df_grouped = df_manager_new.T.groupby('Experience Group')['salary'].mean().reset_index()\n",
    "\n",
    "# Строим график\n",
    "plt.figure(figsize=(8, 5))\n",
    "sns.barplot(x='Experience Group', y='salary', data=df_grouped, palette='plasma')\n",
    "plt.xlabel('Опыт работы')\n",
    "plt.ylabel('Средняя ожидаемая зарплата')\n",
    "plt.title('Средняя зарплата в зависимости от опыта работы, администратор')\n",
    " \n",
    "plt.show()"
   ]
  },
  {
   "cell_type": "code",
   "execution_count": 148,
   "metadata": {
    "colab": {
     "base_uri": "https://localhost:8080/",
     "height": 228
    },
    "id": "dDWwJMTqvbTY",
    "outputId": "af5ae17e-6840-4463-82ef-50469a3ad330"
   },
   "outputs": [
    {
     "data": {
      "text/html": [
       "<div>\n",
       "<style scoped>\n",
       "    .dataframe tbody tr th:only-of-type {\n",
       "        vertical-align: middle;\n",
       "    }\n",
       "\n",
       "    .dataframe tbody tr th {\n",
       "        vertical-align: top;\n",
       "    }\n",
       "\n",
       "    .dataframe thead th {\n",
       "        text-align: right;\n",
       "    }\n",
       "</style>\n",
       "<table border=\"1\" class=\"dataframe\">\n",
       "  <thead>\n",
       "    <tr style=\"text-align: right;\">\n",
       "      <th></th>\n",
       "      <th>0</th>\n",
       "      <th>1</th>\n",
       "      <th>2</th>\n",
       "      <th>3</th>\n",
       "      <th>4</th>\n",
       "      <th>5</th>\n",
       "      <th>6</th>\n",
       "      <th>7</th>\n",
       "      <th>8</th>\n",
       "      <th>9</th>\n",
       "      <th>...</th>\n",
       "      <th>222</th>\n",
       "      <th>223</th>\n",
       "      <th>224</th>\n",
       "      <th>225</th>\n",
       "      <th>226</th>\n",
       "      <th>227</th>\n",
       "      <th>228</th>\n",
       "      <th>229</th>\n",
       "      <th>230</th>\n",
       "      <th>231</th>\n",
       "    </tr>\n",
       "  </thead>\n",
       "  <tbody>\n",
       "    <tr>\n",
       "      <th>salary</th>\n",
       "      <td>40000 ₽</td>\n",
       "      <td>45000 ₽</td>\n",
       "      <td>70000 ₽</td>\n",
       "      <td>45000 ₽</td>\n",
       "      <td>40000 ₽</td>\n",
       "      <td>50000 ₽</td>\n",
       "      <td>70000 ₽</td>\n",
       "      <td>70000 ₽</td>\n",
       "      <td>40000 ₽</td>\n",
       "      <td>40000 ₽</td>\n",
       "      <td>...</td>\n",
       "      <td>40000 ₽</td>\n",
       "      <td>40000 ₽</td>\n",
       "      <td>40000 ₽</td>\n",
       "      <td>40000 ₽</td>\n",
       "      <td>45000 ₽</td>\n",
       "      <td>45000 ₽</td>\n",
       "      <td>40000 ₽</td>\n",
       "      <td>50000 ₽</td>\n",
       "      <td>50000 ₽</td>\n",
       "      <td>60000 ₽</td>\n",
       "    </tr>\n",
       "    <tr>\n",
       "      <th>experience</th>\n",
       "      <td>24 года 2 месяца</td>\n",
       "      <td>5 лет 3 месяца</td>\n",
       "      <td>5 лет 4 месяца</td>\n",
       "      <td>15 лет 9 месяцев</td>\n",
       "      <td>6 лет 8 месяцев</td>\n",
       "      <td>15 лет 9 месяцев</td>\n",
       "      <td>13 лет 3 месяца</td>\n",
       "      <td>12 лет 9 месяцев</td>\n",
       "      <td>11 лет 6 месяцев</td>\n",
       "      <td>25 лет 3 месяца</td>\n",
       "      <td>...</td>\n",
       "      <td>работоспособна  •  Работала помощник воспитате...</td>\n",
       "      <td>9 месяцев</td>\n",
       "      <td>10 лет 8 месяцев</td>\n",
       "      <td>13 лет 1 месяц</td>\n",
       "      <td>21 год 5 месяцев</td>\n",
       "      <td>10 лет</td>\n",
       "      <td>9 лет 8 месяцев</td>\n",
       "      <td>25 лет 7 месяцев</td>\n",
       "      <td>5 лет 7 месяцев</td>\n",
       "      <td>3 года 1 месяц</td>\n",
       "    </tr>\n",
       "  </tbody>\n",
       "</table>\n",
       "<p>2 rows × 232 columns</p>\n",
       "</div>"
      ],
      "text/plain": [
       "                         0               1               2    \\\n",
       "salary               40000 ₽         45000 ₽         70000 ₽   \n",
       "experience  24 года 2 месяца  5 лет 3 месяца  5 лет 4 месяца   \n",
       "\n",
       "                         3                4                 5    \\\n",
       "salary               45000 ₽          40000 ₽           50000 ₽   \n",
       "experience  15 лет 9 месяцев  6 лет 8 месяцев  15 лет 9 месяцев   \n",
       "\n",
       "                        6                 7                 8    \\\n",
       "salary              70000 ₽           70000 ₽           40000 ₽   \n",
       "experience  13 лет 3 месяца  12 лет 9 месяцев  11 лет 6 месяцев   \n",
       "\n",
       "                        9    ...  \\\n",
       "salary              40000 ₽  ...   \n",
       "experience  25 лет 3 месяца  ...   \n",
       "\n",
       "                                                          222        223  \\\n",
       "salary                                                40000 ₽    40000 ₽   \n",
       "experience  работоспособна  •  Работала помощник воспитате...  9 месяцев   \n",
       "\n",
       "                         224             225               226      227  \\\n",
       "salary               40000 ₽         40000 ₽           45000 ₽  45000 ₽   \n",
       "experience  10 лет 8 месяцев  13 лет 1 месяц  21 год 5 месяцев   10 лет   \n",
       "\n",
       "                        228               229              230             231  \n",
       "salary              40000 ₽           50000 ₽          50000 ₽         60000 ₽  \n",
       "experience  9 лет 8 месяцев  25 лет 7 месяцев  5 лет 7 месяцев  3 года 1 месяц  \n",
       "\n",
       "[2 rows x 232 columns]"
      ]
     },
     "metadata": {},
     "output_type": "display_data"
    }
   ],
   "source": [
    "# УБОРКА\n",
    "# КРИТЕРИИ: 1) живет в регионе; 2) полный день; 3) полная занятость 4) специализации: уборщик / уборщица 5) з/п от 40000 (чтобы избежать нерелевантных предложений)\n",
    "\n",
    "def clean_data(data):\n",
    "     cleaned_data = []\n",
    "     for item in data:\n",
    "        try:\n",
    "           salary = item['salary'].replace('\\u2009', '').replace('\\xa0', ' ')\n",
    "           experience = item['experience'].replace('\\xa0', ' ')\n",
    "           cleaned_data.append({'salary': salary, 'experience': experience})\n",
    "        except TypeError:\n",
    "           continue\n",
    "     return cleaned_data\n",
    "# Попросил чат-гпт написать функцию, которая бы приводила информацию в нормальный вид, и добавил try / except, чтобы избежать проблем с пустыми элементами списка\n",
    "\n",
    "candidates_cleaning = []\n",
    "\n",
    "for i in range(20): # Берем первые 20 страниц\n",
    "  html = f'https://hh.ru/search/resume?isDefaultArea=true&ored_clusters=true&order_by=relevance&search_period=0&logic=normal&pos=full_text&exp_period=all_time&area=1&employment=full&filter_exp_period=all_time&job_search_status=looking_for_offers&job_search_status=active_search&job_search_status=unknown&label=only_with_salary&professional_role=130&relocation=living&schedule=fullDay&text=уборщица+помещений&salary_from=40000&gender=unknown&page={i}&searchSessionId=5b744ea5-5b2a-4df1-ab68-e8af1a445272'\n",
    "  response = requests.get(html, headers={\"User-Agent\": \"Mozilla/5.0\"}) # Получаем html\n",
    "  soup = BeautifulSoup(response.content, 'html.parser') # Создаем объект BeautifulSoup\n",
    "\n",
    "  candidates = [] # Список кандидатов\n",
    "  candidates.append(None) # Чтобы потом не было проблем с \"if candidate_data == candidates[-1]:\"\n",
    "\n",
    "  for candidate in soup.find_all('div'):\n",
    "\n",
    "     salary_element = candidate.find('div', class_='magritte-text_typography-subtitle-2-semibold___3q3c-_3-0-31') # Вытаскиваем з/п\n",
    "     experience_element = candidate.find('div', class_='content--vAUqut0YCUxg4xgv') # Вытаскиваем информацию об опыте кандидатов\n",
    "\n",
    "     if salary_element and experience_element:\n",
    "         candidate_data = {'salary': salary_element.text.strip(), 'experience': experience_element.text.strip()} # Добавляем в итоговый список словарь с информацией о кандидате\n",
    "         if candidate_data == candidates[-1]:\n",
    "           pass\n",
    "         elif '\\u20BD' in candidate_data['salary']:\n",
    "           candidates.append(candidate_data)\n",
    "     # Если есть информация об опыте и з/п, то добавляем в список кандидатов\n",
    "     # Была проблема, что информация об одном и том же кандидате выводится несколько раз подряд, поэтому проверяем, что добавляемый элемент отличен от прошлого добавленного\n",
    "     # Некоторые слегка обнаглевшие люди указывают з/п в долларах и евро, удаляем их из списка\n",
    "    \n",
    "  final_data = clean_data(candidates) # Приводим в нормальный вид\n",
    "  candidates_cleaning.extend(final_data) # Перевод списка словарей в датафреймм \n",
    "\n",
    "  # for item in final_data:\n",
    "  #    print(item)\n",
    "\n",
    "df_cleaning = pd.DataFrame(candidates_cleaning)\n",
    "df_cleaning = df_cleaning.transpose()\n",
    "display(df_cleaning)"
   ]
  },
  {
   "cell_type": "code",
   "execution_count": 166,
   "metadata": {
    "colab": {
     "base_uri": "https://localhost:8080/",
     "height": 228
    },
    "id": "3W9izDnHgJys",
    "outputId": "5371bdc0-298f-4e2a-a35a-1b0acf7d729b"
   },
   "outputs": [
    {
     "data": {
      "text/html": [
       "<div>\n",
       "<style scoped>\n",
       "    .dataframe tbody tr th:only-of-type {\n",
       "        vertical-align: middle;\n",
       "    }\n",
       "\n",
       "    .dataframe tbody tr th {\n",
       "        vertical-align: top;\n",
       "    }\n",
       "\n",
       "    .dataframe thead th {\n",
       "        text-align: right;\n",
       "    }\n",
       "</style>\n",
       "<table border=\"1\" class=\"dataframe\">\n",
       "  <thead>\n",
       "    <tr style=\"text-align: right;\">\n",
       "      <th></th>\n",
       "      <th>0</th>\n",
       "      <th>1</th>\n",
       "      <th>2</th>\n",
       "      <th>3</th>\n",
       "      <th>4</th>\n",
       "      <th>5</th>\n",
       "      <th>6</th>\n",
       "      <th>7</th>\n",
       "      <th>8</th>\n",
       "      <th>9</th>\n",
       "      <th>...</th>\n",
       "      <th>221</th>\n",
       "      <th>223</th>\n",
       "      <th>224</th>\n",
       "      <th>225</th>\n",
       "      <th>226</th>\n",
       "      <th>227</th>\n",
       "      <th>228</th>\n",
       "      <th>229</th>\n",
       "      <th>230</th>\n",
       "      <th>231</th>\n",
       "    </tr>\n",
       "  </thead>\n",
       "  <tbody>\n",
       "    <tr>\n",
       "      <th>salary</th>\n",
       "      <td>40000 ₽</td>\n",
       "      <td>45000 ₽</td>\n",
       "      <td>70000 ₽</td>\n",
       "      <td>45000 ₽</td>\n",
       "      <td>40000 ₽</td>\n",
       "      <td>50000 ₽</td>\n",
       "      <td>70000 ₽</td>\n",
       "      <td>70000 ₽</td>\n",
       "      <td>40000 ₽</td>\n",
       "      <td>40000 ₽</td>\n",
       "      <td>...</td>\n",
       "      <td>40000 ₽</td>\n",
       "      <td>40000 ₽</td>\n",
       "      <td>40000 ₽</td>\n",
       "      <td>40000 ₽</td>\n",
       "      <td>45000 ₽</td>\n",
       "      <td>45000 ₽</td>\n",
       "      <td>40000 ₽</td>\n",
       "      <td>50000 ₽</td>\n",
       "      <td>50000 ₽</td>\n",
       "      <td>60000 ₽</td>\n",
       "    </tr>\n",
       "    <tr>\n",
       "      <th>experience</th>\n",
       "      <td>24 года 2 месяца</td>\n",
       "      <td>5 лет 3 месяца</td>\n",
       "      <td>5 лет 4 месяца</td>\n",
       "      <td>15 лет 9 месяцев</td>\n",
       "      <td>6 лет 8 месяцев</td>\n",
       "      <td>15 лет 9 месяцев</td>\n",
       "      <td>13 лет 3 месяца</td>\n",
       "      <td>12 лет 9 месяцев</td>\n",
       "      <td>11 лет 6 месяцев</td>\n",
       "      <td>25 лет 3 месяца</td>\n",
       "      <td>...</td>\n",
       "      <td>6 месяцев</td>\n",
       "      <td>9 месяцев</td>\n",
       "      <td>10 лет 8 месяцев</td>\n",
       "      <td>13 лет 1 месяц</td>\n",
       "      <td>21 год 5 месяцев</td>\n",
       "      <td>10 лет</td>\n",
       "      <td>9 лет 8 месяцев</td>\n",
       "      <td>25 лет 7 месяцев</td>\n",
       "      <td>5 лет 7 месяцев</td>\n",
       "      <td>3 года 1 месяц</td>\n",
       "    </tr>\n",
       "  </tbody>\n",
       "</table>\n",
       "<p>2 rows × 228 columns</p>\n",
       "</div>"
      ],
      "text/plain": [
       "                         0               1               2    \\\n",
       "salary               40000 ₽         45000 ₽         70000 ₽   \n",
       "experience  24 года 2 месяца  5 лет 3 месяца  5 лет 4 месяца   \n",
       "\n",
       "                         3                4                 5    \\\n",
       "salary               45000 ₽          40000 ₽           50000 ₽   \n",
       "experience  15 лет 9 месяцев  6 лет 8 месяцев  15 лет 9 месяцев   \n",
       "\n",
       "                        6                 7                 8    \\\n",
       "salary              70000 ₽           70000 ₽           40000 ₽   \n",
       "experience  13 лет 3 месяца  12 лет 9 месяцев  11 лет 6 месяцев   \n",
       "\n",
       "                        9    ...        221        223               224  \\\n",
       "salary              40000 ₽  ...    40000 ₽    40000 ₽           40000 ₽   \n",
       "experience  25 лет 3 месяца  ...  6 месяцев  9 месяцев  10 лет 8 месяцев   \n",
       "\n",
       "                       225               226      227              228  \\\n",
       "salary             40000 ₽           45000 ₽  45000 ₽          40000 ₽   \n",
       "experience  13 лет 1 месяц  21 год 5 месяцев   10 лет  9 лет 8 месяцев   \n",
       "\n",
       "                         229              230             231  \n",
       "salary               50000 ₽          50000 ₽         60000 ₽  \n",
       "experience  25 лет 7 месяцев  5 лет 7 месяцев  3 года 1 месяц  \n",
       "\n",
       "[2 rows x 228 columns]"
      ]
     },
     "metadata": {},
     "output_type": "display_data"
    }
   ],
   "source": [
    "words = [\"год\", \"года\", \"месяц\", \"месяца\", \"лет\"]\n",
    "\n",
    "df_cleaning_new = df_cleaning.copy()\n",
    "\n",
    "for column in df_cleaning.columns:\n",
    "    experience = str(df_cleaning.loc[\"experience\", column])\n",
    "    for word in words:\n",
    "      if word in experience:\n",
    "        break\n",
    "    else:\n",
    "      df_cleaning_new = df_cleaning_new.drop(columns=[column])\n",
    "\n",
    "display(df_cleaning_new)"
   ]
  },
  {
   "cell_type": "code",
   "execution_count": 167,
   "metadata": {
    "colab": {
     "base_uri": "https://localhost:8080/",
     "height": 140
    },
    "id": "Rn61kQi3vNt4",
    "outputId": "4f9e76df-d97d-41cc-f04f-30d504b6231b"
   },
   "outputs": [
    {
     "data": {
      "text/html": [
       "<div>\n",
       "<style scoped>\n",
       "    .dataframe tbody tr th:only-of-type {\n",
       "        vertical-align: middle;\n",
       "    }\n",
       "\n",
       "    .dataframe tbody tr th {\n",
       "        vertical-align: top;\n",
       "    }\n",
       "\n",
       "    .dataframe thead th {\n",
       "        text-align: right;\n",
       "    }\n",
       "</style>\n",
       "<table border=\"1\" class=\"dataframe\">\n",
       "  <thead>\n",
       "    <tr style=\"text-align: right;\">\n",
       "      <th></th>\n",
       "      <th>0</th>\n",
       "      <th>1</th>\n",
       "      <th>2</th>\n",
       "      <th>3</th>\n",
       "      <th>4</th>\n",
       "      <th>5</th>\n",
       "      <th>6</th>\n",
       "      <th>7</th>\n",
       "      <th>8</th>\n",
       "      <th>9</th>\n",
       "      <th>...</th>\n",
       "      <th>221</th>\n",
       "      <th>223</th>\n",
       "      <th>224</th>\n",
       "      <th>225</th>\n",
       "      <th>226</th>\n",
       "      <th>227</th>\n",
       "      <th>228</th>\n",
       "      <th>229</th>\n",
       "      <th>230</th>\n",
       "      <th>231</th>\n",
       "    </tr>\n",
       "  </thead>\n",
       "  <tbody>\n",
       "    <tr>\n",
       "      <th>salary</th>\n",
       "      <td>40000</td>\n",
       "      <td>45000</td>\n",
       "      <td>70000</td>\n",
       "      <td>45000</td>\n",
       "      <td>40000</td>\n",
       "      <td>50000</td>\n",
       "      <td>70000</td>\n",
       "      <td>70000</td>\n",
       "      <td>40000</td>\n",
       "      <td>40000</td>\n",
       "      <td>...</td>\n",
       "      <td>40000</td>\n",
       "      <td>40000</td>\n",
       "      <td>40000</td>\n",
       "      <td>40000</td>\n",
       "      <td>45000</td>\n",
       "      <td>45000</td>\n",
       "      <td>40000</td>\n",
       "      <td>50000</td>\n",
       "      <td>50000</td>\n",
       "      <td>60000</td>\n",
       "    </tr>\n",
       "    <tr>\n",
       "      <th>experience</th>\n",
       "      <td>24</td>\n",
       "      <td>5</td>\n",
       "      <td>5</td>\n",
       "      <td>15</td>\n",
       "      <td>6</td>\n",
       "      <td>15</td>\n",
       "      <td>13</td>\n",
       "      <td>12</td>\n",
       "      <td>11</td>\n",
       "      <td>25</td>\n",
       "      <td>...</td>\n",
       "      <td>6</td>\n",
       "      <td>9</td>\n",
       "      <td>10</td>\n",
       "      <td>13</td>\n",
       "      <td>21</td>\n",
       "      <td>10</td>\n",
       "      <td>9</td>\n",
       "      <td>25</td>\n",
       "      <td>5</td>\n",
       "      <td>3</td>\n",
       "    </tr>\n",
       "  </tbody>\n",
       "</table>\n",
       "<p>2 rows × 228 columns</p>\n",
       "</div>"
      ],
      "text/plain": [
       "              0      1      2      3      4      5      6      7      8    \\\n",
       "salary      40000  45000  70000  45000  40000  50000  70000  70000  40000   \n",
       "experience     24      5      5     15      6     15     13     12     11   \n",
       "\n",
       "              9    ...    221    223    224    225    226    227    228  \\\n",
       "salary      40000  ...  40000  40000  40000  40000  45000  45000  40000   \n",
       "experience     25  ...      6      9     10     13     21     10      9   \n",
       "\n",
       "              229    230    231  \n",
       "salary      50000  50000  60000  \n",
       "experience     25      5      3  \n",
       "\n",
       "[2 rows x 228 columns]"
      ]
     },
     "metadata": {},
     "output_type": "display_data"
    }
   ],
   "source": [
    "# Готовим датасет к работе с ним\n",
    "df_cleaning_new.loc['salary'] = df_cleaning_new.loc['salary'].str.replace(' ₽', '')\n",
    "df_cleaning_new.loc['salary'] = df_cleaning_new.loc['salary'].str.replace(' ', '')\n",
    "\n",
    "# Оставляем только первое число в опыте (количество лет)\n",
    "df_cleaning_new.loc['experience'] = df_cleaning_new.loc['experience'].str.split().str[0]\n",
    "\n",
    "df_cleaning_new.loc['experience'] = df_cleaning_new.loc['experience'].astype(int)\n",
    "df_cleaning_new.loc['salary'] = df_cleaning_new.loc['salary'].astype(int)\n",
    "\n",
    "display(df_cleaning_new)"
   ]
  },
  {
   "cell_type": "code",
   "execution_count": 168,
   "metadata": {
    "colab": {
     "base_uri": "https://localhost:8080/",
     "height": 630
    },
    "id": "d9-ubPy4vWBD",
    "outputId": "9187a447-27c3-48e4-cdde-52a3e862dc09"
   },
   "outputs": [
    {
     "data": {
      "image/png": "[encoded data removed]",
      "text/plain": [
       "<Figure size 800x500 with 1 Axes>"
      ]
     },
     "metadata": {},
     "output_type": "display_data"
    }
   ],
   "source": [
    "import matplotlib.pyplot as plt\n",
    "import seaborn as sns\n",
    "\n",
    "groups = []\n",
    "\n",
    "for item in df_cleaning_new.loc['experience']:\n",
    "\n",
    "    if item == 1:\n",
    "        groups.append('1 год')\n",
    "    elif 2 <= item <= 5:\n",
    "        groups.append('2-5 лет')\n",
    "    elif 6 <= item <= 7:\n",
    "        groups.append('6-7 лет')\n",
    "    elif 8 <= item <= 9:\n",
    "        groups.append('8-9 лет')\n",
    "    else:\n",
    "        groups.append('10+ лет')\n",
    "\n",
    "# Использовал чат-гпт, чтобы добавить деление на группы\n",
    "df_cleaning_new.loc['Experience Group'] = groups\n",
    "df_grouped = df_cleaning_new.T.groupby('Experience Group')['salary'].mean().reset_index()\n",
    "\n",
    "# Строим график\n",
    "plt.figure(figsize=(8, 5))\n",
    "sns.barplot(x='Experience Group', y='salary', data=df_grouped, palette='plasma')\n",
    "plt.xlabel('Опыт работы')\n",
    "plt.ylabel('Средняя ожидаемая зарплата')\n",
    "plt.title('Средняя зарплата в зависимости от опыта работы, уборщица')\n",
    "plt.xticks(rotation=45)\n",
    "plt.show()"
   ]
  },
  {
   "cell_type": "markdown",
   "metadata": {
    "id": "3F6vlEtMyacf"
   },
   "source": [
    "**Теперь построим график, на котором объединим информацию о всех сотрудниках:**"
   ]
  },
  {
   "cell_type": "code",
   "execution_count": null,
   "metadata": {
    "colab": {
     "base_uri": "https://localhost:8080/",
     "height": 603
    },
    "id": "bxn2g9wByTUU",
    "outputId": "3d648f4b-22ef-4a48-a4b4-51fc66be3c1d"
   },
   "outputs": [],
   "source": [
    "df_barista_new = df_barista_new.T\n",
    "df_cleaning_new = df_cleaning_new.T\n",
    "df_manager_new = df_manager_new.T\n",
    "\n",
    "# Группируем информацию о зарплатах в зависимости от опыта для бариста\n",
    "groups_barista = []\n",
    "for item in df_barista_new['experience']:  \n",
    "    if item == 1:\n",
    "        groups_barista.append('1 год')\n",
    "    elif 2 <= item <= 4:\n",
    "        groups_barista.append('2-4 года')\n",
    "    elif 4 <= item <= 6:\n",
    "        groups_barista.append('4-6 лет')\n",
    "    elif 7 <= item <= 8:\n",
    "        groups_barista.append('7-8 лет')\n",
    "    else:\n",
    "        groups_barista.append('9+ лет')\n",
    "\n",
    "df_barista_new['Experience Group'] = groups_barista\n",
    "df_barista_grouped = df_barista_new.groupby('Experience Group')['salary'].mean().reset_index()\n",
    "\n",
    "# Группируем информацию о зарплатах в зависимости от опыта для уборщиц\n",
    "for item in df_cleaning_new['experience']:\n",
    "    if item == 1:\n",
    "        groups_cleaning.append('1 год')\n",
    "    elif 2 <= item <= 5:\n",
    "        groups_cleaning.append('2-4 года')\n",
    "    elif 6 <= item <= 7:\n",
    "        groups_cleaning.append('4-6 лет')\n",
    "    elif 8 <= item <= 9:\n",
    "        groups_cleaning.append('7-8 лет')\n",
    "    else:\n",
    "        groups_cleaning.append('9+ лет')\n",
    "\n",
    "df_cleaning_new['Experience Group'] = groups_cleaning  \n",
    "df_cleaning_grouped = df_cleaning_new.groupby('Experience Group')['salary'].mean().reset_index()\n",
    "\n",
    "# Группируем информацию о зарплатах в зависимости от опыта для менеджеров\n",
    "groups_manager = []\n",
    "for item in df_manager_new['experience']: \n",
    "    if item == 1:\n",
    "        groups_manager.append('1 год')\n",
    "    elif 2 <= item <= 4:\n",
    "        groups_manager.append('2-4 года')\n",
    "    elif 4 <= item <= 6:\n",
    "        groups_manager.append('4-6 лет')\n",
    "    elif 7 <= item <= 8:\n",
    "        groups_manager.append('7-8 лет')\n",
    "    else:\n",
    "        groups_manager.append('9+ лет')\n",
    "\n",
    "df_manager_new['Experience Group'] = groups_manager\n",
    "df_manager_grouped = df_manager_new.groupby('Experience Group')['salary'].mean().reset_index()\n",
    "\n",
    "# Объединяем все в один датафрейм\n",
    "df_barista_grouped['role'] = 'Бариста'\n",
    "df_cleaning_grouped['role'] = 'Уборщица'\n",
    "df_manager_grouped['role'] = 'Менеджер'\n",
    "df_all = pd.concat([df_barista_grouped, df_cleaning_grouped, df_manager_grouped])\n",
    "\n",
    "plt.figure(figsize=(10, 6))\n",
    "sns.barplot(x='Experience Group', y='salary', hue='role', data=df_all, palette='plasma')\n",
    "plt.xlabel('Опыт работы')\n",
    "plt.ylabel('Средняя ожидаемая зарплата')\n",
    "plt.title('Средняя зарплата в зависимости от опыта работы')\n",
    "plt.xticks(rotation=45)\n",
    "plt.legend(title='Должность')\n",
    "\n",
    "plt.show()\n"
   ]
  },
  {
   "cell_type": "code",
   "execution_count": null,
   "metadata": {
    "colab": {
     "base_uri": "https://localhost:8080/",
     "height": 905
    },
    "id": "Z0pTmwLy4EXH",
    "outputId": "5d8d50a6-e1cc-444e-9768-0b731ffc239a"
   },
   "outputs": [],
   "source": [
    "import matplotlib.pyplot as plt\n",
    "import seaborn as sns\n",
    "\n",
    "fig, axes = plt.subplots(1, 3, figsize=(18, 6))\n",
    "\n",
    "sns.histplot(df_manager_new['salary'], bins=20, kde=True, color='#9c179e', ax=axes[0])\n",
    "axes[0].set_title('Распределение зарплат (Менеджеры)')\n",
    "axes[0].set_xlabel('Зарплата')\n",
    "axes[0].set_ylabel('Количество работников')\n",
    "axes[0].set_xlim(20000, 300000)\n",
    "\n",
    "sns.histplot(df_barista_new['salary'], bins=20, kde=True, color='#0d0887', ax=axes[1])\n",
    "axes[1].set_title('Распределение зарплат (Бариста)')\n",
    "axes[1].set_xlabel('Зарплата')\n",
    "axes[1].set_xlim(20000, 300000)\n",
    "\n",
    "sns.histplot(df_cleaning_new['salary'], bins=20, kde=True, color='#ed7953', ax=axes[2])\n",
    "axes[2].set_title('Распределение зарплат (Уборщицы)')\n",
    "axes[2].set_xlabel('Зарплата')\n",
    "axes[2].set_xlim(20000, 180000)\n",
    "axes[2].set_ylim(0, 120)\n",
    "\n",
    "plt.tight_layout()\n",
    "plt.show()\n",
    "\n",
    "#['#0d0887', '#46039f', '#7201a8', '#9c179e', '#bd3786', '#d8576b', '#ed7953', '#fb9f3a', '#fdca26', '#f0f921']\n",
    "\n",
    "fig, axes = plt.subplots(1, 3, figsize=(18, 6))\n",
    "\n",
    "sns.histplot(df_manager_new['experience'], bins=10, kde=True, color='#9c179e', ax=axes[0])\n",
    "axes[0].set_title('Распределение опыта (Менеджеры)')\n",
    "axes[0].set_xlabel('Опыт работы')\n",
    "axes[0].set_ylabel('Количество работников')\n",
    "\n",
    "sns.histplot(df_barista_new['experience'], bins=10, kde=True, color='#0d0887', ax=axes[1])\n",
    "axes[1].set_title('Распределение опыта (Бариста)')\n",
    "axes[1].set_xlabel('Опыт работы')\n",
    "\n",
    "sns.histplot(df_cleaning_new['experience'], bins=10, kde=True, color='#ed7953', ax=axes[2])\n",
    "axes[2].set_title('Распределение опыта (Уборщицы)')\n",
    "axes[2].set_xlabel('Опыт работы')\n",
    "\n",
    "plt.tight_layout()\n",
    "plt.savefig(\"barista_salary.png\", dpi=300, bbox_inches='tight')  # Сохранение\n",
    "\n",
    "plt.show()\n"
   ]
  },
  {
   "cell_type": "code",
   "execution_count": null,
   "metadata": {},
   "outputs": [],
   "source": [
    "# SELENIUM"
   ]
  },
  {
   "cell_type": "code",
   "execution_count": 155,
   "metadata": {},
   "outputs": [],
   "source": [
    "from selenium import webdriver\n",
    "from selenium.webdriver.common.by import By\n",
    "from selenium.webdriver.common.keys import Keys  \n",
    "from selenium.webdriver.common.action_chains import ActionChains\n",
    "import time\n",
    "driver = webdriver.Safari() \n",
    "driver.get(\"https://www.avito.ru/moskva/rabota\") "
   ]
  },
  {
   "cell_type": "code",
   "execution_count": null,
   "metadata": {},
   "outputs": [],
   "source": [
    "# БАРИСТА"
   ]
  },
  {
   "cell_type": "code",
   "execution_count": 156,
   "metadata": {},
   "outputs": [],
   "source": [
    "element = driver.find_element(By.ID, \"bx_search\") \n",
    "\n",
    "element.send_keys('Бариста ') \n",
    "element.send_keys('в кофейню') \n",
    "# Разбил на 2 строки, чтобы не сливалось в одно слово при вводе\n",
    "\n",
    "element.send_keys(Keys.ENTER)"
   ]
  },
  {
   "cell_type": "code",
   "execution_count": 157,
   "metadata": {},
   "outputs": [],
   "source": [
    "button = driver.find_element(By.CSS_SELECTOR, \"a[data-marker='category[1000061]/clickable']\")\n",
    "button.click()\n",
    "# Кликаем на кнопку \"Ищу работу\", чтобы получить информацию о том, сколько платят бариста другие кофейни"
   ]
  },
  {
   "cell_type": "code",
   "execution_count": 158,
   "metadata": {},
   "outputs": [
    {
     "name": "stdout",
     "output_type": "stream",
     "text": [
      "['Бариста/ Шеф-Бариста', 119536]\n",
      "['Бариста в кофейню', 63218]\n",
      "['Бариста м. Коломенская', 81609]\n",
      "['Бариста в кофейню «Бодрый день» в Космосе', 86206]\n",
      "['Бариста в кофейню с оплатой', 82752]\n",
      "['Бариста в кофейню', 74712]\n",
      "['Бариста', 103448]\n",
      "['Бариста 5/2 8:30-18:30 Электрозаводская/Бауманская', 97701]\n",
      "['Бариста М. Аминьевская', 95402]\n",
      "['Бариста выходного дня в кофейню \"Тайна\"', 66560]\n",
      "['Бариста без опыта', 80000]\n",
      "['Бариста', 3448]\n",
      "['Бариста в кофейню', 86206]\n",
      "['Вакансия Бариста', 79760]\n",
      "['Бариста в кофейню (м. Юго-Западная)', 80459]\n",
      "['Бариста в кофейню', 90112]\n",
      "['Бариста в кофейню \"Cofix\"', 106321]\n",
      "['Бариста в кофейню', 80459]\n",
      "['Бариста в кофейню', 91954]\n",
      "['Бариста без опыта работы', 80000]\n",
      "['Бариста в кофейню Дринкит (м.Белорусская)', 60919]\n",
      "['Бариста в кофейню', 109195]\n",
      "['Бариста в кофейню Пан Круассан', 66928]\n",
      "['Бариста - кассир в кофейню«Cinnabon»м.Новогиреево', 96551]\n",
      "['Бариста в кофейню (не сеть)', 2873]\n",
      "['Бариста - кассир в кофейню «cinnabon» м. Кузьминки', 83017]\n",
      "['Бариста в кофейню (Без опыта)', 94827]\n",
      "['Бариста-официант', 68965]\n",
      "['Продавец бариста в Кофейню (Дрожжино)', 77586]\n",
      "['Бариста в кофейню', 68960]\n",
      "['Бариста в кофейню', 70800]\n",
      "['Бариста в кофейню работа', 91954]\n",
      "['Бариста в кофейню Better Be Coffee', 91954]\n",
      "['Бариста в кофейню', 97701]\n",
      "['Бариста строго 18 лет дневные смены', 6064]\n",
      "['Бариста в кофейню', 73552]\n",
      "['Бариста в кофейню cofix', 66091]\n",
      "['Бариста в Cofix', 66091]\n",
      "['Бариста в кофейню', 59760]\n",
      "['Бариста в кофейню', 60919]\n",
      "['Бариста в кофейню', 97701]\n",
      "['Бариста в кофейню', 63218]\n",
      "['Бариста м. Полянка', 110919]\n",
      "['Бариста в кофейню (ЖК Скандинавия, зп еженедельно)', 68965]\n",
      "['Шеф бариста', 103448]\n",
      "['Бариста с опытом', 101136]\n",
      "['Бариста/ Шеф-Бариста', 119536]\n",
      "['Бариста в кофейню', 63218]\n",
      "['Бариста м. Коломенская', 81609]\n",
      "['Бариста в кофейню «Бодрый день» в Космосе', 86206]\n",
      "['Бариста в кофейню с оплатой', 82752]\n",
      "['Бариста в кофейню', 74712]\n",
      "['Бариста', 103448]\n",
      "['Бариста 5/2 8:30-18:30 Электрозаводская/Бауманская', 97701]\n",
      "['Бариста М. Аминьевская', 95402]\n",
      "['Бариста выходного дня в кофейню \"Тайна\"', 66560]\n",
      "['Бариста без опыта', 80000]\n",
      "['Бариста', 3448]\n",
      "['Бариста в кофейню', 86206]\n",
      "['Вакансия Бариста', 79760]\n",
      "['Бариста в кофейню (м. Юго-Западная)', 80459]\n",
      "['Бариста в кофейню', 90112]\n",
      "['Бариста в кофейню \"Cofix\"', 106321]\n",
      "['Бариста в кофейню', 80459]\n",
      "['Бариста в кофейню', 91954]\n",
      "['Бариста без опыта работы', 80000]\n",
      "['Бариста в кофейню Дринкит (м.Белорусская)', 60919]\n",
      "['Бариста в кофейню', 109195]\n",
      "['Бариста в кофейню Пан Круассан', 66928]\n",
      "['Бариста - кассир в кофейню«Cinnabon»м.Новогиреево', 96551]\n",
      "['Бариста в кофейню (не сеть)', 2873]\n",
      "['Бариста - кассир в кофейню «cinnabon» м. Кузьминки', 83017]\n",
      "['Бариста в кофейню (Без опыта)', 94827]\n",
      "['Бариста-официант', 68965]\n",
      "['Продавец бариста в Кофейню (Дрожжино)', 77586]\n",
      "['Бариста в кофейню', 68960]\n",
      "['Бариста в кофейню', 70800]\n",
      "['Бариста в кофейню работа', 91954]\n",
      "['Бариста в кофейню Better Be Coffee', 91954]\n",
      "['Бариста в кофейню', 97701]\n",
      "['Бариста строго 18 лет дневные смены', 6064]\n",
      "['Бариста в кофейню', 73552]\n",
      "['Бариста в кофейню cofix', 66091]\n",
      "['Бариста в Cofix', 66091]\n",
      "['Бариста в кофейню', 59760]\n",
      "['Бариста в кофейню', 60919]\n",
      "['Бариста в кофейню', 97701]\n",
      "['Бариста в кофейню', 63218]\n",
      "['Бариста м. Полянка', 110919]\n",
      "['Бариста в кофейню (ЖК Скандинавия, зп еженедельно)', 68965]\n",
      "['Шеф бариста', 103448]\n",
      "['Бариста с опытом', 101136]\n",
      "['Бариста/ Шеф-Бариста', 119536]\n",
      "['Бариста в кофейню', 63218]\n",
      "['Бариста м. Коломенская', 81609]\n",
      "['Бариста в кофейню «Бодрый день» в Космосе', 86206]\n",
      "['Бариста в кофейню с оплатой', 82752]\n",
      "['Бариста в кофейню', 74712]\n",
      "['Бариста', 103448]\n",
      "['Бариста 5/2 8:30-18:30 Электрозаводская/Бауманская', 97701]\n",
      "['Бариста М. Аминьевская', 95402]\n",
      "['Бариста выходного дня в кофейню \"Тайна\"', 66560]\n",
      "['Бариста без опыта', 80000]\n",
      "['Бариста', 3448]\n",
      "['Бариста в кофейню', 86206]\n",
      "['Вакансия Бариста', 79760]\n",
      "['Бариста в кофейню (м. Юго-Западная)', 80459]\n",
      "['Бариста в кофейню', 90112]\n",
      "['Бариста в кофейню \"Cofix\"', 106321]\n",
      "['Бариста в кофейню', 80459]\n",
      "['Бариста в кофейню', 91954]\n",
      "['Бариста без опыта работы', 80000]\n",
      "['Бариста в кофейню Дринкит (м.Белорусская)', 60919]\n",
      "['Бариста в кофейню', 109195]\n",
      "['Бариста в кофейню Пан Круассан', 66928]\n",
      "['Бариста - кассир в кофейню«Cinnabon»м.Новогиреево', 96551]\n",
      "['Бариста в кофейню (не сеть)', 2873]\n",
      "['Бариста - кассир в кофейню «cinnabon» м. Кузьминки', 83017]\n",
      "['Бариста в кофейню (Без опыта)', 94827]\n",
      "['Бариста-официант', 68965]\n",
      "['Продавец бариста в Кофейню (Дрожжино)', 77586]\n",
      "['Бариста в кофейню', 68960]\n",
      "['Бариста в кофейню', 70800]\n",
      "['Бариста в кофейню работа', 91954]\n",
      "['Бариста в кофейню Better Be Coffee', 91954]\n",
      "['Бариста в кофейню', 97701]\n",
      "['Бариста строго 18 лет дневные смены', 6064]\n",
      "['Бариста в кофейню', 73552]\n",
      "['Бариста в кофейню cofix', 66091]\n",
      "['Бариста в Cofix', 66091]\n",
      "['Бариста в кофейню', 59760]\n",
      "['Бариста в кофейню', 60919]\n",
      "['Бариста в кофейню', 97701]\n",
      "['Бариста в кофейню', 63218]\n",
      "['Бариста м. Полянка', 110919]\n",
      "['Бариста в кофейню (ЖК Скандинавия, зп еженедельно)', 68965]\n",
      "['Шеф бариста', 103448]\n",
      "['Бариста с опытом', 101136]\n",
      "['Бариста/ Шеф-Бариста', 119536]\n",
      "['Бариста в кофейню', 63218]\n",
      "['Бариста м. Коломенская', 81609]\n",
      "['Бариста в кофейню «Бодрый день» в Космосе', 86206]\n",
      "['Бариста в кофейню с оплатой', 82752]\n",
      "['Бариста в кофейню', 74712]\n",
      "['Бариста', 103448]\n",
      "['Бариста 5/2 8:30-18:30 Электрозаводская/Бауманская', 97701]\n",
      "['Бариста М. Аминьевская', 95402]\n",
      "['Бариста выходного дня в кофейню \"Тайна\"', 66560]\n",
      "['Бариста без опыта', 80000]\n",
      "['Бариста', 3448]\n",
      "['Бариста в кофейню', 86206]\n",
      "['Вакансия Бариста', 79760]\n",
      "['Бариста в кофейню (м. Юго-Западная)', 80459]\n",
      "['Бариста в кофейню', 90112]\n",
      "['Бариста в кофейню \"Cofix\"', 106321]\n",
      "['Бариста в кофейню', 80459]\n",
      "['Бариста в кофейню', 91954]\n",
      "['Бариста без опыта работы', 80000]\n",
      "['Бариста в кофейню Дринкит (м.Белорусская)', 60919]\n",
      "['Бариста в кофейню', 109195]\n",
      "['Бариста в кофейню Пан Круассан', 66928]\n",
      "['Бариста - кассир в кофейню«Cinnabon»м.Новогиреево', 96551]\n",
      "['Бариста в кофейню (не сеть)', 2873]\n",
      "['Бариста - кассир в кофейню «cinnabon» м. Кузьминки', 83017]\n",
      "['Бариста в кофейню (Без опыта)', 94827]\n",
      "['Бариста-официант', 68965]\n",
      "['Продавец бариста в Кофейню (Дрожжино)', 77586]\n",
      "['Бариста в кофейню', 68960]\n",
      "['Бариста в кофейню', 70800]\n",
      "['Бариста в кофейню работа', 91954]\n",
      "['Бариста в кофейню Better Be Coffee', 91954]\n",
      "['Бариста в кофейню', 97701]\n",
      "['Бариста строго 18 лет дневные смены', 6064]\n",
      "['Бариста в кофейню', 73552]\n",
      "['Бариста в кофейню cofix', 66091]\n",
      "['Бариста в Cofix', 66091]\n",
      "['Бариста в кофейню', 59760]\n",
      "['Бариста в кофейню', 60919]\n",
      "['Бариста в кофейню', 97701]\n",
      "['Бариста в кофейню', 63218]\n",
      "['Бариста м. Полянка', 110919]\n",
      "['Бариста в кофейню (ЖК Скандинавия, зп еженедельно)', 68965]\n",
      "['Шеф бариста', 103448]\n",
      "['Бариста с опытом', 101136]\n",
      "['Бариста/ Шеф-Бариста', 119536]\n",
      "['Бариста в кофейню', 63218]\n",
      "['Бариста м. Коломенская', 81609]\n",
      "['Бариста в кофейню «Бодрый день» в Космосе', 86206]\n",
      "['Бариста в кофейню с оплатой', 82752]\n",
      "['Бариста в кофейню', 74712]\n",
      "['Бариста', 103448]\n",
      "['Бариста 5/2 8:30-18:30 Электрозаводская/Бауманская', 97701]\n",
      "['Бариста М. Аминьевская', 95402]\n",
      "['Бариста выходного дня в кофейню \"Тайна\"', 66560]\n",
      "['Бариста без опыта', 80000]\n",
      "['Бариста', 3448]\n",
      "['Бариста в кофейню', 86206]\n",
      "['Вакансия Бариста', 79760]\n",
      "['Бариста в кофейню (м. Юго-Западная)', 80459]\n",
      "['Бариста в кофейню', 90112]\n",
      "['Бариста в кофейню \"Cofix\"', 106321]\n",
      "['Бариста в кофейню', 80459]\n",
      "['Бариста в кофейню', 91954]\n",
      "['Бариста без опыта работы', 80000]\n",
      "['Бариста в кофейню Дринкит (м.Белорусская)', 60919]\n",
      "['Бариста в кофейню', 109195]\n",
      "['Бариста в кофейню Пан Круассан', 66928]\n",
      "['Бариста - кассир в кофейню«Cinnabon»м.Новогиреево', 96551]\n",
      "['Бариста в кофейню (не сеть)', 2873]\n",
      "['Бариста - кассир в кофейню «cinnabon» м. Кузьминки', 83017]\n",
      "['Бариста в кофейню (Без опыта)', 94827]\n",
      "['Бариста-официант', 68965]\n",
      "['Продавец бариста в Кофейню (Дрожжино)', 77586]\n",
      "['Бариста в кофейню', 68960]\n",
      "['Бариста в кофейню', 70800]\n",
      "['Бариста в кофейню работа', 91954]\n",
      "['Бариста в кофейню Better Be Coffee', 91954]\n",
      "['Бариста в кофейню', 97701]\n",
      "['Бариста строго 18 лет дневные смены', 6064]\n",
      "['Бариста в кофейню', 73552]\n",
      "['Бариста в кофейню cofix', 66091]\n",
      "['Бариста в Cofix', 66091]\n",
      "['Бариста в кофейню', 59760]\n",
      "['Бариста в кофейню', 60919]\n",
      "['Бариста в кофейню', 97701]\n",
      "['Бариста в кофейню', 63218]\n",
      "['Бариста м. Полянка', 110919]\n",
      "['Бариста в кофейню (ЖК Скандинавия, зп еженедельно)', 68965]\n",
      "['Шеф бариста', 103448]\n",
      "['Бариста с опытом', 101136]\n",
      "['Бариста/ Шеф-Бариста', 119536]\n",
      "['Бариста в кофейню', 63218]\n",
      "['Бариста м. Коломенская', 81609]\n",
      "['Бариста в кофейню «Бодрый день» в Космосе', 86206]\n",
      "['Бариста в кофейню с оплатой', 82752]\n",
      "['Бариста в кофейню', 74712]\n",
      "['Бариста', 103448]\n",
      "['Бариста 5/2 8:30-18:30 Электрозаводская/Бауманская', 97701]\n",
      "['Бариста М. Аминьевская', 95402]\n",
      "['Бариста выходного дня в кофейню \"Тайна\"', 66560]\n",
      "['Бариста без опыта', 80000]\n",
      "['Бариста', 3448]\n",
      "['Бариста в кофейню', 86206]\n",
      "['Вакансия Бариста', 79760]\n",
      "['Бариста в кофейню (м. Юго-Западная)', 80459]\n",
      "['Бариста в кофейню', 90112]\n",
      "['Бариста в кофейню \"Cofix\"', 106321]\n",
      "['Бариста в кофейню', 80459]\n",
      "['Бариста в кофейню', 91954]\n",
      "['Бариста без опыта работы', 80000]\n",
      "['Бариста в кофейню Дринкит (м.Белорусская)', 60919]\n",
      "['Бариста в кофейню', 109195]\n",
      "['Бариста в кофейню Пан Круассан', 66928]\n",
      "['Бариста - кассир в кофейню«Cinnabon»м.Новогиреево', 96551]\n",
      "['Бариста в кофейню (не сеть)', 2873]\n",
      "['Бариста - кассир в кофейню «cinnabon» м. Кузьминки', 83017]\n",
      "['Бариста в кофейню (Без опыта)', 94827]\n",
      "['Бариста-официант', 68965]\n",
      "['Продавец бариста в Кофейню (Дрожжино)', 77586]\n",
      "['Бариста в кофейню', 68960]\n",
      "['Бариста в кофейню', 70800]\n",
      "['Бариста в кофейню работа', 91954]\n",
      "['Бариста в кофейню Better Be Coffee', 91954]\n",
      "['Бариста в кофейню', 97701]\n",
      "['Бариста строго 18 лет дневные смены', 6064]\n",
      "['Бариста в кофейню', 73552]\n",
      "['Бариста в кофейню cofix', 66091]\n",
      "['Бариста в Cofix', 66091]\n",
      "['Бариста в кофейню', 59760]\n",
      "['Бариста в кофейню', 60919]\n",
      "['Бариста в кофейню', 97701]\n",
      "['Бариста в кофейню', 63218]\n",
      "['Бариста м. Полянка', 110919]\n",
      "['Бариста в кофейню (ЖК Скандинавия, зп еженедельно)', 68965]\n",
      "['Шеф бариста', 103448]\n",
      "['Бариста с опытом', 101136]\n",
      "['Бариста/ Шеф-Бариста', 119536]\n",
      "['Бариста в кофейню', 63218]\n",
      "['Бариста м. Коломенская', 81609]\n",
      "['Бариста в кофейню «Бодрый день» в Космосе', 86206]\n",
      "['Бариста в кофейню с оплатой', 82752]\n",
      "['Бариста в кофейню', 74712]\n",
      "['Бариста', 103448]\n",
      "['Бариста 5/2 8:30-18:30 Электрозаводская/Бауманская', 97701]\n",
      "['Бариста М. Аминьевская', 95402]\n",
      "['Бариста выходного дня в кофейню \"Тайна\"', 66560]\n",
      "['Бариста без опыта', 80000]\n",
      "['Бариста', 3448]\n",
      "['Бариста в кофейню', 86206]\n",
      "['Вакансия Бариста', 79760]\n",
      "['Бариста в кофейню (м. Юго-Западная)', 80459]\n",
      "['Бариста в кофейню', 90112]\n",
      "['Бариста в кофейню \"Cofix\"', 106321]\n",
      "['Бариста в кофейню', 80459]\n",
      "['Бариста в кофейню', 91954]\n",
      "['Бариста без опыта работы', 80000]\n",
      "['Бариста в кофейню Дринкит (м.Белорусская)', 60919]\n",
      "['Бариста в кофейню', 109195]\n",
      "['Бариста в кофейню Пан Круассан', 66928]\n",
      "['Бариста - кассир в кофейню«Cinnabon»м.Новогиреево', 96551]\n",
      "['Бариста в кофейню (не сеть)', 2873]\n",
      "['Бариста - кассир в кофейню «cinnabon» м. Кузьминки', 83017]\n",
      "['Бариста в кофейню (Без опыта)', 94827]\n",
      "['Бариста-официант', 68965]\n",
      "['Продавец бариста в Кофейню (Дрожжино)', 77586]\n",
      "['Бариста в кофейню', 68960]\n",
      "['Бариста в кофейню', 70800]\n",
      "['Бариста в кофейню работа', 91954]\n",
      "['Бариста в кофейню Better Be Coffee', 91954]\n",
      "['Бариста в кофейню', 97701]\n",
      "['Бариста строго 18 лет дневные смены', 6064]\n",
      "['Бариста в кофейню', 73552]\n",
      "['Бариста в кофейню cofix', 66091]\n",
      "['Бариста в Cofix', 66091]\n",
      "['Бариста в кофейню', 59760]\n",
      "['Бариста в кофейню', 60919]\n",
      "['Бариста в кофейню', 97701]\n",
      "['Бариста в кофейню', 63218]\n",
      "['Бариста м. Полянка', 110919]\n",
      "['Бариста в кофейню (ЖК Скандинавия, зп еженедельно)', 68965]\n",
      "['Шеф бариста', 103448]\n",
      "['Бариста с опытом', 101136]\n",
      "['Бариста/ Шеф-Бариста', 119536]\n",
      "['Бариста в кофейню', 63218]\n",
      "['Бариста м. Коломенская', 81609]\n",
      "['Бариста в кофейню «Бодрый день» в Космосе', 86206]\n",
      "['Бариста в кофейню с оплатой', 82752]\n",
      "['Бариста в кофейню', 74712]\n",
      "['Бариста', 103448]\n",
      "['Бариста 5/2 8:30-18:30 Электрозаводская/Бауманская', 97701]\n",
      "['Бариста М. Аминьевская', 95402]\n",
      "['Бариста выходного дня в кофейню \"Тайна\"', 66560]\n",
      "['Бариста без опыта', 80000]\n",
      "['Бариста', 3448]\n",
      "['Бариста в кофейню', 86206]\n",
      "['Вакансия Бариста', 79760]\n",
      "['Бариста в кофейню (м. Юго-Западная)', 80459]\n",
      "['Бариста в кофейню', 90112]\n",
      "['Бариста в кофейню \"Cofix\"', 106321]\n",
      "['Бариста в кофейню', 80459]\n",
      "['Бариста в кофейню', 91954]\n",
      "['Бариста без опыта работы', 80000]\n",
      "['Бариста в кофейню Дринкит (м.Белорусская)', 60919]\n",
      "['Бариста в кофейню', 109195]\n",
      "['Бариста в кофейню Пан Круассан', 66928]\n",
      "['Бариста - кассир в кофейню«Cinnabon»м.Новогиреево', 96551]\n",
      "['Бариста в кофейню (не сеть)', 2873]\n",
      "['Бариста - кассир в кофейню «cinnabon» м. Кузьминки', 83017]\n",
      "['Бариста в кофейню (Без опыта)', 94827]\n",
      "['Бариста-официант', 68965]\n",
      "['Продавец бариста в Кофейню (Дрожжино)', 77586]\n",
      "['Бариста в кофейню', 68960]\n",
      "['Бариста в кофейню', 70800]\n",
      "['Бариста в кофейню работа', 91954]\n",
      "['Бариста в кофейню Better Be Coffee', 91954]\n",
      "['Бариста в кофейню', 97701]\n",
      "['Бариста строго 18 лет дневные смены', 6064]\n",
      "['Бариста в кофейню', 73552]\n",
      "['Бариста в кофейню cofix', 66091]\n",
      "['Бариста в Cofix', 66091]\n",
      "['Бариста в кофейню', 59760]\n",
      "['Бариста в кофейню', 60919]\n",
      "['Бариста в кофейню', 97701]\n",
      "['Бариста в кофейню', 63218]\n",
      "['Бариста м. Полянка', 110919]\n",
      "['Бариста в кофейню (ЖК Скандинавия, зп еженедельно)', 68965]\n",
      "['Шеф бариста', 103448]\n",
      "['Бариста с опытом', 101136]\n",
      "['Бариста/ Шеф-Бариста', 119536]\n",
      "['Бариста в кофейню', 63218]\n",
      "['Бариста м. Коломенская', 81609]\n",
      "['Бариста в кофейню «Бодрый день» в Космосе', 86206]\n",
      "['Бариста в кофейню с оплатой', 82752]\n",
      "['Бариста в кофейню', 74712]\n",
      "['Бариста', 103448]\n",
      "['Бариста 5/2 8:30-18:30 Электрозаводская/Бауманская', 97701]\n",
      "['Бариста М. Аминьевская', 95402]\n",
      "['Бариста выходного дня в кофейню \"Тайна\"', 66560]\n",
      "['Бариста без опыта', 80000]\n",
      "['Бариста', 3448]\n",
      "['Бариста в кофейню', 86206]\n",
      "['Вакансия Бариста', 79760]\n",
      "['Бариста в кофейню (м. Юго-Западная)', 80459]\n",
      "['Бариста в кофейню', 90112]\n",
      "['Бариста в кофейню \"Cofix\"', 106321]\n",
      "['Бариста в кофейню', 80459]\n",
      "['Бариста в кофейню', 91954]\n",
      "['Бариста без опыта работы', 80000]\n",
      "['Бариста в кофейню Дринкит (м.Белорусская)', 60919]\n",
      "['Бариста в кофейню', 109195]\n",
      "['Бариста в кофейню Пан Круассан', 66928]\n",
      "['Бариста - кассир в кофейню«Cinnabon»м.Новогиреево', 96551]\n",
      "['Бариста в кофейню (не сеть)', 2873]\n",
      "['Бариста - кассир в кофейню «cinnabon» м. Кузьминки', 83017]\n",
      "['Бариста в кофейню (Без опыта)', 94827]\n",
      "['Бариста-официант', 68965]\n",
      "['Продавец бариста в Кофейню (Дрожжино)', 77586]\n",
      "['Бариста в кофейню', 68960]\n",
      "['Бариста в кофейню', 70800]\n",
      "['Бариста в кофейню работа', 91954]\n",
      "['Бариста в кофейню Better Be Coffee', 91954]\n",
      "['Бариста в кофейню', 97701]\n",
      "['Бариста строго 18 лет дневные смены', 6064]\n",
      "['Бариста в кофейню', 73552]\n",
      "['Бариста в кофейню cofix', 66091]\n",
      "['Бариста в Cofix', 66091]\n",
      "['Бариста в кофейню', 59760]\n",
      "['Бариста в кофейню', 60919]\n",
      "['Бариста в кофейню', 97701]\n",
      "['Бариста в кофейню', 63218]\n",
      "['Бариста м. Полянка', 110919]\n",
      "['Бариста в кофейню (ЖК Скандинавия, зп еженедельно)', 68965]\n",
      "['Шеф бариста', 103448]\n",
      "['Бариста с опытом', 101136]\n",
      "['Бариста/ Шеф-Бариста', 119536]\n",
      "['Бариста в кофейню', 63218]\n",
      "['Бариста м. Коломенская', 81609]\n",
      "['Бариста в кофейню «Бодрый день» в Космосе', 86206]\n",
      "['Бариста в кофейню с оплатой', 82752]\n",
      "['Бариста в кофейню', 74712]\n",
      "['Бариста', 103448]\n",
      "['Бариста 5/2 8:30-18:30 Электрозаводская/Бауманская', 97701]\n",
      "['Бариста М. Аминьевская', 95402]\n",
      "['Бариста выходного дня в кофейню \"Тайна\"', 66560]\n",
      "['Бариста без опыта', 80000]\n",
      "['Бариста', 3448]\n",
      "['Бариста в кофейню', 86206]\n",
      "['Вакансия Бариста', 79760]\n",
      "['Бариста в кофейню (м. Юго-Западная)', 80459]\n",
      "['Бариста в кофейню', 90112]\n",
      "['Бариста в кофейню \"Cofix\"', 106321]\n",
      "['Бариста в кофейню', 80459]\n",
      "['Бариста в кофейню', 91954]\n",
      "['Бариста без опыта работы', 80000]\n",
      "['Бариста в кофейню Дринкит (м.Белорусская)', 60919]\n",
      "['Бариста в кофейню', 109195]\n",
      "['Бариста в кофейню Пан Круассан', 66928]\n",
      "['Бариста - кассир в кофейню«Cinnabon»м.Новогиреево', 96551]\n",
      "['Бариста в кофейню (не сеть)', 2873]\n",
      "['Бариста - кассир в кофейню «cinnabon» м. Кузьминки', 83017]\n",
      "['Бариста в кофейню (Без опыта)', 94827]\n",
      "['Бариста-официант', 68965]\n",
      "['Продавец бариста в Кофейню (Дрожжино)', 77586]\n",
      "['Бариста в кофейню', 68960]\n",
      "['Бариста в кофейню', 70800]\n",
      "['Бариста в кофейню работа', 91954]\n",
      "['Бариста в кофейню Better Be Coffee', 91954]\n",
      "['Бариста в кофейню', 97701]\n",
      "['Бариста строго 18 лет дневные смены', 6064]\n",
      "['Бариста в кофейню', 73552]\n",
      "['Бариста в кофейню cofix', 66091]\n",
      "['Бариста в Cofix', 66091]\n",
      "['Бариста в кофейню', 59760]\n",
      "['Бариста в кофейню', 60919]\n",
      "['Бариста в кофейню', 97701]\n",
      "['Бариста в кофейню', 63218]\n",
      "['Бариста м. Полянка', 110919]\n",
      "['Бариста в кофейню (ЖК Скандинавия, зп еженедельно)', 68965]\n",
      "['Шеф бариста', 103448]\n",
      "['Бариста с опытом', 101136]\n",
      "['Бариста/ Шеф-Бариста', 119536]\n",
      "['Бариста в кофейню', 63218]\n",
      "['Бариста м. Коломенская', 81609]\n",
      "['Бариста в кофейню «Бодрый день» в Космосе', 86206]\n",
      "['Бариста в кофейню с оплатой', 82752]\n",
      "['Бариста в кофейню', 74712]\n",
      "['Бариста', 103448]\n",
      "['Бариста 5/2 8:30-18:30 Электрозаводская/Бауманская', 97701]\n",
      "['Бариста М. Аминьевская', 95402]\n",
      "['Бариста выходного дня в кофейню \"Тайна\"', 66560]\n",
      "['Бариста без опыта', 80000]\n",
      "['Бариста', 3448]\n",
      "['Бариста в кофейню', 86206]\n",
      "['Вакансия Бариста', 79760]\n",
      "['Бариста в кофейню (м. Юго-Западная)', 80459]\n",
      "['Бариста в кофейню', 90112]\n",
      "['Бариста в кофейню \"Cofix\"', 106321]\n",
      "['Бариста в кофейню', 80459]\n",
      "['Бариста в кофейню', 91954]\n",
      "['Бариста без опыта работы', 80000]\n",
      "['Бариста в кофейню Дринкит (м.Белорусская)', 60919]\n",
      "['Бариста в кофейню', 109195]\n",
      "['Бариста в кофейню Пан Круассан', 66928]\n",
      "['Бариста - кассир в кофейню«Cinnabon»м.Новогиреево', 96551]\n",
      "['Бариста в кофейню (не сеть)', 2873]\n",
      "['Бариста - кассир в кофейню «cinnabon» м. Кузьминки', 83017]\n",
      "['Бариста в кофейню (Без опыта)', 94827]\n",
      "['Бариста-официант', 68965]\n",
      "['Продавец бариста в Кофейню (Дрожжино)', 77586]\n",
      "['Бариста в кофейню', 68960]\n",
      "['Бариста в кофейню', 70800]\n",
      "['Бариста в кофейню работа', 91954]\n",
      "['Бариста в кофейню Better Be Coffee', 91954]\n",
      "['Бариста в кофейню', 97701]\n",
      "['Бариста строго 18 лет дневные смены', 6064]\n",
      "['Бариста в кофейню', 73552]\n",
      "['Бариста в кофейню cofix', 66091]\n",
      "['Бариста в Cofix', 66091]\n",
      "['Бариста в кофейню', 59760]\n",
      "['Бариста в кофейню', 60919]\n",
      "['Бариста в кофейню', 97701]\n",
      "['Бариста в кофейню', 63218]\n",
      "['Бариста м. Полянка', 110919]\n",
      "['Бариста в кофейню (ЖК Скандинавия, зп еженедельно)', 68965]\n",
      "['Шеф бариста', 103448]\n",
      "['Бариста с опытом', 101136]\n",
      "['Бариста/ Шеф-Бариста', 119536]\n",
      "['Бариста в кофейню', 63218]\n",
      "['Бариста м. Коломенская', 81609]\n",
      "['Бариста в кофейню «Бодрый день» в Космосе', 86206]\n",
      "['Бариста в кофейню с оплатой', 82752]\n",
      "['Бариста в кофейню', 74712]\n",
      "['Бариста', 103448]\n",
      "['Бариста 5/2 8:30-18:30 Электрозаводская/Бауманская', 97701]\n",
      "['Бариста М. Аминьевская', 95402]\n",
      "['Бариста выходного дня в кофейню \"Тайна\"', 66560]\n",
      "['Бариста без опыта', 80000]\n",
      "['Бариста', 3448]\n",
      "['Бариста в кофейню', 86206]\n",
      "['Вакансия Бариста', 79760]\n",
      "['Бариста в кофейню (м. Юго-Западная)', 80459]\n",
      "['Бариста в кофейню', 90112]\n",
      "['Бариста в кофейню \"Cofix\"', 106321]\n",
      "['Бариста в кофейню', 80459]\n",
      "['Бариста в кофейню', 91954]\n",
      "['Бариста без опыта работы', 80000]\n",
      "['Бариста в кофейню Дринкит (м.Белорусская)', 60919]\n",
      "['Бариста в кофейню', 109195]\n",
      "['Бариста в кофейню Пан Круассан', 66928]\n",
      "['Бариста - кассир в кофейню«Cinnabon»м.Новогиреево', 96551]\n",
      "['Бариста в кофейню (не сеть)', 2873]\n",
      "['Бариста - кассир в кофейню «cinnabon» м. Кузьминки', 83017]\n",
      "['Бариста в кофейню (Без опыта)', 94827]\n",
      "['Бариста-официант', 68965]\n",
      "['Продавец бариста в Кофейню (Дрожжино)', 77586]\n",
      "['Бариста в кофейню', 68960]\n",
      "['Бариста в кофейню', 70800]\n",
      "['Бариста в кофейню работа', 91954]\n",
      "['Бариста в кофейню Better Be Coffee', 91954]\n",
      "['Бариста в кофейню', 97701]\n",
      "['Бариста строго 18 лет дневные смены', 6064]\n",
      "['Бариста в кофейню', 73552]\n",
      "['Бариста в кофейню cofix', 66091]\n",
      "['Бариста в Cofix', 66091]\n",
      "['Бариста в кофейню', 59760]\n",
      "['Бариста в кофейню', 60919]\n",
      "['Бариста в кофейню', 97701]\n",
      "['Бариста в кофейню', 63218]\n",
      "['Бариста м. Полянка', 110919]\n",
      "['Бариста в кофейню (ЖК Скандинавия, зп еженедельно)', 68965]\n",
      "['Шеф бариста', 103448]\n",
      "['Бариста с опытом', 101136]\n",
      "['Бариста/ Шеф-Бариста', 119536]\n",
      "['Бариста в кофейню', 63218]\n",
      "['Бариста м. Коломенская', 81609]\n",
      "['Бариста в кофейню «Бодрый день» в Космосе', 86206]\n",
      "['Бариста в кофейню с оплатой', 82752]\n",
      "['Бариста в кофейню', 74712]\n",
      "['Бариста', 103448]\n",
      "['Бариста 5/2 8:30-18:30 Электрозаводская/Бауманская', 97701]\n",
      "['Бариста М. Аминьевская', 95402]\n",
      "['Бариста выходного дня в кофейню \"Тайна\"', 66560]\n",
      "['Бариста без опыта', 80000]\n",
      "['Бариста', 3448]\n",
      "['Бариста в кофейню', 86206]\n",
      "['Вакансия Бариста', 79760]\n",
      "['Бариста в кофейню (м. Юго-Западная)', 80459]\n",
      "['Бариста в кофейню', 90112]\n",
      "['Бариста в кофейню \"Cofix\"', 106321]\n",
      "['Бариста в кофейню', 80459]\n",
      "['Бариста в кофейню', 91954]\n",
      "['Бариста без опыта работы', 80000]\n",
      "['Бариста в кофейню Дринкит (м.Белорусская)', 60919]\n",
      "['Бариста в кофейню', 109195]\n",
      "['Бариста в кофейню Пан Круассан', 66928]\n",
      "['Бариста - кассир в кофейню«Cinnabon»м.Новогиреево', 96551]\n",
      "['Бариста в кофейню (не сеть)', 2873]\n",
      "['Бариста - кассир в кофейню «cinnabon» м. Кузьминки', 83017]\n",
      "['Бариста в кофейню (Без опыта)', 94827]\n",
      "['Бариста-официант', 68965]\n",
      "['Продавец бариста в Кофейню (Дрожжино)', 77586]\n",
      "['Бариста в кофейню', 68960]\n",
      "['Бариста в кофейню', 70800]\n",
      "['Бариста в кофейню работа', 91954]\n",
      "['Бариста в кофейню Better Be Coffee', 91954]\n",
      "['Бариста в кофейню', 97701]\n",
      "['Бариста строго 18 лет дневные смены', 6064]\n",
      "['Бариста в кофейню', 73552]\n",
      "['Бариста в кофейню cofix', 66091]\n",
      "['Бариста в Cofix', 66091]\n",
      "['Бариста в кофейню', 59760]\n",
      "['Бариста в кофейню', 60919]\n",
      "['Бариста в кофейню', 97701]\n",
      "['Бариста в кофейню', 63218]\n",
      "['Бариста м. Полянка', 110919]\n",
      "['Бариста в кофейню (ЖК Скандинавия, зп еженедельно)', 68965]\n",
      "['Шеф бариста', 103448]\n",
      "['Бариста с опытом', 101136]\n",
      "['Бариста/ Шеф-Бариста', 119536]\n",
      "['Бариста в кофейню', 63218]\n",
      "['Бариста м. Коломенская', 81609]\n",
      "['Бариста в кофейню «Бодрый день» в Космосе', 86206]\n",
      "['Бариста в кофейню с оплатой', 82752]\n",
      "['Бариста в кофейню', 74712]\n",
      "['Бариста', 103448]\n",
      "['Бариста 5/2 8:30-18:30 Электрозаводская/Бауманская', 97701]\n",
      "['Бариста М. Аминьевская', 95402]\n",
      "['Бариста выходного дня в кофейню \"Тайна\"', 66560]\n",
      "['Бариста без опыта', 80000]\n",
      "['Бариста', 3448]\n",
      "['Бариста в кофейню', 86206]\n",
      "['Вакансия Бариста', 79760]\n",
      "['Бариста в кофейню (м. Юго-Западная)', 80459]\n",
      "['Бариста в кофейню', 90112]\n",
      "['Бариста в кофейню \"Cofix\"', 106321]\n",
      "['Бариста в кофейню', 80459]\n",
      "['Бариста в кофейню', 91954]\n",
      "['Бариста без опыта работы', 80000]\n",
      "['Бариста в кофейню Дринкит (м.Белорусская)', 60919]\n",
      "['Бариста в кофейню', 109195]\n",
      "['Бариста в кофейню Пан Круассан', 66928]\n",
      "['Бариста - кассир в кофейню«Cinnabon»м.Новогиреево', 96551]\n",
      "['Бариста в кофейню (не сеть)', 2873]\n",
      "['Бариста - кассир в кофейню «cinnabon» м. Кузьминки', 83017]\n",
      "['Бариста в кофейню (Без опыта)', 94827]\n",
      "['Бариста-официант', 68965]\n",
      "['Продавец бариста в Кофейню (Дрожжино)', 77586]\n",
      "['Бариста в кофейню', 68960]\n",
      "['Бариста в кофейню', 70800]\n",
      "['Бариста в кофейню работа', 91954]\n",
      "['Бариста в кофейню Better Be Coffee', 91954]\n",
      "['Бариста в кофейню', 97701]\n",
      "['Бариста строго 18 лет дневные смены', 6064]\n",
      "['Бариста в кофейню', 73552]\n",
      "['Бариста в кофейню cofix', 66091]\n",
      "['Бариста в Cofix', 66091]\n",
      "['Бариста в кофейню', 59760]\n",
      "['Бариста в кофейню', 60919]\n",
      "['Бариста в кофейню', 97701]\n",
      "['Бариста в кофейню', 63218]\n",
      "['Бариста м. Полянка', 110919]\n",
      "['Бариста в кофейню (ЖК Скандинавия, зп еженедельно)', 68965]\n",
      "['Шеф бариста', 103448]\n",
      "['Бариста с опытом', 101136]\n",
      "['Бариста/ Шеф-Бариста', 119536]\n",
      "['Бариста в кофейню', 63218]\n",
      "['Бариста м. Коломенская', 81609]\n",
      "['Бариста в кофейню «Бодрый день» в Космосе', 86206]\n",
      "['Бариста в кофейню с оплатой', 82752]\n",
      "['Бариста в кофейню', 74712]\n",
      "['Бариста', 103448]\n",
      "['Бариста 5/2 8:30-18:30 Электрозаводская/Бауманская', 97701]\n",
      "['Бариста М. Аминьевская', 95402]\n",
      "['Бариста выходного дня в кофейню \"Тайна\"', 66560]\n",
      "['Бариста без опыта', 80000]\n",
      "['Бариста', 3448]\n",
      "['Бариста в кофейню', 86206]\n",
      "['Вакансия Бариста', 79760]\n",
      "['Бариста в кофейню (м. Юго-Западная)', 80459]\n",
      "['Бариста в кофейню', 90112]\n",
      "['Бариста в кофейню \"Cofix\"', 106321]\n",
      "['Бариста в кофейню', 80459]\n",
      "['Бариста в кофейню', 91954]\n",
      "['Бариста без опыта работы', 80000]\n",
      "['Бариста в кофейню Дринкит (м.Белорусская)', 60919]\n",
      "['Бариста в кофейню', 109195]\n",
      "['Бариста в кофейню Пан Круассан', 66928]\n",
      "['Бариста - кассир в кофейню«Cinnabon»м.Новогиреево', 96551]\n",
      "['Бариста в кофейню (не сеть)', 2873]\n",
      "['Бариста - кассир в кофейню «cinnabon» м. Кузьминки', 83017]\n",
      "['Бариста в кофейню (Без опыта)', 94827]\n",
      "['Бариста-официант', 68965]\n",
      "['Продавец бариста в Кофейню (Дрожжино)', 77586]\n",
      "['Бариста в кофейню', 68960]\n",
      "['Бариста в кофейню', 70800]\n",
      "['Бариста в кофейню работа', 91954]\n",
      "['Бариста в кофейню Better Be Coffee', 91954]\n",
      "['Бариста в кофейню', 97701]\n",
      "['Бариста строго 18 лет дневные смены', 6064]\n",
      "['Бариста в кофейню', 73552]\n",
      "['Бариста в кофейню cofix', 66091]\n",
      "['Бариста в Cofix', 66091]\n",
      "['Бариста в кофейню', 59760]\n",
      "['Бариста в кофейню', 60919]\n",
      "['Бариста в кофейню', 97701]\n",
      "['Бариста в кофейню', 63218]\n",
      "['Бариста м. Полянка', 110919]\n",
      "['Бариста в кофейню (ЖК Скандинавия, зп еженедельно)', 68965]\n",
      "['Шеф бариста', 103448]\n",
      "['Бариста с опытом', 101136]\n",
      "['Бариста/ Шеф-Бариста', 119536]\n",
      "['Бариста в кофейню', 63218]\n",
      "['Бариста м. Коломенская', 81609]\n",
      "['Бариста в кофейню «Бодрый день» в Космосе', 86206]\n",
      "['Бариста в кофейню с оплатой', 82752]\n",
      "['Бариста в кофейню', 74712]\n",
      "['Бариста', 103448]\n",
      "['Бариста 5/2 8:30-18:30 Электрозаводская/Бауманская', 97701]\n",
      "['Бариста М. Аминьевская', 95402]\n",
      "['Бариста выходного дня в кофейню \"Тайна\"', 66560]\n",
      "['Бариста без опыта', 80000]\n",
      "['Бариста', 3448]\n",
      "['Бариста в кофейню', 86206]\n",
      "['Вакансия Бариста', 79760]\n",
      "['Бариста в кофейню (м. Юго-Западная)', 80459]\n",
      "['Бариста в кофейню', 90112]\n",
      "['Бариста в кофейню \"Cofix\"', 106321]\n",
      "['Бариста в кофейню', 80459]\n",
      "['Бариста в кофейню', 91954]\n",
      "['Бариста без опыта работы', 80000]\n",
      "['Бариста в кофейню Дринкит (м.Белорусская)', 60919]\n",
      "['Бариста в кофейню', 109195]\n",
      "['Бариста в кофейню Пан Круассан', 66928]\n",
      "['Бариста - кассир в кофейню«Cinnabon»м.Новогиреево', 96551]\n",
      "['Бариста в кофейню (не сеть)', 2873]\n",
      "['Бариста - кассир в кофейню «cinnabon» м. Кузьминки', 83017]\n",
      "['Бариста в кофейню (Без опыта)', 94827]\n",
      "['Бариста-официант', 68965]\n",
      "['Продавец бариста в Кофейню (Дрожжино)', 77586]\n",
      "['Бариста в кофейню', 68960]\n",
      "['Бариста в кофейню', 70800]\n",
      "['Бариста в кофейню работа', 91954]\n",
      "['Бариста в кофейню Better Be Coffee', 91954]\n",
      "['Бариста в кофейню', 97701]\n",
      "['Бариста строго 18 лет дневные смены', 6064]\n",
      "['Бариста в кофейню', 73552]\n",
      "['Бариста в кофейню cofix', 66091]\n",
      "['Бариста в Cofix', 66091]\n",
      "['Бариста в кофейню', 59760]\n",
      "['Бариста в кофейню', 60919]\n",
      "['Бариста в кофейню', 97701]\n",
      "['Бариста в кофейню', 63218]\n",
      "['Бариста м. Полянка', 110919]\n",
      "['Бариста в кофейню (ЖК Скандинавия, зп еженедельно)', 68965]\n",
      "['Шеф бариста', 103448]\n",
      "['Бариста с опытом', 101136]\n",
      "['Бариста/ Шеф-Бариста', 119536]\n",
      "['Бариста в кофейню', 63218]\n",
      "['Бариста м. Коломенская', 81609]\n",
      "['Бариста в кофейню «Бодрый день» в Космосе', 86206]\n",
      "['Бариста в кофейню с оплатой', 82752]\n",
      "['Бариста в кофейню', 74712]\n",
      "['Бариста', 103448]\n",
      "['Бариста 5/2 8:30-18:30 Электрозаводская/Бауманская', 97701]\n",
      "['Бариста М. Аминьевская', 95402]\n",
      "['Бариста выходного дня в кофейню \"Тайна\"', 66560]\n",
      "['Бариста без опыта', 80000]\n",
      "['Бариста', 3448]\n",
      "['Бариста в кофейню', 86206]\n",
      "['Вакансия Бариста', 79760]\n",
      "['Бариста в кофейню (м. Юго-Западная)', 80459]\n",
      "['Бариста в кофейню', 90112]\n",
      "['Бариста в кофейню \"Cofix\"', 106321]\n",
      "['Бариста в кофейню', 80459]\n",
      "['Бариста в кофейню', 91954]\n",
      "['Бариста без опыта работы', 80000]\n",
      "['Бариста в кофейню Дринкит (м.Белорусская)', 60919]\n",
      "['Бариста в кофейню', 109195]\n",
      "['Бариста в кофейню Пан Круассан', 66928]\n",
      "['Бариста - кассир в кофейню«Cinnabon»м.Новогиреево', 96551]\n",
      "['Бариста в кофейню (не сеть)', 2873]\n",
      "['Бариста - кассир в кофейню «cinnabon» м. Кузьминки', 83017]\n",
      "['Бариста в кофейню (Без опыта)', 94827]\n",
      "['Бариста-официант', 68965]\n",
      "['Продавец бариста в Кофейню (Дрожжино)', 77586]\n",
      "['Бариста в кофейню', 68960]\n",
      "['Бариста в кофейню', 70800]\n",
      "['Бариста в кофейню работа', 91954]\n",
      "['Бариста в кофейню Better Be Coffee', 91954]\n",
      "['Бариста в кофейню', 97701]\n",
      "['Бариста строго 18 лет дневные смены', 6064]\n",
      "['Бариста в кофейню', 73552]\n",
      "['Бариста в кофейню cofix', 66091]\n",
      "['Бариста в Cofix', 66091]\n",
      "['Бариста в кофейню', 59760]\n",
      "['Бариста в кофейню', 60919]\n",
      "['Бариста в кофейню', 97701]\n",
      "['Бариста в кофейню', 63218]\n",
      "['Бариста м. Полянка', 110919]\n",
      "['Бариста в кофейню (ЖК Скандинавия, зп еженедельно)', 68965]\n",
      "['Шеф бариста', 103448]\n",
      "['Бариста с опытом', 101136]\n",
      "['Бариста/ Шеф-Бариста', 119536]\n",
      "['Бариста в кофейню', 63218]\n",
      "['Бариста м. Коломенская', 81609]\n",
      "['Бариста в кофейню «Бодрый день» в Космосе', 86206]\n",
      "['Бариста в кофейню с оплатой', 82752]\n",
      "['Бариста в кофейню', 74712]\n",
      "['Бариста', 103448]\n",
      "['Бариста 5/2 8:30-18:30 Электрозаводская/Бауманская', 97701]\n",
      "['Бариста М. Аминьевская', 95402]\n",
      "['Бариста выходного дня в кофейню \"Тайна\"', 66560]\n",
      "['Бариста без опыта', 80000]\n",
      "['Бариста', 3448]\n",
      "['Бариста в кофейню', 86206]\n",
      "['Вакансия Бариста', 79760]\n",
      "['Бариста в кофейню (м. Юго-Западная)', 80459]\n",
      "['Бариста в кофейню', 90112]\n",
      "['Бариста в кофейню \"Cofix\"', 106321]\n",
      "['Бариста в кофейню', 80459]\n",
      "['Бариста в кофейню', 91954]\n",
      "['Бариста без опыта работы', 80000]\n",
      "['Бариста в кофейню Дринкит (м.Белорусская)', 60919]\n",
      "['Бариста в кофейню', 109195]\n",
      "['Бариста в кофейню Пан Круассан', 66928]\n",
      "['Бариста - кассир в кофейню«Cinnabon»м.Новогиреево', 96551]\n",
      "['Бариста в кофейню (не сеть)', 2873]\n",
      "['Бариста - кассир в кофейню «cinnabon» м. Кузьминки', 83017]\n",
      "['Бариста в кофейню (Без опыта)', 94827]\n",
      "['Бариста-официант', 68965]\n",
      "['Продавец бариста в Кофейню (Дрожжино)', 77586]\n",
      "['Бариста в кофейню', 68960]\n",
      "['Бариста в кофейню', 70800]\n",
      "['Бариста в кофейню работа', 91954]\n",
      "['Бариста в кофейню Better Be Coffee', 91954]\n",
      "['Бариста в кофейню', 97701]\n",
      "['Бариста строго 18 лет дневные смены', 6064]\n",
      "['Бариста в кофейню', 73552]\n",
      "['Бариста в кофейню cofix', 66091]\n",
      "['Бариста в Cofix', 66091]\n",
      "['Бариста в кофейню', 59760]\n",
      "['Бариста в кофейню', 60919]\n",
      "['Бариста в кофейню', 97701]\n",
      "['Бариста в кофейню', 63218]\n",
      "['Бариста м. Полянка', 110919]\n",
      "['Бариста в кофейню (ЖК Скандинавия, зп еженедельно)', 68965]\n",
      "['Шеф бариста', 103448]\n",
      "['Бариста с опытом', 101136]\n",
      "['Бариста/ Шеф-Бариста', 119536]\n",
      "['Бариста в кофейню', 63218]\n",
      "['Бариста м. Коломенская', 81609]\n",
      "['Бариста в кофейню «Бодрый день» в Космосе', 86206]\n",
      "['Бариста в кофейню с оплатой', 82752]\n",
      "['Бариста в кофейню', 74712]\n",
      "['Бариста', 103448]\n",
      "['Бариста 5/2 8:30-18:30 Электрозаводская/Бауманская', 97701]\n",
      "['Бариста М. Аминьевская', 95402]\n",
      "['Бариста выходного дня в кофейню \"Тайна\"', 66560]\n",
      "['Бариста без опыта', 80000]\n",
      "['Бариста', 3448]\n",
      "['Бариста в кофейню', 86206]\n",
      "['Вакансия Бариста', 79760]\n",
      "['Бариста в кофейню (м. Юго-Западная)', 80459]\n",
      "['Бариста в кофейню', 90112]\n",
      "['Бариста в кофейню \"Cofix\"', 106321]\n",
      "['Бариста в кофейню', 80459]\n",
      "['Бариста в кофейню', 91954]\n",
      "['Бариста без опыта работы', 80000]\n",
      "['Бариста в кофейню Дринкит (м.Белорусская)', 60919]\n",
      "['Бариста в кофейню', 109195]\n",
      "['Бариста в кофейню Пан Круассан', 66928]\n",
      "['Бариста - кассир в кофейню«Cinnabon»м.Новогиреево', 96551]\n",
      "['Бариста в кофейню (не сеть)', 2873]\n",
      "['Бариста - кассир в кофейню «cinnabon» м. Кузьминки', 83017]\n",
      "['Бариста в кофейню (Без опыта)', 94827]\n",
      "['Бариста-официант', 68965]\n",
      "['Продавец бариста в Кофейню (Дрожжино)', 77586]\n",
      "['Бариста в кофейню', 68960]\n",
      "['Бариста в кофейню', 70800]\n",
      "['Бариста в кофейню работа', 91954]\n",
      "['Бариста в кофейню Better Be Coffee', 91954]\n",
      "['Бариста в кофейню', 97701]\n",
      "['Бариста строго 18 лет дневные смены', 6064]\n",
      "['Бариста в кофейню', 73552]\n",
      "['Бариста в кофейню cofix', 66091]\n",
      "['Бариста в Cofix', 66091]\n",
      "['Бариста в кофейню', 59760]\n",
      "['Бариста в кофейню', 60919]\n",
      "['Бариста в кофейню', 97701]\n",
      "['Бариста в кофейню', 63218]\n",
      "['Бариста м. Полянка', 110919]\n",
      "['Бариста в кофейню (ЖК Скандинавия, зп еженедельно)', 68965]\n",
      "['Шеф бариста', 103448]\n",
      "['Бариста с опытом', 101136]\n",
      "['Бариста/ Шеф-Бариста', 119536]\n",
      "['Бариста в кофейню', 63218]\n",
      "['Бариста м. Коломенская', 81609]\n",
      "['Бариста в кофейню «Бодрый день» в Космосе', 86206]\n",
      "['Бариста в кофейню с оплатой', 82752]\n",
      "['Бариста в кофейню', 74712]\n",
      "['Бариста', 103448]\n",
      "['Бариста 5/2 8:30-18:30 Электрозаводская/Бауманская', 97701]\n",
      "['Бариста М. Аминьевская', 95402]\n",
      "['Бариста выходного дня в кофейню \"Тайна\"', 66560]\n",
      "['Бариста без опыта', 80000]\n",
      "['Бариста', 3448]\n",
      "['Бариста в кофейню', 86206]\n",
      "['Вакансия Бариста', 79760]\n",
      "['Бариста в кофейню (м. Юго-Западная)', 80459]\n",
      "['Бариста в кофейню', 90112]\n",
      "['Бариста в кофейню \"Cofix\"', 106321]\n",
      "['Бариста в кофейню', 80459]\n",
      "['Бариста в кофейню', 91954]\n",
      "['Бариста без опыта работы', 80000]\n",
      "['Бариста в кофейню Дринкит (м.Белорусская)', 60919]\n",
      "['Бариста в кофейню', 109195]\n",
      "['Бариста в кофейню Пан Круассан', 66928]\n",
      "['Бариста - кассир в кофейню«Cinnabon»м.Новогиреево', 96551]\n",
      "['Бариста в кофейню (не сеть)', 2873]\n",
      "['Бариста - кассир в кофейню «cinnabon» м. Кузьминки', 83017]\n",
      "['Бариста в кофейню (Без опыта)', 94827]\n",
      "['Бариста-официант', 68965]\n",
      "['Продавец бариста в Кофейню (Дрожжино)', 77586]\n",
      "['Бариста в кофейню', 68960]\n",
      "['Бариста в кофейню', 70800]\n",
      "['Бариста в кофейню работа', 91954]\n",
      "['Бариста в кофейню Better Be Coffee', 91954]\n",
      "['Бариста в кофейню', 97701]\n",
      "['Бариста строго 18 лет дневные смены', 6064]\n",
      "['Бариста в кофейню', 73552]\n",
      "['Бариста в кофейню cofix', 66091]\n",
      "['Бариста в Cofix', 66091]\n",
      "['Бариста в кофейню', 59760]\n",
      "['Бариста в кофейню', 60919]\n",
      "['Бариста в кофейню', 97701]\n",
      "['Бариста в кофейню', 63218]\n",
      "['Бариста м. Полянка', 110919]\n",
      "['Бариста в кофейню (ЖК Скандинавия, зп еженедельно)', 68965]\n",
      "['Шеф бариста', 103448]\n",
      "['Бариста с опытом', 101136]\n"
     ]
    }
   ],
   "source": [
    "vacancies = []  \n",
    "wage = None\n",
    "shift = None\n",
    "\n",
    "for i in range(20):\n",
    "    elements = driver.find_elements(By.CSS_SELECTOR, 'div[data-marker=\"item\"]')\n",
    "\n",
    "    for elem in elements:\n",
    "        try:\n",
    "          title = elem.find_element(By.CSS_SELECTOR, 'h3[itemprop=\"name\"]').text\n",
    "          if 'рист' in title: # берем только вакансии, в которых есть слово \"бариста\"\n",
    "\n",
    "             wage_block = elem.find_element(By.CSS_SELECTOR, 'p[data-marker=\"item-price\"]')\n",
    "             wage = wage_block.find_element(By.CSS_SELECTOR, 'span').text\n",
    "\n",
    "            # Приводим цену в нормальный вид\n",
    "             wage = wage.replace(\"\\xa0\", \" \").strip()\n",
    "             wage = wage.replace('₽', '').strip()\n",
    "             wage = wage.replace('от', '').strip()\n",
    "             wage = wage.replace('до', '').strip()\n",
    "\n",
    "             if 'на руки' in wage:\n",
    "                 after_taxes = True\n",
    "             if 'сдельно' in wage or 'за смену' in wage:\n",
    "                 shift = True\n",
    "\n",
    "             wage = wage.replace('сдельно', '').strip() # С этими случаями нужно еще поработать\n",
    "             wage = wage.replace('за смену', '').strip() \n",
    "             wage = wage.replace('на руки', '').strip() \n",
    "              \n",
    "            # Работаем со случаем, когда цена представлена диапазоном, а не числом\n",
    "             if '—' in wage:\n",
    "                w_min, w_max = wage.split('—')\n",
    "                w_min = int(w_min.replace(' ', ''))\n",
    "                w_max = int(w_max.replace(' ', ''))\n",
    "                wage = (w_min + w_max) // 2  # Среднее значение\n",
    "             else:\n",
    "                wage = int(wage.replace(' ', ''))  # Убираем пробелы и превращаем в число\n",
    "\n",
    "             if after_taxes:\n",
    "                wage = int(wage / 0.87)\n",
    "             if shift:\n",
    "                wage = 16 * wage\n",
    "                 \n",
    "             vacancies.append([title, wage])\n",
    "\n",
    "             wage = None\n",
    "             shift = None\n",
    "        except Exception as e: \n",
    "          pass\n",
    " \n",
    "    driver.find_element(By.TAG_NAME, 'body').send_keys(Keys.PAGE_DOWN) # Листаем\n",
    "    time.sleep(0.75)  \n",
    "\n",
    "driver.quit()\n",
    "\n",
    "for item in vacancies:\n",
    "    print(item)"
   ]
  },
  {
   "cell_type": "code",
   "execution_count": 159,
   "metadata": {},
   "outputs": [
    {
     "data": {
      "application/vnd.plotly.v1+json": {
       "config": {
        "plotlyServerURL": "https://plot.ly"
       },
       "data": [
        {
         "alignmentgroup": "True",
         "hovertemplate": "Зарплатный диапазон=%{x}<br>Количество вакансий=%{marker.color}<extra></extra>",
         "legendgroup": "",
         "marker": {
          "color": [
           380,
           340,
           140,
           0
          ],
          "coloraxis": "coloraxis",
          "pattern": {
           "shape": ""
          }
         },
         "name": "",
         "offsetgroup": "",
         "orientation": "v",
         "showlegend": false,
         "textposition": "auto",
         "texttemplate": "%{y}",
         "type": "bar",
         "x": [
          "50-80k",
          "80-100k",
          "100-120k",
          "120k+"
         ],
         "xaxis": "x",
         "y": [
          380,
          340,
          140,
          0
         ],
         "yaxis": "y"
        }
       ],
       "layout": {
        "autosize": true,
        "barmode": "relative",
        "coloraxis": {
         "colorbar": {
          "title": {
           "text": "Количество вакансий"
          }
         },
         "colorscale": [
          [
           0,
           "rgb(0, 128, 128)"
          ],
          [
           0.16666666666666666,
           "rgb(112, 164, 148)"
          ],
          [
           0.3333333333333333,
           "rgb(180, 200, 168)"
          ],
          [
           0.5,
           "rgb(246, 237, 189)"
          ],
          [
           0.6666666666666666,
           "rgb(237, 187, 138)"
          ],
          [
           0.8333333333333334,
           "rgb(222, 138, 90)"
          ],
          [
           1,
           "rgb(202, 86, 44)"
          ]
         ]
        },
        "legend": {
         "tracegroupgap": 0
        },
        "template": {
         "data": {
          "bar": [
           {
            "error_x": {
             "color": "#2a3f5f"
            },
            "error_y": {
             "color": "#2a3f5f"
            },
            "marker": {
             "line": {
              "color": "#E5ECF6",
              "width": 0.5
             },
             "pattern": {
              "fillmode": "overlay",
              "size": 10,
              "solidity": 0.2
             }
            },
            "type": "bar"
           }
          ],
          "barpolar": [
           {
            "marker": {
             "line": {
              "color": "#E5ECF6",
              "width": 0.5
             },
             "pattern": {
              "fillmode": "overlay",
              "size": 10,
              "solidity": 0.2
             }
            },
            "type": "barpolar"
           }
          ],
          "carpet": [
           {
            "aaxis": {
             "endlinecolor": "#2a3f5f",
             "gridcolor": "white",
             "linecolor": "white",
             "minorgridcolor": "white",
             "startlinecolor": "#2a3f5f"
            },
            "baxis": {
             "endlinecolor": "#2a3f5f",
             "gridcolor": "white",
             "linecolor": "white",
             "minorgridcolor": "white",
             "startlinecolor": "#2a3f5f"
            },
            "type": "carpet"
           }
          ],
          "choropleth": [
           {
            "colorbar": {
             "outlinewidth": 0,
             "ticks": ""
            },
            "type": "choropleth"
           }
          ],
          "contour": [
           {
            "colorbar": {
             "outlinewidth": 0,
             "ticks": ""
            },
            "colorscale": [
             [
              0,
              "#0d0887"
             ],
             [
              0.1111111111111111,
              "#46039f"
             ],
             [
              0.2222222222222222,
              "#7201a8"
             ],
             [
              0.3333333333333333,
              "#9c179e"
             ],
             [
              0.4444444444444444,
              "#bd3786"
             ],
             [
              0.5555555555555556,
              "#d8576b"
             ],
             [
              0.6666666666666666,
              "#ed7953"
             ],
             [
              0.7777777777777778,
              "#fb9f3a"
             ],
             [
              0.8888888888888888,
              "#fdca26"
             ],
             [
              1,
              "#f0f921"
             ]
            ],
            "type": "contour"
           }
          ],
          "contourcarpet": [
           {
            "colorbar": {
             "outlinewidth": 0,
             "ticks": ""
            },
            "type": "contourcarpet"
           }
          ],
          "heatmap": [
           {
            "colorbar": {
             "outlinewidth": 0,
             "ticks": ""
            },
            "colorscale": [
             [
              0,
              "#0d0887"
             ],
             [
              0.1111111111111111,
              "#46039f"
             ],
             [
              0.2222222222222222,
              "#7201a8"
             ],
             [
              0.3333333333333333,
              "#9c179e"
             ],
             [
              0.4444444444444444,
              "#bd3786"
             ],
             [
              0.5555555555555556,
              "#d8576b"
             ],
             [
              0.6666666666666666,
              "#ed7953"
             ],
             [
              0.7777777777777778,
              "#fb9f3a"
             ],
             [
              0.8888888888888888,
              "#fdca26"
             ],
             [
              1,
              "#f0f921"
             ]
            ],
            "type": "heatmap"
           }
          ],
          "heatmapgl": [
           {
            "colorbar": {
             "outlinewidth": 0,
             "ticks": ""
            },
            "colorscale": [
             [
              0,
              "#0d0887"
             ],
             [
              0.1111111111111111,
              "#46039f"
             ],
             [
              0.2222222222222222,
              "#7201a8"
             ],
             [
              0.3333333333333333,
              "#9c179e"
             ],
             [
              0.4444444444444444,
              "#bd3786"
             ],
             [
              0.5555555555555556,
              "#d8576b"
             ],
             [
              0.6666666666666666,
              "#ed7953"
             ],
             [
              0.7777777777777778,
              "#fb9f3a"
             ],
             [
              0.8888888888888888,
              "#fdca26"
             ],
             [
              1,
              "#f0f921"
             ]
            ],
            "type": "heatmapgl"
           }
          ],
          "histogram": [
           {
            "marker": {
             "pattern": {
              "fillmode": "overlay",
              "size": 10,
              "solidity": 0.2
             }
            },
            "type": "histogram"
           }
          ],
          "histogram2d": [
           {
            "colorbar": {
             "outlinewidth": 0,
             "ticks": ""
            },
            "colorscale": [
             [
              0,
              "#0d0887"
             ],
             [
              0.1111111111111111,
              "#46039f"
             ],
             [
              0.2222222222222222,
              "#7201a8"
             ],
             [
              0.3333333333333333,
              "#9c179e"
             ],
             [
              0.4444444444444444,
              "#bd3786"
             ],
             [
              0.5555555555555556,
              "#d8576b"
             ],
             [
              0.6666666666666666,
              "#ed7953"
             ],
             [
              0.7777777777777778,
              "#fb9f3a"
             ],
             [
              0.8888888888888888,
              "#fdca26"
             ],
             [
              1,
              "#f0f921"
             ]
            ],
            "type": "histogram2d"
           }
          ],
          "histogram2dcontour": [
           {
            "colorbar": {
             "outlinewidth": 0,
             "ticks": ""
            },
            "colorscale": [
             [
              0,
              "#0d0887"
             ],
             [
              0.1111111111111111,
              "#46039f"
             ],
             [
              0.2222222222222222,
              "#7201a8"
             ],
             [
              0.3333333333333333,
              "#9c179e"
             ],
             [
              0.4444444444444444,
              "#bd3786"
             ],
             [
              0.5555555555555556,
              "#d8576b"
             ],
             [
              0.6666666666666666,
              "#ed7953"
             ],
             [
              0.7777777777777778,
              "#fb9f3a"
             ],
             [
              0.8888888888888888,
              "#fdca26"
             ],
             [
              1,
              "#f0f921"
             ]
            ],
            "type": "histogram2dcontour"
           }
          ],
          "mesh3d": [
           {
            "colorbar": {
             "outlinewidth": 0,
             "ticks": ""
            },
            "type": "mesh3d"
           }
          ],
          "parcoords": [
           {
            "line": {
             "colorbar": {
              "outlinewidth": 0,
              "ticks": ""
             }
            },
            "type": "parcoords"
           }
          ],
          "pie": [
           {
            "automargin": true,
            "type": "pie"
           }
          ],
          "scatter": [
           {
            "fillpattern": {
             "fillmode": "overlay",
             "size": 10,
             "solidity": 0.2
            },
            "type": "scatter"
           }
          ],
          "scatter3d": [
           {
            "line": {
             "colorbar": {
              "outlinewidth": 0,
              "ticks": ""
             }
            },
            "marker": {
             "colorbar": {
              "outlinewidth": 0,
              "ticks": ""
             }
            },
            "type": "scatter3d"
           }
          ],
          "scattercarpet": [
           {
            "marker": {
             "colorbar": {
              "outlinewidth": 0,
              "ticks": ""
             }
            },
            "type": "scattercarpet"
           }
          ],
          "scattergeo": [
           {
            "marker": {
             "colorbar": {
              "outlinewidth": 0,
              "ticks": ""
             }
            },
            "type": "scattergeo"
           }
          ],
          "scattergl": [
           {
            "marker": {
             "colorbar": {
              "outlinewidth": 0,
              "ticks": ""
             }
            },
            "type": "scattergl"
           }
          ],
          "scattermapbox": [
           {
            "marker": {
             "colorbar": {
              "outlinewidth": 0,
              "ticks": ""
             }
            },
            "type": "scattermapbox"
           }
          ],
          "scatterpolar": [
           {
            "marker": {
             "colorbar": {
              "outlinewidth": 0,
              "ticks": ""
             }
            },
            "type": "scatterpolar"
           }
          ],
          "scatterpolargl": [
           {
            "marker": {
             "colorbar": {
              "outlinewidth": 0,
              "ticks": ""
             }
            },
            "type": "scatterpolargl"
           }
          ],
          "scatterternary": [
           {
            "marker": {
             "colorbar": {
              "outlinewidth": 0,
              "ticks": ""
             }
            },
            "type": "scatterternary"
           }
          ],
          "surface": [
           {
            "colorbar": {
             "outlinewidth": 0,
             "ticks": ""
            },
            "colorscale": [
             [
              0,
              "#0d0887"
             ],
             [
              0.1111111111111111,
              "#46039f"
             ],
             [
              0.2222222222222222,
              "#7201a8"
             ],
             [
              0.3333333333333333,
              "#9c179e"
             ],
             [
              0.4444444444444444,
              "#bd3786"
             ],
             [
              0.5555555555555556,
              "#d8576b"
             ],
             [
              0.6666666666666666,
              "#ed7953"
             ],
             [
              0.7777777777777778,
              "#fb9f3a"
             ],
             [
              0.8888888888888888,
              "#fdca26"
             ],
             [
              1,
              "#f0f921"
             ]
            ],
            "type": "surface"
           }
          ],
          "table": [
           {
            "cells": {
             "fill": {
              "color": "#EBF0F8"
             },
             "line": {
              "color": "white"
             }
            },
            "header": {
             "fill": {
              "color": "#C8D4E3"
             },
             "line": {
              "color": "white"
             }
            },
            "type": "table"
           }
          ]
         },
         "layout": {
          "annotationdefaults": {
           "arrowcolor": "#2a3f5f",
           "arrowhead": 0,
           "arrowwidth": 1
          },
          "autotypenumbers": "strict",
          "coloraxis": {
           "colorbar": {
            "outlinewidth": 0,
            "ticks": ""
           }
          },
          "colorscale": {
           "diverging": [
            [
             0,
             "#8e0152"
            ],
            [
             0.1,
             "#c51b7d"
            ],
            [
             0.2,
             "#de77ae"
            ],
            [
             0.3,
             "#f1b6da"
            ],
            [
             0.4,
             "#fde0ef"
            ],
            [
             0.5,
             "#f7f7f7"
            ],
            [
             0.6,
             "#e6f5d0"
            ],
            [
             0.7,
             "#b8e186"
            ],
            [
             0.8,
             "#7fbc41"
            ],
            [
             0.9,
             "#4d9221"
            ],
            [
             1,
             "#276419"
            ]
           ],
           "sequential": [
            [
             0,
             "#0d0887"
            ],
            [
             0.1111111111111111,
             "#46039f"
            ],
            [
             0.2222222222222222,
             "#7201a8"
            ],
            [
             0.3333333333333333,
             "#9c179e"
            ],
            [
             0.4444444444444444,
             "#bd3786"
            ],
            [
             0.5555555555555556,
             "#d8576b"
            ],
            [
             0.6666666666666666,
             "#ed7953"
            ],
            [
             0.7777777777777778,
             "#fb9f3a"
            ],
            [
             0.8888888888888888,
             "#fdca26"
            ],
            [
             1,
             "#f0f921"
            ]
           ],
           "sequentialminus": [
            [
             0,
             "#0d0887"
            ],
            [
             0.1111111111111111,
             "#46039f"
            ],
            [
             0.2222222222222222,
             "#7201a8"
            ],
            [
             0.3333333333333333,
             "#9c179e"
            ],
            [
             0.4444444444444444,
             "#bd3786"
            ],
            [
             0.5555555555555556,
             "#d8576b"
            ],
            [
             0.6666666666666666,
             "#ed7953"
            ],
            [
             0.7777777777777778,
             "#fb9f3a"
            ],
            [
             0.8888888888888888,
             "#fdca26"
            ],
            [
             1,
             "#f0f921"
            ]
           ]
          },
          "colorway": [
           "#636efa",
           "#EF553B",
           "#00cc96",
           "#ab63fa",
           "#FFA15A",
           "#19d3f3",
           "#FF6692",
           "#B6E880",
           "#FF97FF",
           "#FECB52"
          ],
          "font": {
           "color": "#2a3f5f"
          },
          "geo": {
           "bgcolor": "white",
           "lakecolor": "white",
           "landcolor": "#E5ECF6",
           "showlakes": true,
           "showland": true,
           "subunitcolor": "white"
          },
          "hoverlabel": {
           "align": "left"
          },
          "hovermode": "closest",
          "mapbox": {
           "style": "light"
          },
          "paper_bgcolor": "white",
          "plot_bgcolor": "#E5ECF6",
          "polar": {
           "angularaxis": {
            "gridcolor": "white",
            "linecolor": "white",
            "ticks": ""
           },
           "bgcolor": "#E5ECF6",
           "radialaxis": {
            "gridcolor": "white",
            "linecolor": "white",
            "ticks": ""
           }
          },
          "scene": {
           "xaxis": {
            "backgroundcolor": "#E5ECF6",
            "gridcolor": "white",
            "gridwidth": 2,
            "linecolor": "white",
            "showbackground": true,
            "ticks": "",
            "zerolinecolor": "white"
           },
           "yaxis": {
            "backgroundcolor": "#E5ECF6",
            "gridcolor": "white",
            "gridwidth": 2,
            "linecolor": "white",
            "showbackground": true,
            "ticks": "",
            "zerolinecolor": "white"
           },
           "zaxis": {
            "backgroundcolor": "#E5ECF6",
            "gridcolor": "white",
            "gridwidth": 2,
            "linecolor": "white",
            "showbackground": true,
            "ticks": "",
            "zerolinecolor": "white"
           }
          },
          "shapedefaults": {
           "line": {
            "color": "#2a3f5f"
           }
          },
          "ternary": {
           "aaxis": {
            "gridcolor": "white",
            "linecolor": "white",
            "ticks": ""
           },
           "baxis": {
            "gridcolor": "white",
            "linecolor": "white",
            "ticks": ""
           },
           "bgcolor": "#E5ECF6",
           "caxis": {
            "gridcolor": "white",
            "linecolor": "white",
            "ticks": ""
           }
          },
          "title": {
           "x": 0.05
          },
          "xaxis": {
           "automargin": true,
           "gridcolor": "white",
           "linecolor": "white",
           "ticks": "",
           "title": {
            "standoff": 15
           },
           "zerolinecolor": "white",
           "zerolinewidth": 2
          },
          "yaxis": {
           "automargin": true,
           "gridcolor": "white",
           "linecolor": "white",
           "ticks": "",
           "title": {
            "standoff": 15
           },
           "zerolinecolor": "white",
           "zerolinewidth": 2
          }
         }
        },
        "title": {
         "text": "Распределение вакансий бариста по зарплатным диапазонам"
        },
        "xaxis": {
         "anchor": "y",
         "autorange": true,
         "domain": [
          0,
          1
         ],
         "range": [
          -0.5,
          3.5
         ],
         "title": {
          "text": "Зарплатный диапазон"
         },
         "type": "category"
        },
        "yaxis": {
         "anchor": "x",
         "autorange": true,
         "domain": [
          0,
          1
         ],
         "range": [
          0,
          400
         ],
         "title": {
          "text": "Количество вакансий"
         },
         "type": "linear"
        }
       }
      },
      "image/png": "[encoded data removed]",
      "text/html": [
       "<div>                            <div id=\"ee29b793-013e-4f77-8b3d-94a83a74398e\" class=\"plotly-graph-div\" style=\"height:500px; width:100%;\"></div>            <script type=\"text/javascript\">                require([\"plotly\"], function(Plotly) {                    window.PLOTLYENV=window.PLOTLYENV || {};                                    if (document.getElementById(\"ee29b793-013e-4f77-8b3d-94a83a74398e\")) {                    Plotly.newPlot(                        \"ee29b793-013e-4f77-8b3d-94a83a74398e\",                        [{\"alignmentgroup\":\"True\",\"hovertemplate\":\"\\u0417\\u0430\\u0440\\u043f\\u043b\\u0430\\u0442\\u043d\\u044b\\u0439 \\u0434\\u0438\\u0430\\u043f\\u0430\\u0437\\u043e\\u043d=%{x}\\u003cbr\\u003e\\u041a\\u043e\\u043b\\u0438\\u0447\\u0435\\u0441\\u0442\\u0432\\u043e \\u0432\\u0430\\u043a\\u0430\\u043d\\u0441\\u0438\\u0439=%{marker.color}\\u003cextra\\u003e\\u003c\\u002fextra\\u003e\",\"legendgroup\":\"\",\"marker\":{\"color\":[380,340,140,0],\"coloraxis\":\"coloraxis\",\"pattern\":{\"shape\":\"\"}},\"name\":\"\",\"offsetgroup\":\"\",\"orientation\":\"v\",\"showlegend\":false,\"textposition\":\"auto\",\"texttemplate\":\"%{y}\",\"x\":[\"50-80k\",\"80-100k\",\"100-120k\",\"120k+\"],\"xaxis\":\"x\",\"y\":[380,340,140,0],\"yaxis\":\"y\",\"type\":\"bar\"}],                        {\"template\":{\"data\":{\"histogram2dcontour\":[{\"type\":\"histogram2dcontour\",\"colorbar\":{\"outlinewidth\":0,\"ticks\":\"\"},\"colorscale\":[[0.0,\"#0d0887\"],[0.1111111111111111,\"#46039f\"],[0.2222222222222222,\"#7201a8\"],[0.3333333333333333,\"#9c179e\"],[0.4444444444444444,\"#bd3786\"],[0.5555555555555556,\"#d8576b\"],[0.6666666666666666,\"#ed7953\"],[0.7777777777777778,\"#fb9f3a\"],[0.8888888888888888,\"#fdca26\"],[1.0,\"#f0f921\"]]}],\"choropleth\":[{\"type\":\"choropleth\",\"colorbar\":{\"outlinewidth\":0,\"ticks\":\"\"}}],\"histogram2d\":[{\"type\":\"histogram2d\",\"colorbar\":{\"outlinewidth\":0,\"ticks\":\"\"},\"colorscale\":[[0.0,\"#0d0887\"],[0.1111111111111111,\"#46039f\"],[0.2222222222222222,\"#7201a8\"],[0.3333333333333333,\"#9c179e\"],[0.4444444444444444,\"#bd3786\"],[0.5555555555555556,\"#d8576b\"],[0.6666666666666666,\"#ed7953\"],[0.7777777777777778,\"#fb9f3a\"],[0.8888888888888888,\"#fdca26\"],[1.0,\"#f0f921\"]]}],\"heatmap\":[{\"type\":\"heatmap\",\"colorbar\":{\"outlinewidth\":0,\"ticks\":\"\"},\"colorscale\":[[0.0,\"#0d0887\"],[0.1111111111111111,\"#46039f\"],[0.2222222222222222,\"#7201a8\"],[0.3333333333333333,\"#9c179e\"],[0.4444444444444444,\"#bd3786\"],[0.5555555555555556,\"#d8576b\"],[0.6666666666666666,\"#ed7953\"],[0.7777777777777778,\"#fb9f3a\"],[0.8888888888888888,\"#fdca26\"],[1.0,\"#f0f921\"]]}],\"heatmapgl\":[{\"type\":\"heatmapgl\",\"colorbar\":{\"outlinewidth\":0,\"ticks\":\"\"},\"colorscale\":[[0.0,\"#0d0887\"],[0.1111111111111111,\"#46039f\"],[0.2222222222222222,\"#7201a8\"],[0.3333333333333333,\"#9c179e\"],[0.4444444444444444,\"#bd3786\"],[0.5555555555555556,\"#d8576b\"],[0.6666666666666666,\"#ed7953\"],[0.7777777777777778,\"#fb9f3a\"],[0.8888888888888888,\"#fdca26\"],[1.0,\"#f0f921\"]]}],\"contourcarpet\":[{\"type\":\"contourcarpet\",\"colorbar\":{\"outlinewidth\":0,\"ticks\":\"\"}}],\"contour\":[{\"type\":\"contour\",\"colorbar\":{\"outlinewidth\":0,\"ticks\":\"\"},\"colorscale\":[[0.0,\"#0d0887\"],[0.1111111111111111,\"#46039f\"],[0.2222222222222222,\"#7201a8\"],[0.3333333333333333,\"#9c179e\"],[0.4444444444444444,\"#bd3786\"],[0.5555555555555556,\"#d8576b\"],[0.6666666666666666,\"#ed7953\"],[0.7777777777777778,\"#fb9f3a\"],[0.8888888888888888,\"#fdca26\"],[1.0,\"#f0f921\"]]}],\"surface\":[{\"type\":\"surface\",\"colorbar\":{\"outlinewidth\":0,\"ticks\":\"\"},\"colorscale\":[[0.0,\"#0d0887\"],[0.1111111111111111,\"#46039f\"],[0.2222222222222222,\"#7201a8\"],[0.3333333333333333,\"#9c179e\"],[0.4444444444444444,\"#bd3786\"],[0.5555555555555556,\"#d8576b\"],[0.6666666666666666,\"#ed7953\"],[0.7777777777777778,\"#fb9f3a\"],[0.8888888888888888,\"#fdca26\"],[1.0,\"#f0f921\"]]}],\"mesh3d\":[{\"type\":\"mesh3d\",\"colorbar\":{\"outlinewidth\":0,\"ticks\":\"\"}}],\"scatter\":[{\"fillpattern\":{\"fillmode\":\"overlay\",\"size\":10,\"solidity\":0.2},\"type\":\"scatter\"}],\"parcoords\":[{\"type\":\"parcoords\",\"line\":{\"colorbar\":{\"outlinewidth\":0,\"ticks\":\"\"}}}],\"scatterpolargl\":[{\"type\":\"scatterpolargl\",\"marker\":{\"colorbar\":{\"outlinewidth\":0,\"ticks\":\"\"}}}],\"bar\":[{\"error_x\":{\"color\":\"#2a3f5f\"},\"error_y\":{\"color\":\"#2a3f5f\"},\"marker\":{\"line\":{\"color\":\"#E5ECF6\",\"width\":0.5},\"pattern\":{\"fillmode\":\"overlay\",\"size\":10,\"solidity\":0.2}},\"type\":\"bar\"}],\"scattergeo\":[{\"type\":\"scattergeo\",\"marker\":{\"colorbar\":{\"outlinewidth\":0,\"ticks\":\"\"}}}],\"scatterpolar\":[{\"type\":\"scatterpolar\",\"marker\":{\"colorbar\":{\"outlinewidth\":0,\"ticks\":\"\"}}}],\"histogram\":[{\"marker\":{\"pattern\":{\"fillmode\":\"overlay\",\"size\":10,\"solidity\":0.2}},\"type\":\"histogram\"}],\"scattergl\":[{\"type\":\"scattergl\",\"marker\":{\"colorbar\":{\"outlinewidth\":0,\"ticks\":\"\"}}}],\"scatter3d\":[{\"type\":\"scatter3d\",\"line\":{\"colorbar\":{\"outlinewidth\":0,\"ticks\":\"\"}},\"marker\":{\"colorbar\":{\"outlinewidth\":0,\"ticks\":\"\"}}}],\"scattermapbox\":[{\"type\":\"scattermapbox\",\"marker\":{\"colorbar\":{\"outlinewidth\":0,\"ticks\":\"\"}}}],\"scatterternary\":[{\"type\":\"scatterternary\",\"marker\":{\"colorbar\":{\"outlinewidth\":0,\"ticks\":\"\"}}}],\"scattercarpet\":[{\"type\":\"scattercarpet\",\"marker\":{\"colorbar\":{\"outlinewidth\":0,\"ticks\":\"\"}}}],\"carpet\":[{\"aaxis\":{\"endlinecolor\":\"#2a3f5f\",\"gridcolor\":\"white\",\"linecolor\":\"white\",\"minorgridcolor\":\"white\",\"startlinecolor\":\"#2a3f5f\"},\"baxis\":{\"endlinecolor\":\"#2a3f5f\",\"gridcolor\":\"white\",\"linecolor\":\"white\",\"minorgridcolor\":\"white\",\"startlinecolor\":\"#2a3f5f\"},\"type\":\"carpet\"}],\"table\":[{\"cells\":{\"fill\":{\"color\":\"#EBF0F8\"},\"line\":{\"color\":\"white\"}},\"header\":{\"fill\":{\"color\":\"#C8D4E3\"},\"line\":{\"color\":\"white\"}},\"type\":\"table\"}],\"barpolar\":[{\"marker\":{\"line\":{\"color\":\"#E5ECF6\",\"width\":0.5},\"pattern\":{\"fillmode\":\"overlay\",\"size\":10,\"solidity\":0.2}},\"type\":\"barpolar\"}],\"pie\":[{\"automargin\":true,\"type\":\"pie\"}]},\"layout\":{\"autotypenumbers\":\"strict\",\"colorway\":[\"#636efa\",\"#EF553B\",\"#00cc96\",\"#ab63fa\",\"#FFA15A\",\"#19d3f3\",\"#FF6692\",\"#B6E880\",\"#FF97FF\",\"#FECB52\"],\"font\":{\"color\":\"#2a3f5f\"},\"hovermode\":\"closest\",\"hoverlabel\":{\"align\":\"left\"},\"paper_bgcolor\":\"white\",\"plot_bgcolor\":\"#E5ECF6\",\"polar\":{\"bgcolor\":\"#E5ECF6\",\"angularaxis\":{\"gridcolor\":\"white\",\"linecolor\":\"white\",\"ticks\":\"\"},\"radialaxis\":{\"gridcolor\":\"white\",\"linecolor\":\"white\",\"ticks\":\"\"}},\"ternary\":{\"bgcolor\":\"#E5ECF6\",\"aaxis\":{\"gridcolor\":\"white\",\"linecolor\":\"white\",\"ticks\":\"\"},\"baxis\":{\"gridcolor\":\"white\",\"linecolor\":\"white\",\"ticks\":\"\"},\"caxis\":{\"gridcolor\":\"white\",\"linecolor\":\"white\",\"ticks\":\"\"}},\"coloraxis\":{\"colorbar\":{\"outlinewidth\":0,\"ticks\":\"\"}},\"colorscale\":{\"sequential\":[[0.0,\"#0d0887\"],[0.1111111111111111,\"#46039f\"],[0.2222222222222222,\"#7201a8\"],[0.3333333333333333,\"#9c179e\"],[0.4444444444444444,\"#bd3786\"],[0.5555555555555556,\"#d8576b\"],[0.6666666666666666,\"#ed7953\"],[0.7777777777777778,\"#fb9f3a\"],[0.8888888888888888,\"#fdca26\"],[1.0,\"#f0f921\"]],\"sequentialminus\":[[0.0,\"#0d0887\"],[0.1111111111111111,\"#46039f\"],[0.2222222222222222,\"#7201a8\"],[0.3333333333333333,\"#9c179e\"],[0.4444444444444444,\"#bd3786\"],[0.5555555555555556,\"#d8576b\"],[0.6666666666666666,\"#ed7953\"],[0.7777777777777778,\"#fb9f3a\"],[0.8888888888888888,\"#fdca26\"],[1.0,\"#f0f921\"]],\"diverging\":[[0,\"#8e0152\"],[0.1,\"#c51b7d\"],[0.2,\"#de77ae\"],[0.3,\"#f1b6da\"],[0.4,\"#fde0ef\"],[0.5,\"#f7f7f7\"],[0.6,\"#e6f5d0\"],[0.7,\"#b8e186\"],[0.8,\"#7fbc41\"],[0.9,\"#4d9221\"],[1,\"#276419\"]]},\"xaxis\":{\"gridcolor\":\"white\",\"linecolor\":\"white\",\"ticks\":\"\",\"title\":{\"standoff\":15},\"zerolinecolor\":\"white\",\"automargin\":true,\"zerolinewidth\":2},\"yaxis\":{\"gridcolor\":\"white\",\"linecolor\":\"white\",\"ticks\":\"\",\"title\":{\"standoff\":15},\"zerolinecolor\":\"white\",\"automargin\":true,\"zerolinewidth\":2},\"scene\":{\"xaxis\":{\"backgroundcolor\":\"#E5ECF6\",\"gridcolor\":\"white\",\"linecolor\":\"white\",\"showbackground\":true,\"ticks\":\"\",\"zerolinecolor\":\"white\",\"gridwidth\":2},\"yaxis\":{\"backgroundcolor\":\"#E5ECF6\",\"gridcolor\":\"white\",\"linecolor\":\"white\",\"showbackground\":true,\"ticks\":\"\",\"zerolinecolor\":\"white\",\"gridwidth\":2},\"zaxis\":{\"backgroundcolor\":\"#E5ECF6\",\"gridcolor\":\"white\",\"linecolor\":\"white\",\"showbackground\":true,\"ticks\":\"\",\"zerolinecolor\":\"white\",\"gridwidth\":2}},\"shapedefaults\":{\"line\":{\"color\":\"#2a3f5f\"}},\"annotationdefaults\":{\"arrowcolor\":\"#2a3f5f\",\"arrowhead\":0,\"arrowwidth\":1},\"geo\":{\"bgcolor\":\"white\",\"landcolor\":\"#E5ECF6\",\"subunitcolor\":\"white\",\"showland\":true,\"showlakes\":true,\"lakecolor\":\"white\"},\"title\":{\"x\":0.05},\"mapbox\":{\"style\":\"light\"}}},\"xaxis\":{\"anchor\":\"y\",\"domain\":[0.0,1.0],\"title\":{\"text\":\"\\u0417\\u0430\\u0440\\u043f\\u043b\\u0430\\u0442\\u043d\\u044b\\u0439 \\u0434\\u0438\\u0430\\u043f\\u0430\\u0437\\u043e\\u043d\"}},\"yaxis\":{\"anchor\":\"x\",\"domain\":[0.0,1.0],\"title\":{\"text\":\"\\u041a\\u043e\\u043b\\u0438\\u0447\\u0435\\u0441\\u0442\\u0432\\u043e \\u0432\\u0430\\u043a\\u0430\\u043d\\u0441\\u0438\\u0439\"}},\"coloraxis\":{\"colorbar\":{\"title\":{\"text\":\"\\u041a\\u043e\\u043b\\u0438\\u0447\\u0435\\u0441\\u0442\\u0432\\u043e \\u0432\\u0430\\u043a\\u0430\\u043d\\u0441\\u0438\\u0439\"}},\"colorscale\":[[0.0,\"rgb(0, 128, 128)\"],[0.16666666666666666,\"rgb(112, 164, 148)\"],[0.3333333333333333,\"rgb(180, 200, 168)\"],[0.5,\"rgb(246, 237, 189)\"],[0.6666666666666666,\"rgb(237, 187, 138)\"],[0.8333333333333334,\"rgb(222, 138, 90)\"],[1.0,\"rgb(202, 86, 44)\"]]},\"legend\":{\"tracegroupgap\":0},\"title\":{\"text\":\"\\u0420\\u0430\\u0441\\u043f\\u0440\\u0435\\u0434\\u0435\\u043b\\u0435\\u043d\\u0438\\u0435 \\u0432\\u0430\\u043a\\u0430\\u043d\\u0441\\u0438\\u0439 \\u0431\\u0430\\u0440\\u0438\\u0441\\u0442\\u0430 \\u043f\\u043e \\u0437\\u0430\\u0440\\u043f\\u043b\\u0430\\u0442\\u043d\\u044b\\u043c \\u0434\\u0438\\u0430\\u043f\\u0430\\u0437\\u043e\\u043d\\u0430\\u043c\"},\"barmode\":\"relative\",\"height\":500},                        {\"responsive\": true}                    ).then(function(){\n",
       "                            \n",
       "var gd = document.getElementById('ee29b793-013e-4f77-8b3d-94a83a74398e');\n",
       "var x = new MutationObserver(function (mutations, observer) {{\n",
       "        var display = window.getComputedStyle(gd).display;\n",
       "        if (!display || display === 'none') {{\n",
       "            console.log([gd, 'removed!']);\n",
       "            Plotly.purge(gd);\n",
       "            observer.disconnect();\n",
       "        }}\n",
       "}});\n",
       "\n",
       "// Listen for the removal of the full notebook cells\n",
       "var notebookContainer = gd.closest('#notebook-container');\n",
       "if (notebookContainer) {{\n",
       "    x.observe(notebookContainer, {childList: true});\n",
       "}}\n",
       "\n",
       "// Listen for the clearing of the current output cell\n",
       "var outputEl = gd.closest('.output');\n",
       "if (outputEl) {{\n",
       "    x.observe(outputEl, {childList: true});\n",
       "}}\n",
       "\n",
       "                        })                };                });            </script>        </div>"
      ]
     },
     "metadata": {},
     "output_type": "display_data"
    }
   ],
   "source": [
    "import pandas as pd\n",
    "import plotly.express as px\n",
    "\n",
    "df = pd.DataFrame(vacancies, columns=[\"Вакансия\", \"Зарплата\"])\n",
    "df = df[(df[\"Зарплата\"] >= 50000) & (df[\"Зарплата\"] <= 200000)]\n",
    "\n",
    "# Определяем диапазоны зарплат\n",
    "df[\"Диапазон зарплат\"] = pd.cut(df[\"Зарплата\"], bins=[50000, 80000, 100000, 120000, 200000], labels=[\"50-80k\", \"80-100k\", \"100-120k\", \"120k+\"])\n",
    "\n",
    "# Группировка по диапазонам и подсчет количества вакансий \n",
    "df_barista_grouped_1 = df[\"Диапазон зарплат\"].value_counts().reset_index() # Считаем количество вакансий в диапазоне\n",
    "df_barista_grouped_1.columns = [\"Диапазон зарплат\", \"Количество вакансий\"]\n",
    "df_barista_grouped_1 = df_barista_grouped_1.sort_values(\"Диапазон зарплат\") # Сортируем значения\n",
    "\n",
    "fig_bar_diap = px.bar(\n",
    "    df_barista_grouped_1,\n",
    "    x=\"Диапазон зарплат\",\n",
    "    y=\"Количество вакансий\",\n",
    "    title=\"Распределение вакансий бариста по зарплатным диапазонам\",\n",
    "    labels={\"Количество вакансий\": \"Количество вакансий\", \"Диапазон зарплат\": \"Зарплатный диапазон\"},\n",
    "    color=\"Количество вакансий\",\n",
    "    color_continuous_scale=\"geyser\",\n",
    "    text_auto=True\n",
    ")\n",
    "fig_bar_diap.update_layout(height=500)\n",
    "fig_bar_diap.show()\n"
   ]
  },
  {
   "cell_type": "markdown",
   "metadata": {},
   "source": [
    "#### УБОРЩИЦА"
   ]
  },
  {
   "cell_type": "code",
   "execution_count": 160,
   "metadata": {},
   "outputs": [],
   "source": [
    "from selenium import webdriver\n",
    "from selenium.webdriver.common.by import By\n",
    "from selenium.webdriver.common.keys import Keys  # Импортируем Keys\n",
    "from selenium.webdriver.common.action_chains import ActionChains\n",
    "import time\n",
    "driver = webdriver.Safari() \n",
    "driver.get(\"https://www.avito.ru/moskva/rabota\")"
   ]
  },
  {
   "cell_type": "code",
   "execution_count": 161,
   "metadata": {},
   "outputs": [],
   "source": [
    "element = driver.find_element(By.ID, \"bx_search\") \n",
    "\n",
    "element.send_keys('Уборщик ') \n",
    "element.send_keys('в кафе') \n",
    "# Разбил на 2 строки, так как очень часто все сливалось в \"Уборщиквкафе\"\n",
    "\n",
    "element.send_keys(Keys.ENTER)"
   ]
  },
  {
   "cell_type": "code",
   "execution_count": 163,
   "metadata": {},
   "outputs": [],
   "source": [
    "button = driver.find_element(By.CSS_SELECTOR, \"a[data-marker='category[1000061]/clickable']\")\n",
    "button.click()"
   ]
  },
  {
   "cell_type": "code",
   "execution_count": 164,
   "metadata": {},
   "outputs": [
    {
     "name": "stdout",
     "output_type": "stream",
     "text": [
      "['Уборщик в ресторан', 104597]\n",
      "['Уборщица/Уборщик в кафе', 109195]\n",
      "['Уборщица в ресторан', 97701]\n",
      "['Уборщица-в ресторан', 114942]\n",
      "['Уборщик/уборщица в ресторан (м. Домодедовская)', 104597]\n",
      "['Уборщица(к в ресторан м. Преображенская площадь', 109310]\n",
      "['Уборщик в кафе', 137931]\n",
      "['Уборщица/Уборщик в кафе', 109195]\n",
      "['Уборщица в ресторан (еженедельная выплата )', 41954]\n",
      "['Уборщица / Уборщик в ресторан', 68965]\n",
      "['Уборщица в ресторан', 79310]\n",
      "['Уборщик/ца в кафе платим каждый день', 77011]\n",
      "['Уборщица - посудомойка в кафе м ЗИЛ с питанием', 102298]\n",
      "['Уборщик в ресторан', 112068]\n",
      "['Уборщик/Уборщица в ресторан', 106896]\n",
      "['Уборщик в ресторан (ночь)', 98850]\n",
      "['Уборщик в ресторан', 104597]\n",
      "['Уборщица/Уборщик в кафе', 109195]\n",
      "['Уборщица в ресторан', 97701]\n",
      "['Уборщица-в ресторан', 114942]\n",
      "['Уборщик/уборщица в ресторан (м. Домодедовская)', 104597]\n",
      "['Уборщица(к в ресторан м. Преображенская площадь', 109310]\n",
      "['Уборщик в кафе', 137931]\n",
      "['Уборщица/Уборщик в кафе', 109195]\n",
      "['Уборщица в ресторан (еженедельная выплата )', 41954]\n",
      "['Уборщица / Уборщик в ресторан', 68965]\n",
      "['Уборщица в ресторан', 79310]\n",
      "['Уборщик/ца в кафе платим каждый день', 77011]\n",
      "['Уборщица - посудомойка в кафе м ЗИЛ с питанием', 102298]\n",
      "['Уборщик в ресторан', 112068]\n",
      "['Уборщик/Уборщица в ресторан', 106896]\n",
      "['Уборщик в ресторан (ночь)', 98850]\n",
      "['Уборщик в ресторан', 104597]\n",
      "['Уборщица/Уборщик в кафе', 109195]\n",
      "['Уборщица в ресторан', 97701]\n",
      "['Уборщица-в ресторан', 114942]\n",
      "['Уборщик/уборщица в ресторан (м. Домодедовская)', 104597]\n",
      "['Уборщица(к в ресторан м. Преображенская площадь', 109310]\n",
      "['Уборщик в кафе', 137931]\n",
      "['Уборщица/Уборщик в кафе', 109195]\n",
      "['Уборщица в ресторан (еженедельная выплата )', 41954]\n",
      "['Уборщица / Уборщик в ресторан', 68965]\n",
      "['Уборщица в ресторан', 79310]\n",
      "['Уборщик/ца в кафе платим каждый день', 77011]\n",
      "['Уборщица - посудомойка в кафе м ЗИЛ с питанием', 102298]\n",
      "['Уборщик в ресторан', 112068]\n",
      "['Уборщик/Уборщица в ресторан', 106896]\n",
      "['Уборщик в ресторан (ночь)', 98850]\n",
      "['Уборщик в ресторан', 104597]\n",
      "['Уборщица/Уборщик в кафе', 109195]\n",
      "['Уборщица в ресторан', 97701]\n",
      "['Уборщица-в ресторан', 114942]\n",
      "['Уборщик/уборщица в ресторан (м. Домодедовская)', 104597]\n",
      "['Уборщица(к в ресторан м. Преображенская площадь', 109310]\n",
      "['Уборщик в кафе', 137931]\n",
      "['Уборщица/Уборщик в кафе', 109195]\n",
      "['Уборщица в ресторан (еженедельная выплата )', 41954]\n",
      "['Уборщица / Уборщик в ресторан', 68965]\n",
      "['Уборщица в ресторан', 79310]\n",
      "['Уборщик/ца в кафе платим каждый день', 77011]\n",
      "['Уборщица - посудомойка в кафе м ЗИЛ с питанием', 102298]\n",
      "['Уборщик в ресторан', 112068]\n",
      "['Уборщик/Уборщица в ресторан', 106896]\n",
      "['Уборщик в ресторан (ночь)', 98850]\n",
      "['Уборщик в ресторан', 104597]\n",
      "['Уборщица/Уборщик в кафе', 109195]\n",
      "['Уборщица в ресторан', 97701]\n",
      "['Уборщица-в ресторан', 114942]\n",
      "['Уборщик/уборщица в ресторан (м. Домодедовская)', 104597]\n",
      "['Уборщица(к в ресторан м. Преображенская площадь', 109310]\n",
      "['Уборщик в кафе', 137931]\n",
      "['Уборщица/Уборщик в кафе', 109195]\n",
      "['Уборщица в ресторан (еженедельная выплата )', 41954]\n",
      "['Уборщица / Уборщик в ресторан', 68965]\n",
      "['Уборщица в ресторан', 79310]\n",
      "['Уборщик/ца в кафе платим каждый день', 77011]\n",
      "['Уборщица - посудомойка в кафе м ЗИЛ с питанием', 102298]\n",
      "['Уборщик в ресторан', 112068]\n",
      "['Уборщик/Уборщица в ресторан', 106896]\n",
      "['Уборщик в ресторан (ночь)', 98850]\n",
      "['Уборщик в ресторан', 104597]\n",
      "['Уборщица/Уборщик в кафе', 109195]\n",
      "['Уборщица в ресторан', 97701]\n",
      "['Уборщица-в ресторан', 114942]\n",
      "['Уборщик/уборщица в ресторан (м. Домодедовская)', 104597]\n",
      "['Уборщица(к в ресторан м. Преображенская площадь', 109310]\n",
      "['Уборщик в кафе', 137931]\n",
      "['Уборщица/Уборщик в кафе', 109195]\n",
      "['Уборщица в ресторан (еженедельная выплата )', 41954]\n",
      "['Уборщица / Уборщик в ресторан', 68965]\n",
      "['Уборщица в ресторан', 79310]\n",
      "['Уборщик/ца в кафе платим каждый день', 77011]\n",
      "['Уборщица - посудомойка в кафе м ЗИЛ с питанием', 102298]\n",
      "['Уборщик в ресторан', 112068]\n",
      "['Уборщик/Уборщица в ресторан', 106896]\n",
      "['Уборщик в ресторан (ночь)', 98850]\n",
      "['Уборщик в ресторан', 104597]\n",
      "['Уборщица/Уборщик в кафе', 109195]\n",
      "['Уборщица в ресторан', 97701]\n",
      "['Уборщица-в ресторан', 114942]\n",
      "['Уборщик/уборщица в ресторан (м. Домодедовская)', 104597]\n",
      "['Уборщица(к в ресторан м. Преображенская площадь', 109310]\n",
      "['Уборщик в кафе', 137931]\n",
      "['Уборщица/Уборщик в кафе', 109195]\n",
      "['Уборщица в ресторан (еженедельная выплата )', 41954]\n",
      "['Уборщица / Уборщик в ресторан', 68965]\n",
      "['Уборщица в ресторан', 79310]\n",
      "['Уборщик/ца в кафе платим каждый день', 77011]\n",
      "['Уборщица - посудомойка в кафе м ЗИЛ с питанием', 102298]\n",
      "['Уборщик в ресторан', 112068]\n",
      "['Уборщик/Уборщица в ресторан', 106896]\n",
      "['Уборщик в ресторан (ночь)', 98850]\n",
      "['Уборщик в ресторан', 104597]\n",
      "['Уборщица/Уборщик в кафе', 109195]\n",
      "['Уборщица в ресторан', 97701]\n",
      "['Уборщица-в ресторан', 114942]\n",
      "['Уборщик/уборщица в ресторан (м. Домодедовская)', 104597]\n",
      "['Уборщица(к в ресторан м. Преображенская площадь', 109310]\n",
      "['Уборщик в кафе', 137931]\n",
      "['Уборщица/Уборщик в кафе', 109195]\n",
      "['Уборщица в ресторан (еженедельная выплата )', 41954]\n",
      "['Уборщица / Уборщик в ресторан', 68965]\n",
      "['Уборщица в ресторан', 79310]\n",
      "['Уборщик/ца в кафе платим каждый день', 77011]\n",
      "['Уборщица - посудомойка в кафе м ЗИЛ с питанием', 102298]\n",
      "['Уборщик в ресторан', 112068]\n",
      "['Уборщик/Уборщица в ресторан', 106896]\n",
      "['Уборщик в ресторан (ночь)', 98850]\n",
      "['Уборщик в ресторан', 104597]\n",
      "['Уборщица/Уборщик в кафе', 109195]\n",
      "['Уборщица в ресторан', 97701]\n",
      "['Уборщица-в ресторан', 114942]\n",
      "['Уборщик/уборщица в ресторан (м. Домодедовская)', 104597]\n",
      "['Уборщица(к в ресторан м. Преображенская площадь', 109310]\n",
      "['Уборщик в кафе', 137931]\n",
      "['Уборщица/Уборщик в кафе', 109195]\n",
      "['Уборщица в ресторан (еженедельная выплата )', 41954]\n",
      "['Уборщица / Уборщик в ресторан', 68965]\n",
      "['Уборщица в ресторан', 79310]\n",
      "['Уборщик/ца в кафе платим каждый день', 77011]\n",
      "['Уборщица - посудомойка в кафе м ЗИЛ с питанием', 102298]\n",
      "['Уборщик в ресторан', 112068]\n",
      "['Уборщик/Уборщица в ресторан', 106896]\n",
      "['Уборщик в ресторан (ночь)', 98850]\n",
      "['Уборщик в ресторан', 104597]\n",
      "['Уборщица/Уборщик в кафе', 109195]\n",
      "['Уборщица в ресторан', 97701]\n",
      "['Уборщица-в ресторан', 114942]\n",
      "['Уборщик/уборщица в ресторан (м. Домодедовская)', 104597]\n",
      "['Уборщица(к в ресторан м. Преображенская площадь', 109310]\n",
      "['Уборщик в кафе', 137931]\n",
      "['Уборщица/Уборщик в кафе', 109195]\n",
      "['Уборщица в ресторан (еженедельная выплата )', 41954]\n",
      "['Уборщица / Уборщик в ресторан', 68965]\n",
      "['Уборщица в ресторан', 79310]\n",
      "['Уборщик/ца в кафе платим каждый день', 77011]\n",
      "['Уборщица - посудомойка в кафе м ЗИЛ с питанием', 102298]\n",
      "['Уборщик в ресторан', 112068]\n",
      "['Уборщик/Уборщица в ресторан', 106896]\n",
      "['Уборщик в ресторан (ночь)', 98850]\n",
      "['Уборщик в ресторан', 104597]\n",
      "['Уборщица/Уборщик в кафе', 109195]\n",
      "['Уборщица в ресторан', 97701]\n",
      "['Уборщица-в ресторан', 114942]\n",
      "['Уборщик/уборщица в ресторан (м. Домодедовская)', 104597]\n",
      "['Уборщица(к в ресторан м. Преображенская площадь', 109310]\n",
      "['Уборщик в кафе', 137931]\n",
      "['Уборщица/Уборщик в кафе', 109195]\n",
      "['Уборщица в ресторан (еженедельная выплата )', 41954]\n",
      "['Уборщица / Уборщик в ресторан', 68965]\n",
      "['Уборщица в ресторан', 79310]\n",
      "['Уборщик/ца в кафе платим каждый день', 77011]\n",
      "['Уборщица - посудомойка в кафе м ЗИЛ с питанием', 102298]\n",
      "['Уборщик в ресторан', 112068]\n",
      "['Уборщик/Уборщица в ресторан', 106896]\n",
      "['Уборщик в ресторан (ночь)', 98850]\n",
      "['Уборщик в ресторан', 104597]\n",
      "['Уборщица/Уборщик в кафе', 109195]\n",
      "['Уборщица в ресторан', 97701]\n",
      "['Уборщица-в ресторан', 114942]\n",
      "['Уборщик/уборщица в ресторан (м. Домодедовская)', 104597]\n",
      "['Уборщица(к в ресторан м. Преображенская площадь', 109310]\n",
      "['Уборщик в кафе', 137931]\n",
      "['Уборщица/Уборщик в кафе', 109195]\n",
      "['Уборщица в ресторан (еженедельная выплата )', 41954]\n",
      "['Уборщица / Уборщик в ресторан', 68965]\n",
      "['Уборщица в ресторан', 79310]\n",
      "['Уборщик/ца в кафе платим каждый день', 77011]\n",
      "['Уборщица - посудомойка в кафе м ЗИЛ с питанием', 102298]\n",
      "['Уборщик в ресторан', 112068]\n",
      "['Уборщик/Уборщица в ресторан', 106896]\n",
      "['Уборщик в ресторан (ночь)', 98850]\n",
      "['Уборщик в ресторан', 104597]\n",
      "['Уборщица/Уборщик в кафе', 109195]\n",
      "['Уборщица в ресторан', 97701]\n",
      "['Уборщица-в ресторан', 114942]\n",
      "['Уборщик/уборщица в ресторан (м. Домодедовская)', 104597]\n",
      "['Уборщица(к в ресторан м. Преображенская площадь', 109310]\n",
      "['Уборщик в кафе', 137931]\n",
      "['Уборщица/Уборщик в кафе', 109195]\n",
      "['Уборщица в ресторан (еженедельная выплата )', 41954]\n",
      "['Уборщица / Уборщик в ресторан', 68965]\n",
      "['Уборщица в ресторан', 79310]\n",
      "['Уборщик/ца в кафе платим каждый день', 77011]\n",
      "['Уборщица - посудомойка в кафе м ЗИЛ с питанием', 102298]\n",
      "['Уборщик в ресторан', 112068]\n",
      "['Уборщик/Уборщица в ресторан', 106896]\n",
      "['Уборщик в ресторан (ночь)', 98850]\n",
      "['Уборщик в ресторан', 104597]\n",
      "['Уборщица/Уборщик в кафе', 109195]\n",
      "['Уборщица в ресторан', 97701]\n",
      "['Уборщица-в ресторан', 114942]\n",
      "['Уборщик/уборщица в ресторан (м. Домодедовская)', 104597]\n",
      "['Уборщица(к в ресторан м. Преображенская площадь', 109310]\n",
      "['Уборщик в кафе', 137931]\n",
      "['Уборщица/Уборщик в кафе', 109195]\n",
      "['Уборщица в ресторан (еженедельная выплата )', 41954]\n",
      "['Уборщица / Уборщик в ресторан', 68965]\n",
      "['Уборщица в ресторан', 79310]\n",
      "['Уборщик/ца в кафе платим каждый день', 77011]\n",
      "['Уборщица - посудомойка в кафе м ЗИЛ с питанием', 102298]\n",
      "['Уборщик в ресторан', 112068]\n",
      "['Уборщик/Уборщица в ресторан', 106896]\n",
      "['Уборщик в ресторан (ночь)', 98850]\n",
      "['Уборщик в ресторан', 104597]\n",
      "['Уборщица/Уборщик в кафе', 109195]\n",
      "['Уборщица в ресторан', 97701]\n",
      "['Уборщица-в ресторан', 114942]\n",
      "['Уборщик/уборщица в ресторан (м. Домодедовская)', 104597]\n",
      "['Уборщица(к в ресторан м. Преображенская площадь', 109310]\n",
      "['Уборщик в кафе', 137931]\n",
      "['Уборщица/Уборщик в кафе', 109195]\n",
      "['Уборщица в ресторан (еженедельная выплата )', 41954]\n",
      "['Уборщица / Уборщик в ресторан', 68965]\n",
      "['Уборщица в ресторан', 79310]\n",
      "['Уборщик/ца в кафе платим каждый день', 77011]\n",
      "['Уборщица - посудомойка в кафе м ЗИЛ с питанием', 102298]\n",
      "['Уборщик в ресторан', 112068]\n",
      "['Уборщик/Уборщица в ресторан', 106896]\n",
      "['Уборщик в ресторан (ночь)', 98850]\n",
      "['Уборщик в ресторан', 104597]\n",
      "['Уборщица/Уборщик в кафе', 109195]\n",
      "['Уборщица в ресторан', 97701]\n",
      "['Уборщица-в ресторан', 114942]\n",
      "['Уборщик/уборщица в ресторан (м. Домодедовская)', 104597]\n",
      "['Уборщица(к в ресторан м. Преображенская площадь', 109310]\n",
      "['Уборщик в кафе', 137931]\n",
      "['Уборщица/Уборщик в кафе', 109195]\n",
      "['Уборщица в ресторан (еженедельная выплата )', 41954]\n",
      "['Уборщица / Уборщик в ресторан', 68965]\n",
      "['Уборщица в ресторан', 79310]\n",
      "['Уборщик/ца в кафе платим каждый день', 77011]\n",
      "['Уборщица - посудомойка в кафе м ЗИЛ с питанием', 102298]\n",
      "['Уборщик в ресторан', 112068]\n",
      "['Уборщик/Уборщица в ресторан', 106896]\n",
      "['Уборщик в ресторан (ночь)', 98850]\n",
      "['Уборщик в ресторан', 104597]\n",
      "['Уборщица/Уборщик в кафе', 109195]\n",
      "['Уборщица в ресторан', 97701]\n",
      "['Уборщица-в ресторан', 114942]\n",
      "['Уборщик/уборщица в ресторан (м. Домодедовская)', 104597]\n",
      "['Уборщица(к в ресторан м. Преображенская площадь', 109310]\n",
      "['Уборщик в кафе', 137931]\n",
      "['Уборщица/Уборщик в кафе', 109195]\n",
      "['Уборщица в ресторан (еженедельная выплата )', 41954]\n",
      "['Уборщица / Уборщик в ресторан', 68965]\n",
      "['Уборщица в ресторан', 79310]\n",
      "['Уборщик/ца в кафе платим каждый день', 77011]\n",
      "['Уборщица - посудомойка в кафе м ЗИЛ с питанием', 102298]\n",
      "['Уборщик в ресторан', 112068]\n",
      "['Уборщик/Уборщица в ресторан', 106896]\n",
      "['Уборщик в ресторан (ночь)', 98850]\n",
      "['Уборщик в ресторан', 104597]\n",
      "['Уборщица/Уборщик в кафе', 109195]\n",
      "['Уборщица в ресторан', 97701]\n",
      "['Уборщица-в ресторан', 114942]\n",
      "['Уборщик/уборщица в ресторан (м. Домодедовская)', 104597]\n",
      "['Уборщица(к в ресторан м. Преображенская площадь', 109310]\n",
      "['Уборщик в кафе', 137931]\n",
      "['Уборщица/Уборщик в кафе', 109195]\n",
      "['Уборщица в ресторан (еженедельная выплата )', 41954]\n",
      "['Уборщица / Уборщик в ресторан', 68965]\n",
      "['Уборщица в ресторан', 79310]\n",
      "['Уборщик/ца в кафе платим каждый день', 77011]\n",
      "['Уборщица - посудомойка в кафе м ЗИЛ с питанием', 102298]\n",
      "['Уборщик в ресторан', 112068]\n",
      "['Уборщик/Уборщица в ресторан', 106896]\n",
      "['Уборщик в ресторан (ночь)', 98850]\n",
      "['Уборщик в ресторан', 104597]\n",
      "['Уборщица/Уборщик в кафе', 109195]\n",
      "['Уборщица в ресторан', 97701]\n",
      "['Уборщица-в ресторан', 114942]\n",
      "['Уборщик/уборщица в ресторан (м. Домодедовская)', 104597]\n",
      "['Уборщица(к в ресторан м. Преображенская площадь', 109310]\n",
      "['Уборщик в кафе', 137931]\n",
      "['Уборщица/Уборщик в кафе', 109195]\n",
      "['Уборщица в ресторан (еженедельная выплата )', 41954]\n",
      "['Уборщица / Уборщик в ресторан', 68965]\n",
      "['Уборщица в ресторан', 79310]\n",
      "['Уборщик/ца в кафе платим каждый день', 77011]\n",
      "['Уборщица - посудомойка в кафе м ЗИЛ с питанием', 102298]\n",
      "['Уборщик в ресторан', 112068]\n",
      "['Уборщик/Уборщица в ресторан', 106896]\n",
      "['Уборщик в ресторан (ночь)', 98850]\n",
      "['Уборщик в ресторан', 104597]\n",
      "['Уборщица/Уборщик в кафе', 109195]\n",
      "['Уборщица в ресторан', 97701]\n",
      "['Уборщица-в ресторан', 114942]\n",
      "['Уборщик/уборщица в ресторан (м. Домодедовская)', 104597]\n",
      "['Уборщица(к в ресторан м. Преображенская площадь', 109310]\n",
      "['Уборщик в кафе', 137931]\n",
      "['Уборщица/Уборщик в кафе', 109195]\n",
      "['Уборщица в ресторан (еженедельная выплата )', 41954]\n",
      "['Уборщица / Уборщик в ресторан', 68965]\n",
      "['Уборщица в ресторан', 79310]\n",
      "['Уборщик/ца в кафе платим каждый день', 77011]\n",
      "['Уборщица - посудомойка в кафе м ЗИЛ с питанием', 102298]\n",
      "['Уборщик в ресторан', 112068]\n",
      "['Уборщик/Уборщица в ресторан', 106896]\n",
      "['Уборщик в ресторан (ночь)', 98850]\n"
     ]
    }
   ],
   "source": [
    "vacancies = []  \n",
    "wage = None\n",
    "shift = None\n",
    "\n",
    "for i in range(20):\n",
    "    elements = driver.find_elements(By.CSS_SELECTOR, 'div[data-marker=\"item\"]')\n",
    "\n",
    "    for elem in elements:\n",
    "        try:\n",
    "          title = elem.find_element(By.CSS_SELECTOR, 'h3[itemprop=\"name\"]').text\n",
    "          if ('борщи' in title or 'лин' in title) and ('офе' in title or 'афе' in title or 'естора' in title): # берем только вакансии, в которых есть слово \"бариста\"\n",
    "\n",
    "             wage_block = elem.find_element(By.CSS_SELECTOR, 'p[data-marker=\"item-price\"]')\n",
    "             wage = wage_block.find_element(By.CSS_SELECTOR, 'span').text\n",
    "\n",
    "            # Приводим цену в нормальный вид\n",
    "             wage = wage.replace(\"\\xa0\", \" \").strip()\n",
    "             wage = wage.replace('₽', '').strip()\n",
    "             wage = wage.replace('от', '').strip()\n",
    "             wage = wage.replace('до', '').strip()\n",
    "\n",
    "             if 'на руки' in wage or \"до налогов\" in wage:\n",
    "                 after_taxes = True\n",
    "             if 'сдельно' in wage or 'за смену' in wage:\n",
    "                 shift = True\n",
    "\n",
    "             wage = wage.replace('сдельно', '').strip() # С этими случаями нужно еще поработать\n",
    "             wage = wage.replace('за смену', '').strip()\n",
    "             wage = wage.replace('на руки', '').strip()\n",
    "              \n",
    "             # Работаем со случаем, когда цена представлена диапазоном, а не числом\n",
    "             if '—' in wage:\n",
    "                w_min, w_max = wage.split('—')\n",
    "                w_min = int(w_min.replace(' ', ''))\n",
    "                w_max = int(w_max.replace(' ', ''))\n",
    "                wage = (w_min + w_max) // 2  # Берем среднее, если з/п указана диапазоном\n",
    "             else:\n",
    "                wage = int(wage.replace(' ', ''))  # Убираем пробелы и превращаем в число\n",
    "\n",
    "             if shift or '—' in title or 'ойщица' in title:\n",
    "                pass\n",
    "             elif after_taxes:\n",
    "                wage = int(wage / 0.87)              \n",
    "                vacancies.append([title, wage])\n",
    "             else:\n",
    "                vacancies.append([title, wage])\n",
    "\n",
    "             wage = None\n",
    "             shift = None\n",
    "              \n",
    "        except Exception as e: \n",
    "          pass\n",
    " \n",
    "    driver.find_element(By.TAG_NAME, 'body').send_keys(Keys.PAGE_DOWN) \n",
    "    time.sleep(0.75)  \n",
    "\n",
    "driver.quit()\n",
    "\n",
    "for item in vacancies:\n",
    "    print(item)"
   ]
  },
  {
   "cell_type": "code",
   "execution_count": 165,
   "metadata": {},
   "outputs": [
    {
     "data": {
      "application/vnd.plotly.v1+json": {
       "config": {
        "plotlyServerURL": "https://plot.ly"
       },
       "data": [
        {
         "alignmentgroup": "True",
         "hovertemplate": "Зарплатный диапазон=%{x}<br>Количество вакансий=%{marker.color}<extra></extra>",
         "legendgroup": "",
         "marker": {
          "color": [
           20,
           20,
           140,
           120
          ],
          "coloraxis": "coloraxis",
          "pattern": {
           "shape": ""
          }
         },
         "name": "",
         "offsetgroup": "",
         "orientation": "v",
         "showlegend": false,
         "textposition": "auto",
         "texttemplate": "%{y}",
         "type": "bar",
         "x": [
          "40-60k",
          "60-75k",
          "75-105k",
          "105k+"
         ],
         "xaxis": "x",
         "y": [
          20,
          20,
          140,
          120
         ],
         "yaxis": "y"
        }
       ],
       "layout": {
        "autosize": true,
        "barmode": "relative",
        "coloraxis": {
         "colorbar": {
          "title": {
           "text": "Количество вакансий"
          }
         },
         "colorscale": [
          [
           0,
           "rgb(0, 128, 128)"
          ],
          [
           0.16666666666666666,
           "rgb(112, 164, 148)"
          ],
          [
           0.3333333333333333,
           "rgb(180, 200, 168)"
          ],
          [
           0.5,
           "rgb(246, 237, 189)"
          ],
          [
           0.6666666666666666,
           "rgb(237, 187, 138)"
          ],
          [
           0.8333333333333334,
           "rgb(222, 138, 90)"
          ],
          [
           1,
           "rgb(202, 86, 44)"
          ]
         ]
        },
        "legend": {
         "tracegroupgap": 0
        },
        "template": {
         "data": {
          "bar": [
           {
            "error_x": {
             "color": "#2a3f5f"
            },
            "error_y": {
             "color": "#2a3f5f"
            },
            "marker": {
             "line": {
              "color": "#E5ECF6",
              "width": 0.5
             },
             "pattern": {
              "fillmode": "overlay",
              "size": 10,
              "solidity": 0.2
             }
            },
            "type": "bar"
           }
          ],
          "barpolar": [
           {
            "marker": {
             "line": {
              "color": "#E5ECF6",
              "width": 0.5
             },
             "pattern": {
              "fillmode": "overlay",
              "size": 10,
              "solidity": 0.2
             }
            },
            "type": "barpolar"
           }
          ],
          "carpet": [
           {
            "aaxis": {
             "endlinecolor": "#2a3f5f",
             "gridcolor": "white",
             "linecolor": "white",
             "minorgridcolor": "white",
             "startlinecolor": "#2a3f5f"
            },
            "baxis": {
             "endlinecolor": "#2a3f5f",
             "gridcolor": "white",
             "linecolor": "white",
             "minorgridcolor": "white",
             "startlinecolor": "#2a3f5f"
            },
            "type": "carpet"
           }
          ],
          "choropleth": [
           {
            "colorbar": {
             "outlinewidth": 0,
             "ticks": ""
            },
            "type": "choropleth"
           }
          ],
          "contour": [
           {
            "colorbar": {
             "outlinewidth": 0,
             "ticks": ""
            },
            "colorscale": [
             [
              0,
              "#0d0887"
             ],
             [
              0.1111111111111111,
              "#46039f"
             ],
             [
              0.2222222222222222,
              "#7201a8"
             ],
             [
              0.3333333333333333,
              "#9c179e"
             ],
             [
              0.4444444444444444,
              "#bd3786"
             ],
             [
              0.5555555555555556,
              "#d8576b"
             ],
             [
              0.6666666666666666,
              "#ed7953"
             ],
             [
              0.7777777777777778,
              "#fb9f3a"
             ],
             [
              0.8888888888888888,
              "#fdca26"
             ],
             [
              1,
              "#f0f921"
             ]
            ],
            "type": "contour"
           }
          ],
          "contourcarpet": [
           {
            "colorbar": {
             "outlinewidth": 0,
             "ticks": ""
            },
            "type": "contourcarpet"
           }
          ],
          "heatmap": [
           {
            "colorbar": {
             "outlinewidth": 0,
             "ticks": ""
            },
            "colorscale": [
             [
              0,
              "#0d0887"
             ],
             [
              0.1111111111111111,
              "#46039f"
             ],
             [
              0.2222222222222222,
              "#7201a8"
             ],
             [
              0.3333333333333333,
              "#9c179e"
             ],
             [
              0.4444444444444444,
              "#bd3786"
             ],
             [
              0.5555555555555556,
              "#d8576b"
             ],
             [
              0.6666666666666666,
              "#ed7953"
             ],
             [
              0.7777777777777778,
              "#fb9f3a"
             ],
             [
              0.8888888888888888,
              "#fdca26"
             ],
             [
              1,
              "#f0f921"
             ]
            ],
            "type": "heatmap"
           }
          ],
          "heatmapgl": [
           {
            "colorbar": {
             "outlinewidth": 0,
             "ticks": ""
            },
            "colorscale": [
             [
              0,
              "#0d0887"
             ],
             [
              0.1111111111111111,
              "#46039f"
             ],
             [
              0.2222222222222222,
              "#7201a8"
             ],
             [
              0.3333333333333333,
              "#9c179e"
             ],
             [
              0.4444444444444444,
              "#bd3786"
             ],
             [
              0.5555555555555556,
              "#d8576b"
             ],
             [
              0.6666666666666666,
              "#ed7953"
             ],
             [
              0.7777777777777778,
              "#fb9f3a"
             ],
             [
              0.8888888888888888,
              "#fdca26"
             ],
             [
              1,
              "#f0f921"
             ]
            ],
            "type": "heatmapgl"
           }
          ],
          "histogram": [
           {
            "marker": {
             "pattern": {
              "fillmode": "overlay",
              "size": 10,
              "solidity": 0.2
             }
            },
            "type": "histogram"
           }
          ],
          "histogram2d": [
           {
            "colorbar": {
             "outlinewidth": 0,
             "ticks": ""
            },
            "colorscale": [
             [
              0,
              "#0d0887"
             ],
             [
              0.1111111111111111,
              "#46039f"
             ],
             [
              0.2222222222222222,
              "#7201a8"
             ],
             [
              0.3333333333333333,
              "#9c179e"
             ],
             [
              0.4444444444444444,
              "#bd3786"
             ],
             [
              0.5555555555555556,
              "#d8576b"
             ],
             [
              0.6666666666666666,
              "#ed7953"
             ],
             [
              0.7777777777777778,
              "#fb9f3a"
             ],
             [
              0.8888888888888888,
              "#fdca26"
             ],
             [
              1,
              "#f0f921"
             ]
            ],
            "type": "histogram2d"
           }
          ],
          "histogram2dcontour": [
           {
            "colorbar": {
             "outlinewidth": 0,
             "ticks": ""
            },
            "colorscale": [
             [
              0,
              "#0d0887"
             ],
             [
              0.1111111111111111,
              "#46039f"
             ],
             [
              0.2222222222222222,
              "#7201a8"
             ],
             [
              0.3333333333333333,
              "#9c179e"
             ],
             [
              0.4444444444444444,
              "#bd3786"
             ],
             [
              0.5555555555555556,
              "#d8576b"
             ],
             [
              0.6666666666666666,
              "#ed7953"
             ],
             [
              0.7777777777777778,
              "#fb9f3a"
             ],
             [
              0.8888888888888888,
              "#fdca26"
             ],
             [
              1,
              "#f0f921"
             ]
            ],
            "type": "histogram2dcontour"
           }
          ],
          "mesh3d": [
           {
            "colorbar": {
             "outlinewidth": 0,
             "ticks": ""
            },
            "type": "mesh3d"
           }
          ],
          "parcoords": [
           {
            "line": {
             "colorbar": {
              "outlinewidth": 0,
              "ticks": ""
             }
            },
            "type": "parcoords"
           }
          ],
          "pie": [
           {
            "automargin": true,
            "type": "pie"
           }
          ],
          "scatter": [
           {
            "fillpattern": {
             "fillmode": "overlay",
             "size": 10,
             "solidity": 0.2
            },
            "type": "scatter"
           }
          ],
          "scatter3d": [
           {
            "line": {
             "colorbar": {
              "outlinewidth": 0,
              "ticks": ""
             }
            },
            "marker": {
             "colorbar": {
              "outlinewidth": 0,
              "ticks": ""
             }
            },
            "type": "scatter3d"
           }
          ],
          "scattercarpet": [
           {
            "marker": {
             "colorbar": {
              "outlinewidth": 0,
              "ticks": ""
             }
            },
            "type": "scattercarpet"
           }
          ],
          "scattergeo": [
           {
            "marker": {
             "colorbar": {
              "outlinewidth": 0,
              "ticks": ""
             }
            },
            "type": "scattergeo"
           }
          ],
          "scattergl": [
           {
            "marker": {
             "colorbar": {
              "outlinewidth": 0,
              "ticks": ""
             }
            },
            "type": "scattergl"
           }
          ],
          "scattermapbox": [
           {
            "marker": {
             "colorbar": {
              "outlinewidth": 0,
              "ticks": ""
             }
            },
            "type": "scattermapbox"
           }
          ],
          "scatterpolar": [
           {
            "marker": {
             "colorbar": {
              "outlinewidth": 0,
              "ticks": ""
             }
            },
            "type": "scatterpolar"
           }
          ],
          "scatterpolargl": [
           {
            "marker": {
             "colorbar": {
              "outlinewidth": 0,
              "ticks": ""
             }
            },
            "type": "scatterpolargl"
           }
          ],
          "scatterternary": [
           {
            "marker": {
             "colorbar": {
              "outlinewidth": 0,
              "ticks": ""
             }
            },
            "type": "scatterternary"
           }
          ],
          "surface": [
           {
            "colorbar": {
             "outlinewidth": 0,
             "ticks": ""
            },
            "colorscale": [
             [
              0,
              "#0d0887"
             ],
             [
              0.1111111111111111,
              "#46039f"
             ],
             [
              0.2222222222222222,
              "#7201a8"
             ],
             [
              0.3333333333333333,
              "#9c179e"
             ],
             [
              0.4444444444444444,
              "#bd3786"
             ],
             [
              0.5555555555555556,
              "#d8576b"
             ],
             [
              0.6666666666666666,
              "#ed7953"
             ],
             [
              0.7777777777777778,
              "#fb9f3a"
             ],
             [
              0.8888888888888888,
              "#fdca26"
             ],
             [
              1,
              "#f0f921"
             ]
            ],
            "type": "surface"
           }
          ],
          "table": [
           {
            "cells": {
             "fill": {
              "color": "#EBF0F8"
             },
             "line": {
              "color": "white"
             }
            },
            "header": {
             "fill": {
              "color": "#C8D4E3"
             },
             "line": {
              "color": "white"
             }
            },
            "type": "table"
           }
          ]
         },
         "layout": {
          "annotationdefaults": {
           "arrowcolor": "#2a3f5f",
           "arrowhead": 0,
           "arrowwidth": 1
          },
          "autotypenumbers": "strict",
          "coloraxis": {
           "colorbar": {
            "outlinewidth": 0,
            "ticks": ""
           }
          },
          "colorscale": {
           "diverging": [
            [
             0,
             "#8e0152"
            ],
            [
             0.1,
             "#c51b7d"
            ],
            [
             0.2,
             "#de77ae"
            ],
            [
             0.3,
             "#f1b6da"
            ],
            [
             0.4,
             "#fde0ef"
            ],
            [
             0.5,
             "#f7f7f7"
            ],
            [
             0.6,
             "#e6f5d0"
            ],
            [
             0.7,
             "#b8e186"
            ],
            [
             0.8,
             "#7fbc41"
            ],
            [
             0.9,
             "#4d9221"
            ],
            [
             1,
             "#276419"
            ]
           ],
           "sequential": [
            [
             0,
             "#0d0887"
            ],
            [
             0.1111111111111111,
             "#46039f"
            ],
            [
             0.2222222222222222,
             "#7201a8"
            ],
            [
             0.3333333333333333,
             "#9c179e"
            ],
            [
             0.4444444444444444,
             "#bd3786"
            ],
            [
             0.5555555555555556,
             "#d8576b"
            ],
            [
             0.6666666666666666,
             "#ed7953"
            ],
            [
             0.7777777777777778,
             "#fb9f3a"
            ],
            [
             0.8888888888888888,
             "#fdca26"
            ],
            [
             1,
             "#f0f921"
            ]
           ],
           "sequentialminus": [
            [
             0,
             "#0d0887"
            ],
            [
             0.1111111111111111,
             "#46039f"
            ],
            [
             0.2222222222222222,
             "#7201a8"
            ],
            [
             0.3333333333333333,
             "#9c179e"
            ],
            [
             0.4444444444444444,
             "#bd3786"
            ],
            [
             0.5555555555555556,
             "#d8576b"
            ],
            [
             0.6666666666666666,
             "#ed7953"
            ],
            [
             0.7777777777777778,
             "#fb9f3a"
            ],
            [
             0.8888888888888888,
             "#fdca26"
            ],
            [
             1,
             "#f0f921"
            ]
           ]
          },
          "colorway": [
           "#636efa",
           "#EF553B",
           "#00cc96",
           "#ab63fa",
           "#FFA15A",
           "#19d3f3",
           "#FF6692",
           "#B6E880",
           "#FF97FF",
           "#FECB52"
          ],
          "font": {
           "color": "#2a3f5f"
          },
          "geo": {
           "bgcolor": "white",
           "lakecolor": "white",
           "landcolor": "#E5ECF6",
           "showlakes": true,
           "showland": true,
           "subunitcolor": "white"
          },
          "hoverlabel": {
           "align": "left"
          },
          "hovermode": "closest",
          "mapbox": {
           "style": "light"
          },
          "paper_bgcolor": "white",
          "plot_bgcolor": "#E5ECF6",
          "polar": {
           "angularaxis": {
            "gridcolor": "white",
            "linecolor": "white",
            "ticks": ""
           },
           "bgcolor": "#E5ECF6",
           "radialaxis": {
            "gridcolor": "white",
            "linecolor": "white",
            "ticks": ""
           }
          },
          "scene": {
           "xaxis": {
            "backgroundcolor": "#E5ECF6",
            "gridcolor": "white",
            "gridwidth": 2,
            "linecolor": "white",
            "showbackground": true,
            "ticks": "",
            "zerolinecolor": "white"
           },
           "yaxis": {
            "backgroundcolor": "#E5ECF6",
            "gridcolor": "white",
            "gridwidth": 2,
            "linecolor": "white",
            "showbackground": true,
            "ticks": "",
            "zerolinecolor": "white"
           },
           "zaxis": {
            "backgroundcolor": "#E5ECF6",
            "gridcolor": "white",
            "gridwidth": 2,
            "linecolor": "white",
            "showbackground": true,
            "ticks": "",
            "zerolinecolor": "white"
           }
          },
          "shapedefaults": {
           "line": {
            "color": "#2a3f5f"
           }
          },
          "ternary": {
           "aaxis": {
            "gridcolor": "white",
            "linecolor": "white",
            "ticks": ""
           },
           "baxis": {
            "gridcolor": "white",
            "linecolor": "white",
            "ticks": ""
           },
           "bgcolor": "#E5ECF6",
           "caxis": {
            "gridcolor": "white",
            "linecolor": "white",
            "ticks": ""
           }
          },
          "title": {
           "x": 0.05
          },
          "xaxis": {
           "automargin": true,
           "gridcolor": "white",
           "linecolor": "white",
           "ticks": "",
           "title": {
            "standoff": 15
           },
           "zerolinecolor": "white",
           "zerolinewidth": 2
          },
          "yaxis": {
           "automargin": true,
           "gridcolor": "white",
           "linecolor": "white",
           "ticks": "",
           "title": {
            "standoff": 15
           },
           "zerolinecolor": "white",
           "zerolinewidth": 2
          }
         }
        },
        "title": {
         "text": "Распределение вакансий по зарплатным диапазонам"
        },
        "xaxis": {
         "anchor": "y",
         "autorange": true,
         "domain": [
          0,
          1
         ],
         "range": [
          -0.5,
          3.5
         ],
         "title": {
          "text": "Зарплатный диапазон"
         },
         "type": "category"
        },
        "yaxis": {
         "anchor": "x",
         "autorange": true,
         "domain": [
          0,
          1
         ],
         "range": [
          0,
          147.3684210526316
         ],
         "title": {
          "text": "Количество вакансий"
         },
         "type": "linear"
        }
       }
      },
      "image/png": "[encoded data removed]",
      "text/html": [
       "<div>                            <div id=\"c47fba3a-c922-469f-8970-3afaf8ebcd15\" class=\"plotly-graph-div\" style=\"height:500px; width:100%;\"></div>            <script type=\"text/javascript\">                require([\"plotly\"], function(Plotly) {                    window.PLOTLYENV=window.PLOTLYENV || {};                                    if (document.getElementById(\"c47fba3a-c922-469f-8970-3afaf8ebcd15\")) {                    Plotly.newPlot(                        \"c47fba3a-c922-469f-8970-3afaf8ebcd15\",                        [{\"alignmentgroup\":\"True\",\"hovertemplate\":\"\\u0417\\u0430\\u0440\\u043f\\u043b\\u0430\\u0442\\u043d\\u044b\\u0439 \\u0434\\u0438\\u0430\\u043f\\u0430\\u0437\\u043e\\u043d=%{x}\\u003cbr\\u003e\\u041a\\u043e\\u043b\\u0438\\u0447\\u0435\\u0441\\u0442\\u0432\\u043e \\u0432\\u0430\\u043a\\u0430\\u043d\\u0441\\u0438\\u0439=%{marker.color}\\u003cextra\\u003e\\u003c\\u002fextra\\u003e\",\"legendgroup\":\"\",\"marker\":{\"color\":[20,20,140,120],\"coloraxis\":\"coloraxis\",\"pattern\":{\"shape\":\"\"}},\"name\":\"\",\"offsetgroup\":\"\",\"orientation\":\"v\",\"showlegend\":false,\"textposition\":\"auto\",\"texttemplate\":\"%{y}\",\"x\":[\"40-60k\",\"60-75k\",\"75-105k\",\"105k+\"],\"xaxis\":\"x\",\"y\":[20,20,140,120],\"yaxis\":\"y\",\"type\":\"bar\"}],                        {\"template\":{\"data\":{\"histogram2dcontour\":[{\"type\":\"histogram2dcontour\",\"colorbar\":{\"outlinewidth\":0,\"ticks\":\"\"},\"colorscale\":[[0.0,\"#0d0887\"],[0.1111111111111111,\"#46039f\"],[0.2222222222222222,\"#7201a8\"],[0.3333333333333333,\"#9c179e\"],[0.4444444444444444,\"#bd3786\"],[0.5555555555555556,\"#d8576b\"],[0.6666666666666666,\"#ed7953\"],[0.7777777777777778,\"#fb9f3a\"],[0.8888888888888888,\"#fdca26\"],[1.0,\"#f0f921\"]]}],\"choropleth\":[{\"type\":\"choropleth\",\"colorbar\":{\"outlinewidth\":0,\"ticks\":\"\"}}],\"histogram2d\":[{\"type\":\"histogram2d\",\"colorbar\":{\"outlinewidth\":0,\"ticks\":\"\"},\"colorscale\":[[0.0,\"#0d0887\"],[0.1111111111111111,\"#46039f\"],[0.2222222222222222,\"#7201a8\"],[0.3333333333333333,\"#9c179e\"],[0.4444444444444444,\"#bd3786\"],[0.5555555555555556,\"#d8576b\"],[0.6666666666666666,\"#ed7953\"],[0.7777777777777778,\"#fb9f3a\"],[0.8888888888888888,\"#fdca26\"],[1.0,\"#f0f921\"]]}],\"heatmap\":[{\"type\":\"heatmap\",\"colorbar\":{\"outlinewidth\":0,\"ticks\":\"\"},\"colorscale\":[[0.0,\"#0d0887\"],[0.1111111111111111,\"#46039f\"],[0.2222222222222222,\"#7201a8\"],[0.3333333333333333,\"#9c179e\"],[0.4444444444444444,\"#bd3786\"],[0.5555555555555556,\"#d8576b\"],[0.6666666666666666,\"#ed7953\"],[0.7777777777777778,\"#fb9f3a\"],[0.8888888888888888,\"#fdca26\"],[1.0,\"#f0f921\"]]}],\"heatmapgl\":[{\"type\":\"heatmapgl\",\"colorbar\":{\"outlinewidth\":0,\"ticks\":\"\"},\"colorscale\":[[0.0,\"#0d0887\"],[0.1111111111111111,\"#46039f\"],[0.2222222222222222,\"#7201a8\"],[0.3333333333333333,\"#9c179e\"],[0.4444444444444444,\"#bd3786\"],[0.5555555555555556,\"#d8576b\"],[0.6666666666666666,\"#ed7953\"],[0.7777777777777778,\"#fb9f3a\"],[0.8888888888888888,\"#fdca26\"],[1.0,\"#f0f921\"]]}],\"contourcarpet\":[{\"type\":\"contourcarpet\",\"colorbar\":{\"outlinewidth\":0,\"ticks\":\"\"}}],\"contour\":[{\"type\":\"contour\",\"colorbar\":{\"outlinewidth\":0,\"ticks\":\"\"},\"colorscale\":[[0.0,\"#0d0887\"],[0.1111111111111111,\"#46039f\"],[0.2222222222222222,\"#7201a8\"],[0.3333333333333333,\"#9c179e\"],[0.4444444444444444,\"#bd3786\"],[0.5555555555555556,\"#d8576b\"],[0.6666666666666666,\"#ed7953\"],[0.7777777777777778,\"#fb9f3a\"],[0.8888888888888888,\"#fdca26\"],[1.0,\"#f0f921\"]]}],\"surface\":[{\"type\":\"surface\",\"colorbar\":{\"outlinewidth\":0,\"ticks\":\"\"},\"colorscale\":[[0.0,\"#0d0887\"],[0.1111111111111111,\"#46039f\"],[0.2222222222222222,\"#7201a8\"],[0.3333333333333333,\"#9c179e\"],[0.4444444444444444,\"#bd3786\"],[0.5555555555555556,\"#d8576b\"],[0.6666666666666666,\"#ed7953\"],[0.7777777777777778,\"#fb9f3a\"],[0.8888888888888888,\"#fdca26\"],[1.0,\"#f0f921\"]]}],\"mesh3d\":[{\"type\":\"mesh3d\",\"colorbar\":{\"outlinewidth\":0,\"ticks\":\"\"}}],\"scatter\":[{\"fillpattern\":{\"fillmode\":\"overlay\",\"size\":10,\"solidity\":0.2},\"type\":\"scatter\"}],\"parcoords\":[{\"type\":\"parcoords\",\"line\":{\"colorbar\":{\"outlinewidth\":0,\"ticks\":\"\"}}}],\"scatterpolargl\":[{\"type\":\"scatterpolargl\",\"marker\":{\"colorbar\":{\"outlinewidth\":0,\"ticks\":\"\"}}}],\"bar\":[{\"error_x\":{\"color\":\"#2a3f5f\"},\"error_y\":{\"color\":\"#2a3f5f\"},\"marker\":{\"line\":{\"color\":\"#E5ECF6\",\"width\":0.5},\"pattern\":{\"fillmode\":\"overlay\",\"size\":10,\"solidity\":0.2}},\"type\":\"bar\"}],\"scattergeo\":[{\"type\":\"scattergeo\",\"marker\":{\"colorbar\":{\"outlinewidth\":0,\"ticks\":\"\"}}}],\"scatterpolar\":[{\"type\":\"scatterpolar\",\"marker\":{\"colorbar\":{\"outlinewidth\":0,\"ticks\":\"\"}}}],\"histogram\":[{\"marker\":{\"pattern\":{\"fillmode\":\"overlay\",\"size\":10,\"solidity\":0.2}},\"type\":\"histogram\"}],\"scattergl\":[{\"type\":\"scattergl\",\"marker\":{\"colorbar\":{\"outlinewidth\":0,\"ticks\":\"\"}}}],\"scatter3d\":[{\"type\":\"scatter3d\",\"line\":{\"colorbar\":{\"outlinewidth\":0,\"ticks\":\"\"}},\"marker\":{\"colorbar\":{\"outlinewidth\":0,\"ticks\":\"\"}}}],\"scattermapbox\":[{\"type\":\"scattermapbox\",\"marker\":{\"colorbar\":{\"outlinewidth\":0,\"ticks\":\"\"}}}],\"scatterternary\":[{\"type\":\"scatterternary\",\"marker\":{\"colorbar\":{\"outlinewidth\":0,\"ticks\":\"\"}}}],\"scattercarpet\":[{\"type\":\"scattercarpet\",\"marker\":{\"colorbar\":{\"outlinewidth\":0,\"ticks\":\"\"}}}],\"carpet\":[{\"aaxis\":{\"endlinecolor\":\"#2a3f5f\",\"gridcolor\":\"white\",\"linecolor\":\"white\",\"minorgridcolor\":\"white\",\"startlinecolor\":\"#2a3f5f\"},\"baxis\":{\"endlinecolor\":\"#2a3f5f\",\"gridcolor\":\"white\",\"linecolor\":\"white\",\"minorgridcolor\":\"white\",\"startlinecolor\":\"#2a3f5f\"},\"type\":\"carpet\"}],\"table\":[{\"cells\":{\"fill\":{\"color\":\"#EBF0F8\"},\"line\":{\"color\":\"white\"}},\"header\":{\"fill\":{\"color\":\"#C8D4E3\"},\"line\":{\"color\":\"white\"}},\"type\":\"table\"}],\"barpolar\":[{\"marker\":{\"line\":{\"color\":\"#E5ECF6\",\"width\":0.5},\"pattern\":{\"fillmode\":\"overlay\",\"size\":10,\"solidity\":0.2}},\"type\":\"barpolar\"}],\"pie\":[{\"automargin\":true,\"type\":\"pie\"}]},\"layout\":{\"autotypenumbers\":\"strict\",\"colorway\":[\"#636efa\",\"#EF553B\",\"#00cc96\",\"#ab63fa\",\"#FFA15A\",\"#19d3f3\",\"#FF6692\",\"#B6E880\",\"#FF97FF\",\"#FECB52\"],\"font\":{\"color\":\"#2a3f5f\"},\"hovermode\":\"closest\",\"hoverlabel\":{\"align\":\"left\"},\"paper_bgcolor\":\"white\",\"plot_bgcolor\":\"#E5ECF6\",\"polar\":{\"bgcolor\":\"#E5ECF6\",\"angularaxis\":{\"gridcolor\":\"white\",\"linecolor\":\"white\",\"ticks\":\"\"},\"radialaxis\":{\"gridcolor\":\"white\",\"linecolor\":\"white\",\"ticks\":\"\"}},\"ternary\":{\"bgcolor\":\"#E5ECF6\",\"aaxis\":{\"gridcolor\":\"white\",\"linecolor\":\"white\",\"ticks\":\"\"},\"baxis\":{\"gridcolor\":\"white\",\"linecolor\":\"white\",\"ticks\":\"\"},\"caxis\":{\"gridcolor\":\"white\",\"linecolor\":\"white\",\"ticks\":\"\"}},\"coloraxis\":{\"colorbar\":{\"outlinewidth\":0,\"ticks\":\"\"}},\"colorscale\":{\"sequential\":[[0.0,\"#0d0887\"],[0.1111111111111111,\"#46039f\"],[0.2222222222222222,\"#7201a8\"],[0.3333333333333333,\"#9c179e\"],[0.4444444444444444,\"#bd3786\"],[0.5555555555555556,\"#d8576b\"],[0.6666666666666666,\"#ed7953\"],[0.7777777777777778,\"#fb9f3a\"],[0.8888888888888888,\"#fdca26\"],[1.0,\"#f0f921\"]],\"sequentialminus\":[[0.0,\"#0d0887\"],[0.1111111111111111,\"#46039f\"],[0.2222222222222222,\"#7201a8\"],[0.3333333333333333,\"#9c179e\"],[0.4444444444444444,\"#bd3786\"],[0.5555555555555556,\"#d8576b\"],[0.6666666666666666,\"#ed7953\"],[0.7777777777777778,\"#fb9f3a\"],[0.8888888888888888,\"#fdca26\"],[1.0,\"#f0f921\"]],\"diverging\":[[0,\"#8e0152\"],[0.1,\"#c51b7d\"],[0.2,\"#de77ae\"],[0.3,\"#f1b6da\"],[0.4,\"#fde0ef\"],[0.5,\"#f7f7f7\"],[0.6,\"#e6f5d0\"],[0.7,\"#b8e186\"],[0.8,\"#7fbc41\"],[0.9,\"#4d9221\"],[1,\"#276419\"]]},\"xaxis\":{\"gridcolor\":\"white\",\"linecolor\":\"white\",\"ticks\":\"\",\"title\":{\"standoff\":15},\"zerolinecolor\":\"white\",\"automargin\":true,\"zerolinewidth\":2},\"yaxis\":{\"gridcolor\":\"white\",\"linecolor\":\"white\",\"ticks\":\"\",\"title\":{\"standoff\":15},\"zerolinecolor\":\"white\",\"automargin\":true,\"zerolinewidth\":2},\"scene\":{\"xaxis\":{\"backgroundcolor\":\"#E5ECF6\",\"gridcolor\":\"white\",\"linecolor\":\"white\",\"showbackground\":true,\"ticks\":\"\",\"zerolinecolor\":\"white\",\"gridwidth\":2},\"yaxis\":{\"backgroundcolor\":\"#E5ECF6\",\"gridcolor\":\"white\",\"linecolor\":\"white\",\"showbackground\":true,\"ticks\":\"\",\"zerolinecolor\":\"white\",\"gridwidth\":2},\"zaxis\":{\"backgroundcolor\":\"#E5ECF6\",\"gridcolor\":\"white\",\"linecolor\":\"white\",\"showbackground\":true,\"ticks\":\"\",\"zerolinecolor\":\"white\",\"gridwidth\":2}},\"shapedefaults\":{\"line\":{\"color\":\"#2a3f5f\"}},\"annotationdefaults\":{\"arrowcolor\":\"#2a3f5f\",\"arrowhead\":0,\"arrowwidth\":1},\"geo\":{\"bgcolor\":\"white\",\"landcolor\":\"#E5ECF6\",\"subunitcolor\":\"white\",\"showland\":true,\"showlakes\":true,\"lakecolor\":\"white\"},\"title\":{\"x\":0.05},\"mapbox\":{\"style\":\"light\"}}},\"xaxis\":{\"anchor\":\"y\",\"domain\":[0.0,1.0],\"title\":{\"text\":\"\\u0417\\u0430\\u0440\\u043f\\u043b\\u0430\\u0442\\u043d\\u044b\\u0439 \\u0434\\u0438\\u0430\\u043f\\u0430\\u0437\\u043e\\u043d\"}},\"yaxis\":{\"anchor\":\"x\",\"domain\":[0.0,1.0],\"title\":{\"text\":\"\\u041a\\u043e\\u043b\\u0438\\u0447\\u0435\\u0441\\u0442\\u0432\\u043e \\u0432\\u0430\\u043a\\u0430\\u043d\\u0441\\u0438\\u0439\"}},\"coloraxis\":{\"colorbar\":{\"title\":{\"text\":\"\\u041a\\u043e\\u043b\\u0438\\u0447\\u0435\\u0441\\u0442\\u0432\\u043e \\u0432\\u0430\\u043a\\u0430\\u043d\\u0441\\u0438\\u0439\"}},\"colorscale\":[[0.0,\"rgb(0, 128, 128)\"],[0.16666666666666666,\"rgb(112, 164, 148)\"],[0.3333333333333333,\"rgb(180, 200, 168)\"],[0.5,\"rgb(246, 237, 189)\"],[0.6666666666666666,\"rgb(237, 187, 138)\"],[0.8333333333333334,\"rgb(222, 138, 90)\"],[1.0,\"rgb(202, 86, 44)\"]]},\"legend\":{\"tracegroupgap\":0},\"title\":{\"text\":\"\\u0420\\u0430\\u0441\\u043f\\u0440\\u0435\\u0434\\u0435\\u043b\\u0435\\u043d\\u0438\\u0435 \\u0432\\u0430\\u043a\\u0430\\u043d\\u0441\\u0438\\u0439 \\u043f\\u043e \\u0437\\u0430\\u0440\\u043f\\u043b\\u0430\\u0442\\u043d\\u044b\\u043c \\u0434\\u0438\\u0430\\u043f\\u0430\\u0437\\u043e\\u043d\\u0430\\u043c\"},\"barmode\":\"relative\",\"height\":500},                        {\"responsive\": true}                    ).then(function(){\n",
       "                            \n",
       "var gd = document.getElementById('c47fba3a-c922-469f-8970-3afaf8ebcd15');\n",
       "var x = new MutationObserver(function (mutations, observer) {{\n",
       "        var display = window.getComputedStyle(gd).display;\n",
       "        if (!display || display === 'none') {{\n",
       "            console.log([gd, 'removed!']);\n",
       "            Plotly.purge(gd);\n",
       "            observer.disconnect();\n",
       "        }}\n",
       "}});\n",
       "\n",
       "// Listen for the removal of the full notebook cells\n",
       "var notebookContainer = gd.closest('#notebook-container');\n",
       "if (notebookContainer) {{\n",
       "    x.observe(notebookContainer, {childList: true});\n",
       "}}\n",
       "\n",
       "// Listen for the clearing of the current output cell\n",
       "var outputEl = gd.closest('.output');\n",
       "if (outputEl) {{\n",
       "    x.observe(outputEl, {childList: true});\n",
       "}}\n",
       "\n",
       "                        })                };                });            </script>        </div>"
      ]
     },
     "metadata": {},
     "output_type": "display_data"
    }
   ],
   "source": [
    "import pandas as pd\n",
    "import plotly.express as px\n",
    "\n",
    "df_1 = pd.DataFrame(vacancies, columns=[\"Вакансия\", \"Зарплата\"])\n",
    "df_1 = df_1[(df_1[\"Зарплата\"] >= 40000) & (df_1[\"Зарплата\"] <= 120000)]\n",
    "\n",
    "# Определяем диапазоны зарплат\n",
    "bins = [40000, 60000, 75000, 105000, 115000]\n",
    "labels = [\"40-60k\", \"60-75k\", \"75-105k\", '105k+']\n",
    "df_1[\"Диапазон зарплат\"] = pd.cut(df_1[\"Зарплата\"], bins=bins, labels=labels) # Делим на диапазоны\n",
    "\n",
    "# Группировка по диапазонам и подсчет количества вакансий \n",
    "df_cleaning_grouped_1 = df_1[\"Диапазон зарплат\"].value_counts().reset_index()\n",
    "df_cleaning_grouped_1.columns = [\"Диапазон зарплат\", \"Количество вакансий\"]\n",
    "df_cleaning_grouped_1 = df_cleaning_grouped_1.sort_values(\"Диапазон зарплат\")\n",
    "\n",
    "fig_clean_diap = px.bar(\n",
    "    df_cleaning_grouped_1,\n",
    "    x=\"Диапазон зарплат\",\n",
    "    y=\"Количество вакансий\",\n",
    "    title=\"Распределение вакансий по зарплатным диапазонам\",\n",
    "    labels={\"Количество вакансий\": \"Количество вакансий\", \"Диапазон зарплат\": \"Зарплатный диапазон\"},\n",
    "    color=\"Количество вакансий\",\n",
    "    color_continuous_scale=\"geyser\",\n",
    "    text_auto=True\n",
    ")\n",
    "\n",
    "fig_clean_diap.update_layout(height=500)\n",
    "fig_clean_diap.show()\n"
   ]
  },
  {
   "cell_type": "code",
   "execution_count": null,
   "metadata": {},
   "outputs": [],
   "source": []
  }
 ],
 "metadata": {
  "colab": {
   "provenance": []
  },
  "kernelspec": {
   "display_name": "Python 3 (ipykernel)",
   "language": "python",
   "name": "python3"
  },
  "language_info": {
   "codemirror_mode": {
    "name": "ipython",
    "version": 3
   },
   "file_extension": ".py",
   "mimetype": "text/x-python",
   "name": "python",
   "nbconvert_exporter": "python",
   "pygments_lexer": "ipython3",
   "version": "3.12.9"
  }
 },
 "nbformat": 4,
 "nbformat_minor": 4
}
